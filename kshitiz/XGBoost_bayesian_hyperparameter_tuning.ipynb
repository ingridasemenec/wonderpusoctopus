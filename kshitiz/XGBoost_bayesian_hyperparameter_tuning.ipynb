{
  "nbformat": 4,
  "nbformat_minor": 0,
  "metadata": {
    "colab": {
      "provenance": [],
      "gpuType": "L4"
    },
    "kernelspec": {
      "name": "python3",
      "display_name": "Python 3"
    },
    "language_info": {
      "name": "python"
    },
    "accelerator": "GPU"
  },
  "cells": [
    {
      "cell_type": "code",
      "execution_count": 1,
      "metadata": {
        "colab": {
          "base_uri": "https://localhost:8080/"
        },
        "id": "YeiBje8h0Ohh",
        "outputId": "6b12a3c1-3c10-49e7-f54c-5d557162d47c"
      },
      "outputs": [
        {
          "output_type": "stream",
          "name": "stdout",
          "text": [
            "Collecting shap\n",
            "  Downloading shap-0.46.0-cp310-cp310-manylinux_2_12_x86_64.manylinux2010_x86_64.manylinux_2_17_x86_64.manylinux2014_x86_64.whl.metadata (24 kB)\n",
            "Requirement already satisfied: numpy in /usr/local/lib/python3.10/dist-packages (from shap) (1.26.4)\n",
            "Requirement already satisfied: scipy in /usr/local/lib/python3.10/dist-packages (from shap) (1.13.1)\n",
            "Requirement already satisfied: scikit-learn in /usr/local/lib/python3.10/dist-packages (from shap) (1.3.2)\n",
            "Requirement already satisfied: pandas in /usr/local/lib/python3.10/dist-packages (from shap) (2.1.4)\n",
            "Requirement already satisfied: tqdm>=4.27.0 in /usr/local/lib/python3.10/dist-packages (from shap) (4.66.5)\n",
            "Requirement already satisfied: packaging>20.9 in /usr/local/lib/python3.10/dist-packages (from shap) (24.1)\n",
            "Collecting slicer==0.0.8 (from shap)\n",
            "  Downloading slicer-0.0.8-py3-none-any.whl.metadata (4.0 kB)\n",
            "Requirement already satisfied: numba in /usr/local/lib/python3.10/dist-packages (from shap) (0.60.0)\n",
            "Requirement already satisfied: cloudpickle in /usr/local/lib/python3.10/dist-packages (from shap) (2.2.1)\n",
            "Requirement already satisfied: llvmlite<0.44,>=0.43.0dev0 in /usr/local/lib/python3.10/dist-packages (from numba->shap) (0.43.0)\n",
            "Requirement already satisfied: python-dateutil>=2.8.2 in /usr/local/lib/python3.10/dist-packages (from pandas->shap) (2.8.2)\n",
            "Requirement already satisfied: pytz>=2020.1 in /usr/local/lib/python3.10/dist-packages (from pandas->shap) (2024.1)\n",
            "Requirement already satisfied: tzdata>=2022.1 in /usr/local/lib/python3.10/dist-packages (from pandas->shap) (2024.1)\n",
            "Requirement already satisfied: joblib>=1.1.1 in /usr/local/lib/python3.10/dist-packages (from scikit-learn->shap) (1.4.2)\n",
            "Requirement already satisfied: threadpoolctl>=2.0.0 in /usr/local/lib/python3.10/dist-packages (from scikit-learn->shap) (3.5.0)\n",
            "Requirement already satisfied: six>=1.5 in /usr/local/lib/python3.10/dist-packages (from python-dateutil>=2.8.2->pandas->shap) (1.16.0)\n",
            "Downloading shap-0.46.0-cp310-cp310-manylinux_2_12_x86_64.manylinux2010_x86_64.manylinux_2_17_x86_64.manylinux2014_x86_64.whl (540 kB)\n",
            "\u001b[2K   \u001b[90m━━━━━━━━━━━━━━━━━━━━━━━━━━━━━━━━━━━━━━━━\u001b[0m \u001b[32m540.1/540.1 kB\u001b[0m \u001b[31m14.2 MB/s\u001b[0m eta \u001b[36m0:00:00\u001b[0m\n",
            "\u001b[?25hDownloading slicer-0.0.8-py3-none-any.whl (15 kB)\n",
            "Installing collected packages: slicer, shap\n",
            "Successfully installed shap-0.46.0 slicer-0.0.8\n"
          ]
        }
      ],
      "source": [
        "##Importing the required libraries\n",
        "\n",
        "import time\n",
        "import numpy as np\n",
        "import pandas as pd\n",
        "import matplotlib.pyplot as plt\n",
        "from google.colab import files\n",
        "from google.colab import drive\n",
        "plt.rcParams.update({'font.size': 12})\n",
        "\n",
        "##bayesian optimization baased hyperOpt library\n",
        "from hyperopt import hp, fmin, tpe, STATUS_OK, Trials, space_eval\n",
        "\n",
        "##Libraries for cross validation\n",
        "from sklearn.model_selection import KFold, cross_val_score\n",
        "from sklearn.metrics import mean_squared_error, mean_absolute_percentage_error\n",
        "\n",
        "##Libraries for ensemble methods considered in the study\n",
        "from xgboost import XGBRegressor\n",
        "\n",
        "!pip install shap\n",
        "import shap"
      ]
    },
    {
      "cell_type": "code",
      "source": [
        "drive.mount('/content/gdrive')\n",
        "data_path = '/content/gdrive/MyDrive/new_atlantis/data/'\n",
        "random_seed = 216"
      ],
      "metadata": {
        "colab": {
          "base_uri": "https://localhost:8080/"
        },
        "id": "MzsK3Cx50tCJ",
        "outputId": "6d19b246-8d5a-4103-8c7b-e19776219666"
      },
      "execution_count": 2,
      "outputs": [
        {
          "output_type": "stream",
          "name": "stdout",
          "text": [
            "Mounted at /content/gdrive\n"
          ]
        }
      ]
    },
    {
      "cell_type": "markdown",
      "source": [
        "## Load Data\n"
      ],
      "metadata": {
        "id": "FyqCVD3J0u0R"
      }
    },
    {
      "cell_type": "code",
      "source": [
        "X_train = pd.read_csv(data_path + 'X_train_train_049depth.csv').drop(columns=['Unnamed: 0', 'latitude', 'longitude'])\n",
        "y_train = pd.read_csv(data_path + 'y_train_train_049depth.csv').drop(columns=['Unnamed: 0']).values"
      ],
      "metadata": {
        "id": "IFwXT93K1EQ1"
      },
      "execution_count": 10,
      "outputs": []
    },
    {
      "cell_type": "code",
      "source": [
        "X_train.shape, y_train.shape"
      ],
      "metadata": {
        "colab": {
          "base_uri": "https://localhost:8080/"
        },
        "id": "dctEb5pL1JIQ",
        "outputId": "f325b41f-c957-4c3a-fff6-5f6fd7ac5e5e"
      },
      "execution_count": 4,
      "outputs": [
        {
          "output_type": "execute_result",
          "data": {
            "text/plain": [
              "((237262, 17), (237262, 1))"
            ]
          },
          "metadata": {},
          "execution_count": 4
        }
      ]
    },
    {
      "cell_type": "code",
      "source": [
        "feature_names = X_train.columns.tolist()\n",
        "feature_names"
      ],
      "metadata": {
        "colab": {
          "base_uri": "https://localhost:8080/"
        },
        "id": "ePsdj-eyBT0r",
        "outputId": "048161b6-ecb3-4183-c60e-0e17f534e0e7"
      },
      "execution_count": 12,
      "outputs": [
        {
          "output_type": "execute_result",
          "data": {
            "text/plain": [
              "['year',\n",
              " 'month',\n",
              " 'fgco2',\n",
              " 'omega_ar',\n",
              " 'omega_ca',\n",
              " 'ph',\n",
              " 'spco2',\n",
              " 'talk',\n",
              " 'tco2',\n",
              " 'fe',\n",
              " 'no3',\n",
              " 'o2',\n",
              " 'po4',\n",
              " 'si',\n",
              " 'sos',\n",
              " 'dos',\n",
              " 'analysed_sst']"
            ]
          },
          "metadata": {},
          "execution_count": 12
        }
      ]
    },
    {
      "cell_type": "code",
      "source": [
        "X_train = X_train.values"
      ],
      "metadata": {
        "id": "bbroiagVBZ9p"
      },
      "execution_count": 13,
      "outputs": []
    },
    {
      "cell_type": "code",
      "source": [
        "X_val = pd.read_csv(data_path + 'X_train_test_049depth.csv').drop(columns=['Unnamed: 0', 'latitude', 'longitude']).values\n",
        "y_val = pd.read_csv(data_path + 'y_train_test_049depth.csv').drop(columns=['Unnamed: 0']).values"
      ],
      "metadata": {
        "id": "XxHQMJ6l1HUM"
      },
      "execution_count": 5,
      "outputs": []
    },
    {
      "cell_type": "code",
      "source": [
        "X_val.shape, y_val.shape"
      ],
      "metadata": {
        "colab": {
          "base_uri": "https://localhost:8080/"
        },
        "id": "jDGTMtrf1QZs",
        "outputId": "56455975-9d6a-4aa3-e439-36ec80ef5031"
      },
      "execution_count": 6,
      "outputs": [
        {
          "output_type": "execute_result",
          "data": {
            "text/plain": [
              "((79088, 17), (79088, 1))"
            ]
          },
          "metadata": {},
          "execution_count": 6
        }
      ]
    },
    {
      "cell_type": "code",
      "source": [
        "X_test = pd.read_csv(data_path + 'X_test_049depth.csv').drop(columns=['Unnamed: 0'])\n",
        "y_test = pd.read_csv(data_path + 'y_test_049depth.csv').drop(columns=['Unnamed: 0'])"
      ],
      "metadata": {
        "id": "P7gqqNxs2Anj"
      },
      "execution_count": 16,
      "outputs": []
    },
    {
      "cell_type": "code",
      "source": [
        "X_test.shape, y_test.shape"
      ],
      "metadata": {
        "colab": {
          "base_uri": "https://localhost:8080/"
        },
        "id": "GvbTYRYL2FYz",
        "outputId": "528b8aa6-4f20-4f0b-bea7-26e6f6235b41"
      },
      "execution_count": 17,
      "outputs": [
        {
          "output_type": "execute_result",
          "data": {
            "text/plain": [
              "((105451, 19), (105451, 1))"
            ]
          },
          "metadata": {},
          "execution_count": 17
        }
      ]
    },
    {
      "cell_type": "markdown",
      "source": [
        "## Helper functions"
      ],
      "metadata": {
        "id": "4cdp05-W37ao"
      }
    },
    {
      "cell_type": "code",
      "source": [
        "def rmse(y_true, y_pred):\n",
        "    return np.sqrt(mean_squared_error(y_true, y_pred))\n",
        "\n",
        "def mape(y_true, y_pred):\n",
        "    return mean_absolute_percentage_error(y_true, y_pred)"
      ],
      "metadata": {
        "id": "3b7dBMTK364O"
      },
      "execution_count": 7,
      "outputs": []
    },
    {
      "cell_type": "code",
      "source": [
        "##Code for using hyperopt for hysperparameter search to optimize RMSE is taken from\n",
        "##https://www.kaggle.com/rendyk/bayesian-optimization-bayes-opt-or-fmin#hyperopt\n",
        "##https://districtdatalabs.silvrback.com/parameter-tuning-with-hyperopt\n",
        "\n",
        "##Function to compute the optimal hyperparamter values using hyperOpt\n",
        "def opt_hyperparameter(parameter_space,func_model,max_iterations):\n",
        "    \"\"\"\n",
        "    Parameters\n",
        "    ----------\n",
        "    parameter_space : dict\n",
        "        parameter space to be explored for optimizing F1 score where each key refers to a hyperparamter\n",
        "        and that key's corresponding value defines the space to be explored for that hyperparamter\n",
        "    func_model : value-returning function\n",
        "        To be minimized by hyperopt.fmin(). In our case, since we want to minimize rmse, func_model returns\n",
        "        as mean rmse from 5-fold cross validation\n",
        "    max_iterations : Int\n",
        "        maximum number of evaluations the fmin function will perform\n",
        "\n",
        "    Output\n",
        "    ------\n",
        "    best: dict\n",
        "        Optimal hyperparameter values obtained from fmin\n",
        "    trials: object of type hyperopt.base.Trials\n",
        "        Contains various outputs/characteristics after each evaluation, can be used to analysis\n",
        "        the optimization history\n",
        "    \"\"\"\n",
        "\n",
        "    trials = Trials()\n",
        "    best = fmin(fn = func_model, space = parameter_space, algo=tpe.suggest, max_evals=max_iterations, trials=trials)\n",
        "\n",
        "    return best, trials\n",
        "\n",
        "##================================\n",
        "##Function for plotting optimization history (RMSE vs iteration number)\n",
        "##Taken from https://www.kaggle.com/fanvacoolt/tutorial-on-hyperopt\n",
        "def optimization_history(trials):\n",
        "    \"\"\"\n",
        "    Parameters\n",
        "    ----------\n",
        "    trials: object of type hyperopt.base.Trials\n",
        "        Contains various outputs/characteristics after each evaluation, can be used to analysis\n",
        "        the optimization history\n",
        "    \"\"\"\n",
        "\n",
        "    plt.figure(figsize=(12, 6))\n",
        "    plt.plot(range(1, len(trials) + 1), [x['result']['loss'] for x in trials],\n",
        "            color='red', marker='.', linewidth=0)\n",
        "    plt.xlabel('Iteration', fontsize=12)\n",
        "    plt.ylabel('RMSE', fontsize=12)\n",
        "    plt.title('Optimization history', fontsize=14)\n",
        "    plt.grid(True)"
      ],
      "metadata": {
        "id": "IIGEmjYN_9li"
      },
      "execution_count": 8,
      "outputs": []
    },
    {
      "cell_type": "markdown",
      "source": [
        "## Baseline model\n",
        "\n",
        "Prediction = average value of chlorophyll in the train set"
      ],
      "metadata": {
        "id": "RnuZ7O7h3Xyw"
      }
    },
    {
      "cell_type": "code",
      "source": [
        "baseline_model = np.mean(y_train)\n",
        "print(f'Baseline model prediction: {baseline_model}')"
      ],
      "metadata": {
        "colab": {
          "base_uri": "https://localhost:8080/"
        },
        "id": "9x4kff1w3gCu",
        "outputId": "d3008206-4780-4b72-d6b7-457adafb6bcf"
      },
      "execution_count": 19,
      "outputs": [
        {
          "output_type": "stream",
          "name": "stdout",
          "text": [
            "Baseline model prediction: 1.2473373493659838\n"
          ]
        }
      ]
    },
    {
      "cell_type": "code",
      "source": [
        "print(f\"RMSE for baseline model: {rmse(y_val, np.ones(len(y_val))*baseline_model):.5f}\")\n",
        "print(f\"MAPE for baseline model: {mape(y_val, np.ones(len(y_val))*baseline_model):.5f}\")"
      ],
      "metadata": {
        "colab": {
          "base_uri": "https://localhost:8080/"
        },
        "id": "OjU2Mczz35gr",
        "outputId": "01c058ab-04d8-4e73-cb9d-65340984a85d"
      },
      "execution_count": 20,
      "outputs": [
        {
          "output_type": "stream",
          "name": "stdout",
          "text": [
            "RMSE for baseline model: 1.03209\n",
            "MAPE for baseline model: 1.08389\n"
          ]
        }
      ]
    },
    {
      "cell_type": "markdown",
      "source": [
        "## XGBoost model"
      ],
      "metadata": {
        "id": "SWonsE-F9TsE"
      }
    },
    {
      "cell_type": "markdown",
      "source": [
        "Using Bayesian Hyperparameter tuning framework to get the best parameters\n",
        "\n",
        "**NOTE: Running on CPU might be too slow**\n",
        "\n",
        "**Also may get different parameter set, but optimal rmse should be around ~0.35**"
      ],
      "metadata": {
        "id": "oBsmbrWvIPzv"
      }
    },
    {
      "cell_type": "code",
      "source": [
        "##Code for using hyperopt for hysperparameter search to optimze RMSE taken from\n",
        "##https://www.kaggle.com/rendyk/bayesian-optimization-bayes-opt-or-fmin#hyperopt\n",
        "##https://districtdatalabs.silvrback.com/parameter-tuning-with-hyperopt\n",
        "\n",
        "##Define the hyperparamterparamter space\n",
        "xgbr_param_space = {'max_depth': hp.choice('max_depth', range(3,9)),\n",
        "                    'learning_rate': hp.uniform('learning_rate',0.01,0.5),\n",
        "                    'subsample': hp.uniform('subsample',0.5,1.0),\n",
        "                    'n_estimators': hp.choice('n_estimators', range(100,1000)),\n",
        "                    'reg_lambda': hp.uniform('reg_lambda',0,5), #L2 regularization\n",
        "                    'reg_alpha': hp.uniform('reg_alpha',0,5), #L1 regularization\n",
        "                    'min_child_weight': hp.uniform('min_child_weight',0,10),\n",
        "                    'gamma': hp.uniform('gamma',0,0.5),\n",
        "                    'colsample_bytree': hp.uniform('colsample_bytree',0.5,1.0)}\n",
        "\n",
        "best = 0\n",
        "##The function to be optimized by hyperopt.fmin(), i.e. output of this function is mean rmse (averaged over k-fold CV)\n",
        "##which is being optimized by hyprOpt.fmin().\n",
        "def xgbr_func(params):\n",
        "    global best\n",
        "    print(params)\n",
        "\n",
        "    ##Define XGBoost regressor\n",
        "    ##NOTE: couldn't find RMSE equivalent among inbuilt obj functions in xgboost\n",
        "    ##https://xgboost.readthedocs.io/en/latest/parameter.html\n",
        "    reg = XGBRegressor(tree_method='hist',objective='reg:squarederror', device=\"cuda\",\n",
        "                       random_state=random_seed,**params)\n",
        "    ##Compute the mean score for kfold cross validation\n",
        "    score = cross_val_score(reg, X_train, y_train, scoring='neg_root_mean_squared_error', cv=5).mean()\n",
        "    ##For keeping track of optimal f1-score, print the score everytime a better value is found\n",
        "    if score > best:\n",
        "        best = score\n",
        "        print ('new best:', best)\n",
        "\n",
        "    ##returning -ve of score because hyperopt.fmin() minimizes a function. So in our we are minimizing -ve of f1-score.\n",
        "    return {'loss': -score, 'status': STATUS_OK}\n",
        "\n",
        "##Start the timer for hyperparamter optimization\n",
        "start = time.time()\n",
        "##Max number of evaluations for hyperopt.fmin()\n",
        "max_iterations = 50\n",
        "##Find the optimal hyperparamter set. Also storing the optimization history\n",
        "xgbr_param_space_indices, xgbr_trials = opt_hyperparameter(xgbr_param_space,xgbr_func,max_iterations)\n",
        "##Obtain the hyperparamter values in the hyperparamter space defined by xgbc_param_space_indices\n",
        "xgbr_best_hp = space_eval(xgbr_param_space,xgbr_param_space_indices)\n",
        "\n",
        "print('It takes %s minutes' % ((time.time() - start)/60))\n",
        "print('---------------Optimal Hyperparamter Set-------------------')\n",
        "print(xgbr_best_hp)\n",
        "print('---------------Optimization History-------------------')\n",
        "optimization_history(xgbr_trials)"
      ],
      "metadata": {
        "colab": {
          "base_uri": "https://localhost:8080/",
          "height": 1000
        },
        "id": "NAbXCFOG9Wv6",
        "outputId": "a62e75f2-54c7-4ce2-b31d-fa4963b75ab4"
      },
      "execution_count": 18,
      "outputs": [
        {
          "output_type": "stream",
          "name": "stdout",
          "text": [
            "{'colsample_bytree': 0.9563971772145803, 'gamma': 0.011187141340507023, 'learning_rate': 0.25711025825901357, 'max_depth': 7, 'min_child_weight': 8.894361046492582, 'n_estimators': 956, 'reg_alpha': 4.6471041857633795, 'reg_lambda': 0.43496856824675967, 'subsample': 0.654687429522355}\n",
            "{'colsample_bytree': 0.7267732285661787, 'gamma': 0.015931896290695913, 'learning_rate': 0.27723768002238625, 'max_depth': 8, 'min_child_weight': 3.9686080798837695, 'n_estimators': 556, 'reg_alpha': 3.9868466922068864, 'reg_lambda': 4.089931900666492, 'subsample': 0.982537152357918}\n",
            "{'colsample_bytree': 0.8243122482494382, 'gamma': 0.35043339018261166, 'learning_rate': 0.192072054277576, 'max_depth': 3, 'min_child_weight': 4.874869029642827, 'n_estimators': 571, 'reg_alpha': 3.0487172212351226, 'reg_lambda': 3.4320762625312513, 'subsample': 0.8202861534876673}\n",
            "{'colsample_bytree': 0.5165053292184381, 'gamma': 0.3485593889729598, 'learning_rate': 0.02590856074151604, 'max_depth': 7, 'min_child_weight': 1.4912542722709654, 'n_estimators': 159, 'reg_alpha': 4.584317967426116, 'reg_lambda': 4.058213855807818, 'subsample': 0.781005875344813}\n",
            "{'colsample_bytree': 0.7773153779620379, 'gamma': 0.3052818202563758, 'learning_rate': 0.39749230839301525, 'max_depth': 7, 'min_child_weight': 3.6100047752154407, 'n_estimators': 512, 'reg_alpha': 4.897509222506829, 'reg_lambda': 1.2852734592320996, 'subsample': 0.9184198064004689}\n",
            "{'colsample_bytree': 0.8646657216605771, 'gamma': 0.011830126086466164, 'learning_rate': 0.35446132127719504, 'max_depth': 5, 'min_child_weight': 8.648250510728353, 'n_estimators': 327, 'reg_alpha': 3.5804576461948887, 'reg_lambda': 2.019369868234567, 'subsample': 0.9430440338933016}\n",
            "{'colsample_bytree': 0.6388989381895782, 'gamma': 0.22034775150968916, 'learning_rate': 0.38668068983044807, 'max_depth': 8, 'min_child_weight': 2.9388447376317375, 'n_estimators': 127, 'reg_alpha': 2.0339869880223165, 'reg_lambda': 0.9566450262879461, 'subsample': 0.8597336064553578}\n",
            "{'colsample_bytree': 0.704172102698432, 'gamma': 0.24824646973919884, 'learning_rate': 0.4397364039828956, 'max_depth': 4, 'min_child_weight': 1.8116192001698916, 'n_estimators': 681, 'reg_alpha': 1.0823565660353003, 'reg_lambda': 4.684821250395888, 'subsample': 0.7240156612162275}\n",
            "{'colsample_bytree': 0.968442456477838, 'gamma': 0.32988050646856437, 'learning_rate': 0.2805640124433625, 'max_depth': 6, 'min_child_weight': 5.2541295196926106, 'n_estimators': 144, 'reg_alpha': 2.1204904113775718, 'reg_lambda': 3.703935414298268, 'subsample': 0.8660933176907262}\n",
            "{'colsample_bytree': 0.7507946391593502, 'gamma': 0.24600054375199215, 'learning_rate': 0.09613895122409603, 'max_depth': 3, 'min_child_weight': 5.513241041823505, 'n_estimators': 579, 'reg_alpha': 2.5040547868130436, 'reg_lambda': 2.065800459020445, 'subsample': 0.5625261211760801}\n",
            "{'colsample_bytree': 0.6802188199097288, 'gamma': 0.08603601379877202, 'learning_rate': 0.4647417131141917, 'max_depth': 7, 'min_child_weight': 4.764654159554908, 'n_estimators': 807, 'reg_alpha': 1.24628344142389, 'reg_lambda': 1.033345960167114, 'subsample': 0.5943850539512351}\n",
            "{'colsample_bytree': 0.8907592094859906, 'gamma': 0.26230456636149035, 'learning_rate': 0.37626227392293193, 'max_depth': 3, 'min_child_weight': 2.324848615509565, 'n_estimators': 576, 'reg_alpha': 0.7109344752866903, 'reg_lambda': 1.1390389508427128, 'subsample': 0.7236991292684944}\n",
            "{'colsample_bytree': 0.9112936386149286, 'gamma': 0.2290141604893971, 'learning_rate': 0.11319947871022962, 'max_depth': 3, 'min_child_weight': 7.8376852235891645, 'n_estimators': 135, 'reg_alpha': 2.2214053103958435, 'reg_lambda': 2.8879507867067575, 'subsample': 0.8969699109599745}\n",
            "{'colsample_bytree': 0.6055390568515882, 'gamma': 0.03934304446619735, 'learning_rate': 0.3077061929427728, 'max_depth': 7, 'min_child_weight': 9.032885725812763, 'n_estimators': 941, 'reg_alpha': 1.2022859432692712, 'reg_lambda': 1.877316323247371, 'subsample': 0.8488117601163089}\n",
            "{'colsample_bytree': 0.5815330209345757, 'gamma': 0.17826867988531225, 'learning_rate': 0.2237723627339703, 'max_depth': 5, 'min_child_weight': 2.822797017968124, 'n_estimators': 733, 'reg_alpha': 2.362801720193413, 'reg_lambda': 0.24923433960623465, 'subsample': 0.9247545495325167}\n",
            "{'colsample_bytree': 0.7117592540091828, 'gamma': 0.43393736565078894, 'learning_rate': 0.04196555038890104, 'max_depth': 5, 'min_child_weight': 0.4701288237035339, 'n_estimators': 450, 'reg_alpha': 2.986506205773274, 'reg_lambda': 4.519693151386907, 'subsample': 0.5303639239967141}\n",
            "{'colsample_bytree': 0.9024809304265775, 'gamma': 0.37263181097717396, 'learning_rate': 0.26458992265220105, 'max_depth': 3, 'min_child_weight': 4.06646600691965, 'n_estimators': 688, 'reg_alpha': 2.418224187214882, 'reg_lambda': 3.8257347760732987, 'subsample': 0.746861560714809}\n",
            "{'colsample_bytree': 0.9688438314957102, 'gamma': 0.3007327312513466, 'learning_rate': 0.18213880617815326, 'max_depth': 7, 'min_child_weight': 1.3058782491442555, 'n_estimators': 977, 'reg_alpha': 1.9215012643344447, 'reg_lambda': 3.7448784753331394, 'subsample': 0.6136692740416672}\n",
            "{'colsample_bytree': 0.7480186495794878, 'gamma': 0.25316124839435544, 'learning_rate': 0.23096787129374746, 'max_depth': 5, 'min_child_weight': 3.876634439805012, 'n_estimators': 165, 'reg_alpha': 3.5434337189240805, 'reg_lambda': 3.5978446953501435, 'subsample': 0.7308799509725608}\n",
            "{'colsample_bytree': 0.7378981083903644, 'gamma': 0.20208589064983612, 'learning_rate': 0.3454749738529159, 'max_depth': 4, 'min_child_weight': 4.68444051881559, 'n_estimators': 321, 'reg_alpha': 3.1633821588928273, 'reg_lambda': 4.6454154447638265, 'subsample': 0.7010888193839764}\n",
            "{'colsample_bytree': 0.8177030654560069, 'gamma': 0.12410965075177077, 'learning_rate': 0.15720788574345235, 'max_depth': 8, 'min_child_weight': 6.686210672023574, 'n_estimators': 562, 'reg_alpha': 4.3207652108669805, 'reg_lambda': 0.059527294690994936, 'subsample': 0.999474421312402}\n",
            "{'colsample_bytree': 0.5054908995517587, 'gamma': 0.06771351025157206, 'learning_rate': 0.3108098039328664, 'max_depth': 8, 'min_child_weight': 7.178801279753873, 'n_estimators': 556, 'reg_alpha': 4.099128390908188, 'reg_lambda': 3.0999635843672593, 'subsample': 0.6726316488978118}\n",
            "{'colsample_bytree': 0.6524982254030994, 'gamma': 0.0017888083998980273, 'learning_rate': 0.11855731561235874, 'max_depth': 6, 'min_child_weight': 6.306828608273014, 'n_estimators': 212, 'reg_alpha': 3.950822448097448, 'reg_lambda': 0.5957550310552574, 'subsample': 0.6587443774443194}\n",
            "{'colsample_bytree': 0.9956358418541392, 'gamma': 0.14327179490122205, 'learning_rate': 0.3136122584114526, 'max_depth': 8, 'min_child_weight': 9.427638229447876, 'n_estimators': 433, 'reg_alpha': 4.964825924580196, 'reg_lambda': 1.6601698045840612, 'subsample': 0.9797849883613369}\n",
            "{'colsample_bytree': 0.8019509307199557, 'gamma': 0.09654813951636552, 'learning_rate': 0.2294239081352458, 'max_depth': 8, 'min_child_weight': 8.143475208422526, 'n_estimators': 879, 'reg_alpha': 4.632821826009687, 'reg_lambda': 2.7929072110699487, 'subsample': 0.7921556267316383}\n",
            "{'colsample_bytree': 0.7997641808548535, 'gamma': 0.10761655953872626, 'learning_rate': 0.1493930847521114, 'max_depth': 8, 'min_child_weight': 7.9066836601417645, 'n_estimators': 740, 'reg_alpha': 3.7458911092076597, 'reg_lambda': 2.591334967708506, 'subsample': 0.7763747633563011}\n",
            "{'colsample_bytree': 0.8418457830600102, 'gamma': 0.048731846661250154, 'learning_rate': 0.2116466466708521, 'max_depth': 8, 'min_child_weight': 5.9211239620334375, 'n_estimators': 104, 'reg_alpha': 4.409120970770058, 'reg_lambda': 4.220118307086458, 'subsample': 0.9543787777047267}\n",
            "{'colsample_bytree': 0.5483301372424598, 'gamma': 0.16268781591589593, 'learning_rate': 0.4988589562167154, 'max_depth': 8, 'min_child_weight': 9.882166944868398, 'n_estimators': 129, 'reg_alpha': 3.33137753815459, 'reg_lambda': 2.405628963727358, 'subsample': 0.8041881707790077}\n",
            "{'colsample_bytree': 0.7745909102487885, 'gamma': 0.03675853741097992, 'learning_rate': 0.2644433769955173, 'max_depth': 8, 'min_child_weight': 0.502237962647015, 'n_estimators': 879, 'reg_alpha': 4.889474747685339, 'reg_lambda': 3.2647247557121326, 'subsample': 0.9937096916816021}\n",
            "{'colsample_bytree': 0.9312773641529128, 'gamma': 0.002201571882900946, 'learning_rate': 0.07165102338774071, 'max_depth': 6, 'min_child_weight': 7.375228632103611, 'n_estimators': 287, 'reg_alpha': 4.153143710466544, 'reg_lambda': 4.956813351728702, 'subsample': 0.8948341776645833}\n",
            "{'colsample_bytree': 0.8576899202946721, 'gamma': 0.08599560044119368, 'learning_rate': 0.17783178442406491, 'max_depth': 4, 'min_child_weight': 3.388611629444605, 'n_estimators': 218, 'reg_alpha': 0.06601762938598332, 'reg_lambda': 2.857818685740031, 'subsample': 0.8232296135446622}\n",
            "{'colsample_bytree': 0.6750791575474732, 'gamma': 0.11569884469591477, 'learning_rate': 0.2229629615299836, 'max_depth': 8, 'min_child_weight': 8.416312367776708, 'n_estimators': 599, 'reg_alpha': 2.8285538362333593, 'reg_lambda': 4.055196564812803, 'subsample': 0.7773622044565852}\n",
            "{'colsample_bytree': 0.7992231929563576, 'gamma': 0.4675495585135296, 'learning_rate': 0.4230081615126616, 'max_depth': 8, 'min_child_weight': 4.542771595704134, 'n_estimators': 329, 'reg_alpha': 4.712512718106064, 'reg_lambda': 2.4702387257532368, 'subsample': 0.5061466844144948}\n",
            "{'colsample_bytree': 0.71319747092927, 'gamma': 0.025252695361716336, 'learning_rate': 0.34739515786269953, 'max_depth': 8, 'min_child_weight': 6.023818716217831, 'n_estimators': 632, 'reg_alpha': 4.555262998198774, 'reg_lambda': 3.3977576846169057, 'subsample': 0.9621451251115123}\n",
            "{'colsample_bytree': 0.6102164895402782, 'gamma': 0.06679783832208819, 'learning_rate': 0.2876294243905766, 'max_depth': 8, 'min_child_weight': 6.984687823026457, 'n_estimators': 996, 'reg_alpha': 3.8197727700808044, 'reg_lambda': 4.300121903803556, 'subsample': 0.6231050930887866}\n",
            "{'colsample_bytree': 0.7754317573818263, 'gamma': 0.18276060373597147, 'learning_rate': 0.2501046727993991, 'max_depth': 4, 'min_child_weight': 4.224142787765497, 'n_estimators': 934, 'reg_alpha': 2.706969426176032, 'reg_lambda': 4.882327136370609, 'subsample': 0.6965855756463648}\n",
            "{'colsample_bytree': 0.8652507351350434, 'gamma': 0.1483303594924473, 'learning_rate': 0.14406232841327055, 'max_depth': 6, 'min_child_weight': 9.84639761521018, 'n_estimators': 949, 'reg_alpha': 1.7263173975535682, 'reg_lambda': 1.5539154854321644, 'subsample': 0.8872732915454749}\n",
            "{'colsample_bytree': 0.8271549904716216, 'gamma': 0.001227322075934817, 'learning_rate': 0.016488028093073426, 'max_depth': 8, 'min_child_weight': 3.062463233104366, 'n_estimators': 334, 'reg_alpha': 3.4270203011480254, 'reg_lambda': 3.0228446752897136, 'subsample': 0.8083107858079038}\n",
            "{'colsample_bytree': 0.5382439364145913, 'gamma': 0.28802823599278937, 'learning_rate': 0.19435349451568493, 'max_depth': 5, 'min_child_weight': 5.42799554866717, 'n_estimators': 103, 'reg_alpha': 4.819341422108756, 'reg_lambda': 2.2147161784897693, 'subsample': 0.8435017371216862}\n",
            "{'colsample_bytree': 0.6495512411826302, 'gamma': 0.3836928404265244, 'learning_rate': 0.4231918516756372, 'max_depth': 7, 'min_child_weight': 2.1958967187964795, 'n_estimators': 552, 'reg_alpha': 4.34028365492937, 'reg_lambda': 2.646877662699527, 'subsample': 0.9421314636132181}\n",
            "{'colsample_bytree': 0.6842814567767183, 'gamma': 0.09983526518994106, 'learning_rate': 0.3230123298785623, 'max_depth': 8, 'min_child_weight': 0.014282579865144918, 'n_estimators': 205, 'reg_alpha': 3.208290980384382, 'reg_lambda': 4.003280687082703, 'subsample': 0.5805477009542807}\n",
            "{'colsample_bytree': 0.8781091335717783, 'gamma': 0.1975646722262049, 'learning_rate': 0.3742079254824494, 'max_depth': 3, 'min_child_weight': 8.096693752273799, 'n_estimators': 473, 'reg_alpha': 3.640833572066623, 'reg_lambda': 4.355654572227395, 'subsample': 0.8709582819973245}\n",
            "{'colsample_bytree': 0.7332218832242011, 'gamma': 0.060625775834585754, 'learning_rate': 0.4755821318865764, 'max_depth': 4, 'min_child_weight': 1.6268151885598319, 'n_estimators': 276, 'reg_alpha': 4.999741209144036, 'reg_lambda': 3.4638354755006517, 'subsample': 0.925550598540317}\n",
            "{'colsample_bytree': 0.9347651251820874, 'gamma': 0.14120316996314952, 'learning_rate': 0.28242234982376696, 'max_depth': 6, 'min_child_weight': 1.0780606796113603, 'n_estimators': 150, 'reg_alpha': 4.619961888216509, 'reg_lambda': 2.2009245483782016, 'subsample': 0.6346295581250101}\n",
            "{'colsample_bytree': 0.7673336171070859, 'gamma': 0.2196582954061855, 'learning_rate': 0.24538407924171207, 'max_depth': 7, 'min_child_weight': 5.136831867884822, 'n_estimators': 880, 'reg_alpha': 3.9662781257447146, 'reg_lambda': 1.8138777270583513, 'subsample': 0.834309291068233}\n",
            "{'colsample_bytree': 0.799219475335401, 'gamma': 0.027509370265906035, 'learning_rate': 0.0839580223511768, 'max_depth': 3, 'min_child_weight': 2.3152829812927114, 'n_estimators': 288, 'reg_alpha': 1.5377269508424591, 'reg_lambda': 1.392467914625154, 'subsample': 0.5493447016236932}\n",
            "{'colsample_bytree': 0.631601997146894, 'gamma': 0.08624896978427449, 'learning_rate': 0.04474566117518183, 'max_depth': 5, 'min_child_weight': 3.5401646057578713, 'n_estimators': 531, 'reg_alpha': 0.8172477082433476, 'reg_lambda': 0.6710010912184199, 'subsample': 0.7545689000272051}\n",
            "{'colsample_bytree': 0.5749040496372226, 'gamma': 0.323464924920476, 'learning_rate': 0.40086901227691235, 'max_depth': 8, 'min_child_weight': 9.089812046796295, 'n_estimators': 772, 'reg_alpha': 0.017172928983634428, 'reg_lambda': 3.888737700695767, 'subsample': 0.9068937507478425}\n",
            "{'colsample_bytree': 0.6973954421546953, 'gamma': 0.26756958481128096, 'learning_rate': 0.33253628530722257, 'max_depth': 8, 'min_child_weight': 2.7930514235501978, 'n_estimators': 219, 'reg_alpha': 2.950854603457828, 'reg_lambda': 2.847568157237817, 'subsample': 0.876858967086748}\n",
            "{'colsample_bytree': 0.7210460806197108, 'gamma': 0.12733929348391207, 'learning_rate': 0.13558052097188567, 'max_depth': 7, 'min_child_weight': 6.696185537008114, 'n_estimators': 600, 'reg_alpha': 4.206904061145998, 'reg_lambda': 3.2211767096212776, 'subsample': 0.6866473406718154}\n",
            "100%|██████████| 50/50 [05:41<00:00,  6.83s/trial, best loss: 0.35614544934709097]\n",
            "It takes 5.693950148423513 minutes\n",
            "---------------Optimal Hyperparamter Set-------------------\n",
            "{'colsample_bytree': 0.7267732285661787, 'gamma': 0.015931896290695913, 'learning_rate': 0.27723768002238625, 'max_depth': 8, 'min_child_weight': 3.9686080798837695, 'n_estimators': 556, 'reg_alpha': 3.9868466922068864, 'reg_lambda': 4.089931900666492, 'subsample': 0.982537152357918}\n",
            "---------------Optimization History-------------------\n"
          ]
        },
        {
          "output_type": "display_data",
          "data": {
            "text/plain": [
              "<Figure size 1200x600 with 1 Axes>"
            ],
            "image/png": "[encoded data removed]"
          },
          "metadata": {}
        }
      ]
    },
    {
      "cell_type": "code",
      "source": [
        "# {'colsample_bytree': 0.7267732285661787, 'gamma': 0.015931896290695913, 'learning_rate': 0.27723768002238625, 'max_depth': 8, 'min_child_weight': 3.9686080798837695, 'n_estimators': 556, 'reg_alpha': 3.9868466922068864, 'reg_lambda': 4.089931900666492, 'subsample': 0.982537152357918}"
      ],
      "metadata": {
        "id": "FA4ws1QTGwsf"
      },
      "execution_count": null,
      "outputs": []
    },
    {
      "cell_type": "code",
      "source": [
        "# Get the best parameters\n",
        "best_params = xgbr_best_hp\n",
        "print(f\"Best Parameters: {best_params}\")\n",
        "\n",
        "# Create a new model with the best parameters\n",
        "best_model = XGBRegressor(**best_params, tree_method='hist',\n",
        "                          objective='reg:squarederror', device=\"cuda\")\n",
        "\n",
        "# Train the best model\n",
        "best_model.fit(X_train, y_train)\n",
        "\n",
        "# Make predictions on the test set\n",
        "y_pred_best = best_model.predict(X_val)\n",
        "\n",
        "# Evaluate the best model\n",
        "print(f\"RMSE: {rmse(y_val, y_pred_best):.2f}\")\n",
        "print(f\"MAPE: {mape(y_val, y_pred_best):.2f}\")"
      ],
      "metadata": {
        "colab": {
          "base_uri": "https://localhost:8080/"
        },
        "id": "TEfYxPCtGvpV",
        "outputId": "2168abe3-28c7-4ec9-82f3-4214a83d5010"
      },
      "execution_count": 21,
      "outputs": [
        {
          "output_type": "stream",
          "name": "stdout",
          "text": [
            "Best Parameters: {'colsample_bytree': 0.7267732285661787, 'gamma': 0.015931896290695913, 'learning_rate': 0.27723768002238625, 'max_depth': 8, 'min_child_weight': 3.9686080798837695, 'n_estimators': 556, 'reg_alpha': 3.9868466922068864, 'reg_lambda': 4.089931900666492, 'subsample': 0.982537152357918}\n",
            "RMSE: 0.35\n",
            "MAPE: 0.19\n"
          ]
        }
      ]
    }
  ]
}