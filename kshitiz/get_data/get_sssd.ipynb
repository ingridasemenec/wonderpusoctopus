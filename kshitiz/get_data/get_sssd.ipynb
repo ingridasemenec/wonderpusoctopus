{
 "cells": [
  {
   "cell_type": "code",
   "execution_count": 25,
   "metadata": {},
   "outputs": [],
   "source": [
    "import pandas as pd\n",
    "import numpy as np\n",
    "import copernicusmarine as cm"
   ]
  },
  {
   "cell_type": "code",
   "execution_count": 2,
   "metadata": {},
   "outputs": [
    {
     "name": "stdout",
     "output_type": "stream",
     "text": [
      "File /home/kshitiz/.copernicusmarine/.copernicusmarine-credentials already exists, overwrite it ? [y/N]:"
     ]
    },
    {
     "name": "stderr",
     "output_type": "stream",
     "text": [
      "INFO - 2024-08-06T17:27:23Z - Credentials file stored in /home/kshitiz/.copernicusmarine/.copernicusmarine-credentials.\n"
     ]
    },
    {
     "data": {
      "text/plain": [
       "True"
      ]
     },
     "execution_count": 2,
     "metadata": {},
     "output_type": "execute_result"
    }
   ],
   "source": [
    "cm.login(username=\"\", password=\"\")"
   ]
  },
  {
   "cell_type": "markdown",
   "metadata": {},
   "source": [
    "Dataset 3: Multi Observation Global Ocean Sea Surface Salinity and Sea Surface Density (https://data.marine.copernicus.eu/product/MULTIOBS_GLO_PHY_S_SURFACE_MYNRT_015_013/description)\n",
    "- dataset_id: \"cmems_obs-mob_glo_phy-sss_my_multi_P1M\"\n",
    "- variables: [\"sos\",\"dos\"]\n",
    "- Parameter definitions: \n",
    "    - sos: Sea surface salinity\n",
    "    - dos [kg/m3]: sea surface density\n",
    "- Spatial resolution: 0.125deg x 0.125deg"
   ]
  },
  {
   "cell_type": "code",
   "execution_count": 3,
   "metadata": {},
   "outputs": [],
   "source": [
    "# filename for saving the data as csv\n",
    "filename = 'sssd_1997_2022'"
   ]
  },
  {
   "cell_type": "code",
   "execution_count": 4,
   "metadata": {},
   "outputs": [],
   "source": [
    "# Set parameters\n",
    "data_request = {\n",
    "    \"dataset_id\" : \"cmems_obs-mob_glo_phy-sss_my_multi_P1M\",\n",
    "    \"variables\" : [\"sos\",\"dos\"],\n",
    "    \"longitude\" : [-60, -10], \n",
    "    \"latitude\" : [60, 40],\n",
    "    \"time\" : [\"1997-09-01T00:00:00\", \"2023-01-03T00:00:00\"],\n",
    "    \"depth\": [None, None] # for bathymetry set it to [0.49402499198913574, 5727.9169921875]\n",
    "}"
   ]
  },
  {
   "cell_type": "code",
   "execution_count": 13,
   "metadata": {},
   "outputs": [
    {
     "name": "stderr",
     "output_type": "stream",
     "text": [
      "INFO - 2024-08-06T17:29:09Z - Dataset version was not specified, the latest one was selected: \"202311\"\n",
      "INFO - 2024-08-06T17:29:09Z - Dataset part was not specified, the first one was selected: \"default\"\n",
      "INFO - 2024-08-06T17:29:11Z - Service was not specified, the default one was selected: \"arco-time-series\"\n",
      "WARNING - 2024-08-06T17:29:13Z - Some or all of your subset selection [1997-09-01 00:00:00, 2023-01-03 00:00:00] for the time dimension  exceed the dataset coordinates [1993-01-01 00:00:00, 2021-12-01 00:00:00]\n"
     ]
    }
   ],
   "source": [
    "df = cm.read_dataframe(\n",
    "    dataset_id=data_request[\"dataset_id\"],\n",
    "    variables=data_request[\"variables\"],\n",
    "    minimum_longitude=data_request[\"longitude\"][0],\n",
    "    maximum_longitude=data_request[\"longitude\"][1],\n",
    "    minimum_latitude=data_request[\"latitude\"][0],\n",
    "    maximum_latitude=data_request[\"latitude\"][1],\n",
    "    minimum_depth=data_request[\"depth\"][0],\n",
    "    maximum_depth=data_request[\"depth\"][1],\n",
    "    start_datetime=data_request[\"time\"][0],\n",
    "    end_datetime=data_request[\"time\"][1]\n",
    ")"
   ]
  },
  {
   "cell_type": "code",
   "execution_count": 14,
   "metadata": {},
   "outputs": [
    {
     "name": "stdout",
     "output_type": "stream",
     "text": [
      "(116800, 2)\n"
     ]
    },
    {
     "data": {
      "text/html": [
       "<div>\n",
       "<style scoped>\n",
       "    .dataframe tbody tr th:only-of-type {\n",
       "        vertical-align: middle;\n",
       "    }\n",
       "\n",
       "    .dataframe tbody tr th {\n",
       "        vertical-align: top;\n",
       "    }\n",
       "\n",
       "    .dataframe thead th {\n",
       "        text-align: right;\n",
       "    }\n",
       "</style>\n",
       "<table border=\"1\" class=\"dataframe\">\n",
       "  <thead>\n",
       "    <tr style=\"text-align: right;\">\n",
       "      <th></th>\n",
       "      <th></th>\n",
       "      <th></th>\n",
       "      <th></th>\n",
       "      <th>sos</th>\n",
       "      <th>dos</th>\n",
       "    </tr>\n",
       "    <tr>\n",
       "      <th>time</th>\n",
       "      <th>depth</th>\n",
       "      <th>latitude</th>\n",
       "      <th>longitude</th>\n",
       "      <th></th>\n",
       "      <th></th>\n",
       "    </tr>\n",
       "  </thead>\n",
       "  <tbody>\n",
       "    <tr>\n",
       "      <th rowspan=\"5\" valign=\"top\">1997-09-01</th>\n",
       "      <th rowspan=\"5\" valign=\"top\">0.0</th>\n",
       "      <th rowspan=\"5\" valign=\"top\">60.0625</th>\n",
       "      <th>-59.9375</th>\n",
       "      <td>33.793015</td>\n",
       "      <td>1026.517822</td>\n",
       "    </tr>\n",
       "    <tr>\n",
       "      <th>-59.8125</th>\n",
       "      <td>33.823151</td>\n",
       "      <td>1026.531494</td>\n",
       "    </tr>\n",
       "    <tr>\n",
       "      <th>-59.6875</th>\n",
       "      <td>33.834396</td>\n",
       "      <td>1026.536743</td>\n",
       "    </tr>\n",
       "    <tr>\n",
       "      <th>-59.5625</th>\n",
       "      <td>33.844009</td>\n",
       "      <td>1026.541992</td>\n",
       "    </tr>\n",
       "    <tr>\n",
       "      <th>-59.4375</th>\n",
       "      <td>33.855732</td>\n",
       "      <td>1026.547974</td>\n",
       "    </tr>\n",
       "  </tbody>\n",
       "</table>\n",
       "</div>"
      ],
      "text/plain": [
       "                                           sos          dos\n",
       "time       depth latitude longitude                        \n",
       "1997-09-01 0.0   60.0625  -59.9375   33.793015  1026.517822\n",
       "                          -59.8125   33.823151  1026.531494\n",
       "                          -59.6875   33.834396  1026.536743\n",
       "                          -59.5625   33.844009  1026.541992\n",
       "                          -59.4375   33.855732  1026.547974"
      ]
     },
     "execution_count": 14,
     "metadata": {},
     "output_type": "execute_result"
    }
   ],
   "source": [
    "print(df.shape)\n",
    "df.head()"
   ]
  },
  {
   "cell_type": "code",
   "execution_count": 18,
   "metadata": {},
   "outputs": [
    {
     "data": {
      "text/html": [
       "<div>\n",
       "<style scoped>\n",
       "    .dataframe tbody tr th:only-of-type {\n",
       "        vertical-align: middle;\n",
       "    }\n",
       "\n",
       "    .dataframe tbody tr th {\n",
       "        vertical-align: top;\n",
       "    }\n",
       "\n",
       "    .dataframe thead th {\n",
       "        text-align: right;\n",
       "    }\n",
       "</style>\n",
       "<table border=\"1\" class=\"dataframe\">\n",
       "  <thead>\n",
       "    <tr style=\"text-align: right;\">\n",
       "      <th></th>\n",
       "      <th>time</th>\n",
       "      <th>latitude</th>\n",
       "      <th>longitude</th>\n",
       "      <th>sos</th>\n",
       "      <th>dos</th>\n",
       "    </tr>\n",
       "  </thead>\n",
       "  <tbody>\n",
       "    <tr>\n",
       "      <th>0</th>\n",
       "      <td>1997-09-01</td>\n",
       "      <td>60.0625</td>\n",
       "      <td>-59.9375</td>\n",
       "      <td>33.793015</td>\n",
       "      <td>1026.517822</td>\n",
       "    </tr>\n",
       "    <tr>\n",
       "      <th>1</th>\n",
       "      <td>1997-09-01</td>\n",
       "      <td>60.0625</td>\n",
       "      <td>-59.8125</td>\n",
       "      <td>33.823151</td>\n",
       "      <td>1026.531494</td>\n",
       "    </tr>\n",
       "    <tr>\n",
       "      <th>2</th>\n",
       "      <td>1997-09-01</td>\n",
       "      <td>60.0625</td>\n",
       "      <td>-59.6875</td>\n",
       "      <td>33.834396</td>\n",
       "      <td>1026.536743</td>\n",
       "    </tr>\n",
       "    <tr>\n",
       "      <th>3</th>\n",
       "      <td>1997-09-01</td>\n",
       "      <td>60.0625</td>\n",
       "      <td>-59.5625</td>\n",
       "      <td>33.844009</td>\n",
       "      <td>1026.541992</td>\n",
       "    </tr>\n",
       "    <tr>\n",
       "      <th>4</th>\n",
       "      <td>1997-09-01</td>\n",
       "      <td>60.0625</td>\n",
       "      <td>-59.4375</td>\n",
       "      <td>33.855732</td>\n",
       "      <td>1026.547974</td>\n",
       "    </tr>\n",
       "  </tbody>\n",
       "</table>\n",
       "</div>"
      ],
      "text/plain": [
       "        time  latitude  longitude        sos          dos\n",
       "0 1997-09-01   60.0625   -59.9375  33.793015  1026.517822\n",
       "1 1997-09-01   60.0625   -59.8125  33.823151  1026.531494\n",
       "2 1997-09-01   60.0625   -59.6875  33.834396  1026.536743\n",
       "3 1997-09-01   60.0625   -59.5625  33.844009  1026.541992\n",
       "4 1997-09-01   60.0625   -59.4375  33.855732  1026.547974"
      ]
     },
     "execution_count": 18,
     "metadata": {},
     "output_type": "execute_result"
    }
   ],
   "source": [
    "# remove the index columns corresponding to time, latitude and longitude\n",
    "df = df.reset_index()\n",
    "# drop na rows\n",
    "df = df.dropna()\n",
    "# drop the depth column\n",
    "df = df.drop(columns=[\"depth\"])\n",
    "\n",
    "df.head()"
   ]
  },
  {
   "cell_type": "code",
   "execution_count": 19,
   "metadata": {},
   "outputs": [],
   "source": [
    "# function to coarse grain the data and make resolution same as Pisces data\n",
    "def coarse_grain(df, features):\n",
    "  \"\"\"\n",
    "    Parameters\n",
    "    ----------\n",
    "    df: pandas dataframe containing the data accessed from copernicus mariner\n",
    "    features: name of the features in the dataframe\n",
    "\n",
    "    Output\n",
    "    ------\n",
    "    a pandas dataframe with feature values for 0.25 deg x 0.25 deg resolution \n",
    "\n",
    "    \"\"\"\n",
    "  \n",
    "  df[\"0_1\"] = df[\"latitude\"].to_numpy() - np.floor(df[\"latitude\"])\n",
    "  conditions = [df[\"0_1\"] < 0.25,\n",
    "                (df[\"0_1\"] >= 0.25)  & (df[\"0_1\"] < 0.5),\n",
    "                (df[\"0_1\"] >= 0.5)  & (df[\"0_1\"] < 0.75),\n",
    "                (df[\"0_1\"] >= 0.75)  & (df[\"0_1\"] < 1)]\n",
    "  outputs = [0, 0.25, 0.5, 0.75]\n",
    "  df['latitude'] = np.floor(df[\"latitude\"]) + np.select(conditions, outputs)\n",
    "  df = df.drop(columns=[\"0_1\"])\n",
    "\n",
    "  df[\"0_1\"] = df[\"longitude\"].to_numpy() - np.floor(df[\"longitude\"])\n",
    "  # if not redefined then conditions is based on latitude\n",
    "  conditions = [df[\"0_1\"] < 0.25,\n",
    "              (df[\"0_1\"] >= 0.25)  & (df[\"0_1\"] < 0.5),\n",
    "              (df[\"0_1\"] >= 0.5)  & (df[\"0_1\"] < 0.75),\n",
    "              (df[\"0_1\"] >= 0.75)  & (df[\"0_1\"] < 1)]\n",
    "  df['longitude'] = np.floor(df[\"longitude\"]) + np.select(conditions, outputs)\n",
    "  df = df.drop(columns=[\"0_1\"])\n",
    "\n",
    "  return df.groupby([\"time\",\"latitude\",\"longitude\"])[features].mean() "
   ]
  },
  {
   "cell_type": "code",
   "execution_count": 20,
   "metadata": {},
   "outputs": [
    {
     "name": "stdout",
     "output_type": "stream",
     "text": [
      "(56259, 2)\n"
     ]
    },
    {
     "data": {
      "text/html": [
       "<div>\n",
       "<style scoped>\n",
       "    .dataframe tbody tr th:only-of-type {\n",
       "        vertical-align: middle;\n",
       "    }\n",
       "\n",
       "    .dataframe tbody tr th {\n",
       "        vertical-align: top;\n",
       "    }\n",
       "\n",
       "    .dataframe thead th {\n",
       "        text-align: right;\n",
       "    }\n",
       "</style>\n",
       "<table border=\"1\" class=\"dataframe\">\n",
       "  <thead>\n",
       "    <tr style=\"text-align: right;\">\n",
       "      <th></th>\n",
       "      <th></th>\n",
       "      <th></th>\n",
       "      <th>sos</th>\n",
       "      <th>dos</th>\n",
       "    </tr>\n",
       "    <tr>\n",
       "      <th>time</th>\n",
       "      <th>latitude</th>\n",
       "      <th>longitude</th>\n",
       "      <th></th>\n",
       "      <th></th>\n",
       "    </tr>\n",
       "  </thead>\n",
       "  <tbody>\n",
       "    <tr>\n",
       "      <th rowspan=\"5\" valign=\"top\">1997-09-01</th>\n",
       "      <th rowspan=\"5\" valign=\"top\">60.0</th>\n",
       "      <th>-60.00</th>\n",
       "      <td>33.808083</td>\n",
       "      <td>1026.524658</td>\n",
       "    </tr>\n",
       "    <tr>\n",
       "      <th>-59.75</th>\n",
       "      <td>33.839203</td>\n",
       "      <td>1026.539307</td>\n",
       "    </tr>\n",
       "    <tr>\n",
       "      <th>-59.50</th>\n",
       "      <td>33.868324</td>\n",
       "      <td>1026.554565</td>\n",
       "    </tr>\n",
       "    <tr>\n",
       "      <th>-59.25</th>\n",
       "      <td>33.938263</td>\n",
       "      <td>1026.588135</td>\n",
       "    </tr>\n",
       "    <tr>\n",
       "      <th>-59.00</th>\n",
       "      <td>34.003319</td>\n",
       "      <td>1026.617676</td>\n",
       "    </tr>\n",
       "  </tbody>\n",
       "</table>\n",
       "</div>"
      ],
      "text/plain": [
       "                                     sos          dos\n",
       "time       latitude longitude                        \n",
       "1997-09-01 60.0     -60.00     33.808083  1026.524658\n",
       "                    -59.75     33.839203  1026.539307\n",
       "                    -59.50     33.868324  1026.554565\n",
       "                    -59.25     33.938263  1026.588135\n",
       "                    -59.00     34.003319  1026.617676"
      ]
     },
     "execution_count": 20,
     "metadata": {},
     "output_type": "execute_result"
    }
   ],
   "source": [
    "# Need coarse grain the values because all these datasets have finer resolution than Pisces data\n",
    "# Pisces data has resolution of 0.25 deg x 0.25 deg\n",
    "df_cg = coarse_grain(df, df.columns[3:].tolist())\n",
    "print(df_cg.shape)\n",
    "df_cg.head()"
   ]
  },
  {
   "cell_type": "code",
   "execution_count": 21,
   "metadata": {},
   "outputs": [
    {
     "data": {
      "text/html": [
       "<div>\n",
       "<style scoped>\n",
       "    .dataframe tbody tr th:only-of-type {\n",
       "        vertical-align: middle;\n",
       "    }\n",
       "\n",
       "    .dataframe tbody tr th {\n",
       "        vertical-align: top;\n",
       "    }\n",
       "\n",
       "    .dataframe thead th {\n",
       "        text-align: right;\n",
       "    }\n",
       "</style>\n",
       "<table border=\"1\" class=\"dataframe\">\n",
       "  <thead>\n",
       "    <tr style=\"text-align: right;\">\n",
       "      <th></th>\n",
       "      <th></th>\n",
       "      <th></th>\n",
       "      <th>sos</th>\n",
       "      <th>dos</th>\n",
       "    </tr>\n",
       "    <tr>\n",
       "      <th>time</th>\n",
       "      <th>latitude</th>\n",
       "      <th>longitude</th>\n",
       "      <th></th>\n",
       "      <th></th>\n",
       "    </tr>\n",
       "  </thead>\n",
       "  <tbody>\n",
       "    <tr>\n",
       "      <th rowspan=\"5\" valign=\"top\">1997-09-01</th>\n",
       "      <th rowspan=\"5\" valign=\"top\">60.0</th>\n",
       "      <th>-60.00</th>\n",
       "      <td>33.808083</td>\n",
       "      <td>1026.524658</td>\n",
       "    </tr>\n",
       "    <tr>\n",
       "      <th>-59.75</th>\n",
       "      <td>33.839203</td>\n",
       "      <td>1026.539307</td>\n",
       "    </tr>\n",
       "    <tr>\n",
       "      <th>-59.50</th>\n",
       "      <td>33.868324</td>\n",
       "      <td>1026.554565</td>\n",
       "    </tr>\n",
       "    <tr>\n",
       "      <th>-59.25</th>\n",
       "      <td>33.938263</td>\n",
       "      <td>1026.588135</td>\n",
       "    </tr>\n",
       "    <tr>\n",
       "      <th>-59.00</th>\n",
       "      <td>34.003319</td>\n",
       "      <td>1026.617676</td>\n",
       "    </tr>\n",
       "  </tbody>\n",
       "</table>\n",
       "</div>"
      ],
      "text/plain": [
       "                                     sos          dos\n",
       "time       latitude longitude                        \n",
       "1997-09-01 60.0     -60.00     33.808083  1026.524658\n",
       "                    -59.75     33.839203  1026.539307\n",
       "                    -59.50     33.868324  1026.554565\n",
       "                    -59.25     33.938263  1026.588135\n",
       "                    -59.00     34.003319  1026.617676"
      ]
     },
     "execution_count": 21,
     "metadata": {},
     "output_type": "execute_result"
    }
   ],
   "source": [
    "df_cg.head()"
   ]
  },
  {
   "cell_type": "code",
   "execution_count": 22,
   "metadata": {},
   "outputs": [
    {
     "data": {
      "text/html": [
       "<div>\n",
       "<style scoped>\n",
       "    .dataframe tbody tr th:only-of-type {\n",
       "        vertical-align: middle;\n",
       "    }\n",
       "\n",
       "    .dataframe tbody tr th {\n",
       "        vertical-align: top;\n",
       "    }\n",
       "\n",
       "    .dataframe thead th {\n",
       "        text-align: right;\n",
       "    }\n",
       "</style>\n",
       "<table border=\"1\" class=\"dataframe\">\n",
       "  <thead>\n",
       "    <tr style=\"text-align: right;\">\n",
       "      <th></th>\n",
       "      <th>time</th>\n",
       "      <th>latitude</th>\n",
       "      <th>longitude</th>\n",
       "      <th>sos</th>\n",
       "      <th>dos</th>\n",
       "      <th>day</th>\n",
       "      <th>month</th>\n",
       "      <th>year</th>\n",
       "    </tr>\n",
       "  </thead>\n",
       "  <tbody>\n",
       "    <tr>\n",
       "      <th>0</th>\n",
       "      <td>1997-09-01</td>\n",
       "      <td>60.0</td>\n",
       "      <td>-60.00</td>\n",
       "      <td>33.808083</td>\n",
       "      <td>1026.524658</td>\n",
       "      <td>1</td>\n",
       "      <td>9</td>\n",
       "      <td>1997</td>\n",
       "    </tr>\n",
       "    <tr>\n",
       "      <th>1</th>\n",
       "      <td>1997-09-01</td>\n",
       "      <td>60.0</td>\n",
       "      <td>-59.75</td>\n",
       "      <td>33.839203</td>\n",
       "      <td>1026.539307</td>\n",
       "      <td>1</td>\n",
       "      <td>9</td>\n",
       "      <td>1997</td>\n",
       "    </tr>\n",
       "    <tr>\n",
       "      <th>2</th>\n",
       "      <td>1997-09-01</td>\n",
       "      <td>60.0</td>\n",
       "      <td>-59.50</td>\n",
       "      <td>33.868324</td>\n",
       "      <td>1026.554565</td>\n",
       "      <td>1</td>\n",
       "      <td>9</td>\n",
       "      <td>1997</td>\n",
       "    </tr>\n",
       "    <tr>\n",
       "      <th>3</th>\n",
       "      <td>1997-09-01</td>\n",
       "      <td>60.0</td>\n",
       "      <td>-59.25</td>\n",
       "      <td>33.938263</td>\n",
       "      <td>1026.588135</td>\n",
       "      <td>1</td>\n",
       "      <td>9</td>\n",
       "      <td>1997</td>\n",
       "    </tr>\n",
       "    <tr>\n",
       "      <th>4</th>\n",
       "      <td>1997-09-01</td>\n",
       "      <td>60.0</td>\n",
       "      <td>-59.00</td>\n",
       "      <td>34.003319</td>\n",
       "      <td>1026.617676</td>\n",
       "      <td>1</td>\n",
       "      <td>9</td>\n",
       "      <td>1997</td>\n",
       "    </tr>\n",
       "  </tbody>\n",
       "</table>\n",
       "</div>"
      ],
      "text/plain": [
       "        time  latitude  longitude        sos          dos  day  month  year\n",
       "0 1997-09-01      60.0     -60.00  33.808083  1026.524658    1      9  1997\n",
       "1 1997-09-01      60.0     -59.75  33.839203  1026.539307    1      9  1997\n",
       "2 1997-09-01      60.0     -59.50  33.868324  1026.554565    1      9  1997\n",
       "3 1997-09-01      60.0     -59.25  33.938263  1026.588135    1      9  1997\n",
       "4 1997-09-01      60.0     -59.00  34.003319  1026.617676    1      9  1997"
      ]
     },
     "execution_count": 22,
     "metadata": {},
     "output_type": "execute_result"
    }
   ],
   "source": [
    "# remove time and just have month and year\n",
    "df_cg = df_cg.reset_index()\n",
    "\n",
    "# from https://stackoverflow.com/questions/53509168/extract-year-month-and-day-from-datetime64ns-utc-python\n",
    "datetimes = pd.to_datetime(df_cg['time'])\n",
    "df_cg['day'] = datetimes.dt.day\n",
    "df_cg['month'] = datetimes.dt.month\n",
    "df_cg['year'] = datetimes.dt.year\n",
    "df_cg.head()"
   ]
  },
  {
   "cell_type": "code",
   "execution_count": 23,
   "metadata": {},
   "outputs": [
    {
     "data": {
      "text/html": [
       "<div>\n",
       "<style scoped>\n",
       "    .dataframe tbody tr th:only-of-type {\n",
       "        vertical-align: middle;\n",
       "    }\n",
       "\n",
       "    .dataframe tbody tr th {\n",
       "        vertical-align: top;\n",
       "    }\n",
       "\n",
       "    .dataframe thead th {\n",
       "        text-align: right;\n",
       "    }\n",
       "</style>\n",
       "<table border=\"1\" class=\"dataframe\">\n",
       "  <thead>\n",
       "    <tr style=\"text-align: right;\">\n",
       "      <th></th>\n",
       "      <th></th>\n",
       "      <th></th>\n",
       "      <th></th>\n",
       "      <th></th>\n",
       "      <th>sos</th>\n",
       "      <th>dos</th>\n",
       "    </tr>\n",
       "    <tr>\n",
       "      <th>year</th>\n",
       "      <th>month</th>\n",
       "      <th>day</th>\n",
       "      <th>latitude</th>\n",
       "      <th>longitude</th>\n",
       "      <th></th>\n",
       "      <th></th>\n",
       "    </tr>\n",
       "  </thead>\n",
       "  <tbody>\n",
       "    <tr>\n",
       "      <th rowspan=\"5\" valign=\"top\">1997</th>\n",
       "      <th rowspan=\"5\" valign=\"top\">9</th>\n",
       "      <th rowspan=\"5\" valign=\"top\">1</th>\n",
       "      <th rowspan=\"5\" valign=\"top\">60.0</th>\n",
       "      <th>-60.00</th>\n",
       "      <td>33.808083</td>\n",
       "      <td>1026.524658</td>\n",
       "    </tr>\n",
       "    <tr>\n",
       "      <th>-59.75</th>\n",
       "      <td>33.839203</td>\n",
       "      <td>1026.539307</td>\n",
       "    </tr>\n",
       "    <tr>\n",
       "      <th>-59.50</th>\n",
       "      <td>33.868324</td>\n",
       "      <td>1026.554565</td>\n",
       "    </tr>\n",
       "    <tr>\n",
       "      <th>-59.25</th>\n",
       "      <td>33.938263</td>\n",
       "      <td>1026.588135</td>\n",
       "    </tr>\n",
       "    <tr>\n",
       "      <th>-59.00</th>\n",
       "      <td>34.003319</td>\n",
       "      <td>1026.617676</td>\n",
       "    </tr>\n",
       "  </tbody>\n",
       "</table>\n",
       "</div>"
      ],
      "text/plain": [
       "                                         sos          dos\n",
       "year month day latitude longitude                        \n",
       "1997 9     1   60.0     -60.00     33.808083  1026.524658\n",
       "                        -59.75     33.839203  1026.539307\n",
       "                        -59.50     33.868324  1026.554565\n",
       "                        -59.25     33.938263  1026.588135\n",
       "                        -59.00     34.003319  1026.617676"
      ]
     },
     "execution_count": 23,
     "metadata": {},
     "output_type": "execute_result"
    }
   ],
   "source": [
    "# reomve the time column\n",
    "df_cg = df_cg.drop(columns=[\"time\"])\n",
    "df_cg = df_cg.set_index([\"year\",\"month\",\"day\",\"latitude\",\"longitude\"])\n",
    "\n",
    "df_cg.head()"
   ]
  },
  {
   "cell_type": "code",
   "execution_count": 24,
   "metadata": {},
   "outputs": [],
   "source": [
    "df_cg.to_csv(filename+\".csv\")"
   ]
  },
  {
   "cell_type": "markdown",
   "metadata": {},
   "source": [
    "Checking number of months in each year and number of days in each month"
   ]
  },
  {
   "cell_type": "code",
   "execution_count": 26,
   "metadata": {},
   "outputs": [
    {
     "data": {
      "text/html": [
       "<div>\n",
       "<style scoped>\n",
       "    .dataframe tbody tr th:only-of-type {\n",
       "        vertical-align: middle;\n",
       "    }\n",
       "\n",
       "    .dataframe tbody tr th {\n",
       "        vertical-align: top;\n",
       "    }\n",
       "\n",
       "    .dataframe thead th {\n",
       "        text-align: right;\n",
       "    }\n",
       "</style>\n",
       "<table border=\"1\" class=\"dataframe\">\n",
       "  <thead>\n",
       "    <tr style=\"text-align: right;\">\n",
       "      <th></th>\n",
       "      <th>year</th>\n",
       "      <th>month</th>\n",
       "      <th>day</th>\n",
       "      <th>latitude</th>\n",
       "      <th>longitude</th>\n",
       "      <th>sos</th>\n",
       "      <th>dos</th>\n",
       "    </tr>\n",
       "  </thead>\n",
       "  <tbody>\n",
       "    <tr>\n",
       "      <th>0</th>\n",
       "      <td>1997</td>\n",
       "      <td>9</td>\n",
       "      <td>1</td>\n",
       "      <td>60.0</td>\n",
       "      <td>-60.00</td>\n",
       "      <td>33.808083</td>\n",
       "      <td>1026.5247</td>\n",
       "    </tr>\n",
       "    <tr>\n",
       "      <th>1</th>\n",
       "      <td>1997</td>\n",
       "      <td>9</td>\n",
       "      <td>1</td>\n",
       "      <td>60.0</td>\n",
       "      <td>-59.75</td>\n",
       "      <td>33.839203</td>\n",
       "      <td>1026.5393</td>\n",
       "    </tr>\n",
       "    <tr>\n",
       "      <th>2</th>\n",
       "      <td>1997</td>\n",
       "      <td>9</td>\n",
       "      <td>1</td>\n",
       "      <td>60.0</td>\n",
       "      <td>-59.50</td>\n",
       "      <td>33.868324</td>\n",
       "      <td>1026.5546</td>\n",
       "    </tr>\n",
       "    <tr>\n",
       "      <th>3</th>\n",
       "      <td>1997</td>\n",
       "      <td>9</td>\n",
       "      <td>1</td>\n",
       "      <td>60.0</td>\n",
       "      <td>-59.25</td>\n",
       "      <td>33.938263</td>\n",
       "      <td>1026.5881</td>\n",
       "    </tr>\n",
       "    <tr>\n",
       "      <th>4</th>\n",
       "      <td>1997</td>\n",
       "      <td>9</td>\n",
       "      <td>1</td>\n",
       "      <td>60.0</td>\n",
       "      <td>-59.00</td>\n",
       "      <td>34.003320</td>\n",
       "      <td>1026.6177</td>\n",
       "    </tr>\n",
       "  </tbody>\n",
       "</table>\n",
       "</div>"
      ],
      "text/plain": [
       "   year  month  day  latitude  longitude        sos        dos\n",
       "0  1997      9    1      60.0     -60.00  33.808083  1026.5247\n",
       "1  1997      9    1      60.0     -59.75  33.839203  1026.5393\n",
       "2  1997      9    1      60.0     -59.50  33.868324  1026.5546\n",
       "3  1997      9    1      60.0     -59.25  33.938263  1026.5881\n",
       "4  1997      9    1      60.0     -59.00  34.003320  1026.6177"
      ]
     },
     "execution_count": 26,
     "metadata": {},
     "output_type": "execute_result"
    }
   ],
   "source": [
    "df_cg = pd.read_csv(\"1997_2022.csv\")\n",
    "df_cg.head()"
   ]
  },
  {
   "cell_type": "code",
   "execution_count": 27,
   "metadata": {},
   "outputs": [
    {
     "data": {
      "text/html": [
       "<div>\n",
       "<style scoped>\n",
       "    .dataframe tbody tr th:only-of-type {\n",
       "        vertical-align: middle;\n",
       "    }\n",
       "\n",
       "    .dataframe tbody tr th {\n",
       "        vertical-align: top;\n",
       "    }\n",
       "\n",
       "    .dataframe thead th {\n",
       "        text-align: right;\n",
       "    }\n",
       "</style>\n",
       "<table border=\"1\" class=\"dataframe\">\n",
       "  <thead>\n",
       "    <tr style=\"text-align: right;\">\n",
       "      <th></th>\n",
       "      <th>year</th>\n",
       "      <th>month</th>\n",
       "      <th>day</th>\n",
       "    </tr>\n",
       "  </thead>\n",
       "  <tbody>\n",
       "    <tr>\n",
       "      <th>0</th>\n",
       "      <td>1997</td>\n",
       "      <td>9</td>\n",
       "      <td>1</td>\n",
       "    </tr>\n",
       "    <tr>\n",
       "      <th>194</th>\n",
       "      <td>1997</td>\n",
       "      <td>10</td>\n",
       "      <td>1</td>\n",
       "    </tr>\n",
       "    <tr>\n",
       "      <th>388</th>\n",
       "      <td>1997</td>\n",
       "      <td>11</td>\n",
       "      <td>1</td>\n",
       "    </tr>\n",
       "    <tr>\n",
       "      <th>582</th>\n",
       "      <td>1997</td>\n",
       "      <td>12</td>\n",
       "      <td>1</td>\n",
       "    </tr>\n",
       "    <tr>\n",
       "      <th>776</th>\n",
       "      <td>1998</td>\n",
       "      <td>1</td>\n",
       "      <td>1</td>\n",
       "    </tr>\n",
       "  </tbody>\n",
       "</table>\n",
       "</div>"
      ],
      "text/plain": [
       "     year  month  day\n",
       "0    1997      9    1\n",
       "194  1997     10    1\n",
       "388  1997     11    1\n",
       "582  1997     12    1\n",
       "776  1998      1    1"
      ]
     },
     "execution_count": 27,
     "metadata": {},
     "output_type": "execute_result"
    }
   ],
   "source": [
    "df_time = df_cg.reset_index()\n",
    "df_time = df_time[[\"year\",\"month\",\"day\"]]\n",
    "df_time = df_time.drop_duplicates()\n",
    "df_time.head()"
   ]
  },
  {
   "cell_type": "code",
   "execution_count": 28,
   "metadata": {},
   "outputs": [
    {
     "data": {
      "text/plain": [
       "array([1])"
      ]
     },
     "execution_count": 28,
     "metadata": {},
     "output_type": "execute_result"
    }
   ],
   "source": [
    "df_time.day.unique()"
   ]
  },
  {
   "cell_type": "markdown",
   "metadata": {},
   "source": [
    "only day=1 exists in this, so can drop the day column"
   ]
  },
  {
   "cell_type": "code",
   "execution_count": 29,
   "metadata": {},
   "outputs": [
    {
     "data": {
      "text/plain": [
       "year\n",
       "2009    12\n",
       "2010    12\n",
       "2020    12\n",
       "2019    12\n",
       "2018    12\n",
       "2017    12\n",
       "2016    12\n",
       "2015    12\n",
       "2014    12\n",
       "2013    12\n",
       "2012    12\n",
       "2011    12\n",
       "2021    12\n",
       "1998    12\n",
       "2008    12\n",
       "2007    12\n",
       "2006    12\n",
       "2005    12\n",
       "2004    12\n",
       "2003    12\n",
       "2002    12\n",
       "2001    12\n",
       "2000    12\n",
       "1999    12\n",
       "1997     4\n",
       "Name: count, dtype: int64"
      ]
     },
     "execution_count": 29,
     "metadata": {},
     "output_type": "execute_result"
    }
   ],
   "source": [
    "df_time = df_time.drop(columns=[\"day\"])\n",
    "df_time.year.value_counts()"
   ]
  },
  {
   "cell_type": "code",
   "execution_count": 30,
   "metadata": {},
   "outputs": [],
   "source": [
    "# drop day as column and resave\n",
    "df_cg = df_cg.drop(columns=[\"day\"])\n",
    "df_cg.to_csv(\"1997_2021.csv\")"
   ]
  }
 ],
 "metadata": {
  "kernelspec": {
   "display_name": "new_atlantis",
   "language": "python",
   "name": "python3"
  },
  "language_info": {
   "codemirror_mode": {
    "name": "ipython",
    "version": 3
   },
   "file_extension": ".py",
   "mimetype": "text/x-python",
   "name": "python",
   "nbconvert_exporter": "python",
   "pygments_lexer": "ipython3",
   "version": "3.12.4"
  }
 },
 "nbformat": 4,
 "nbformat_minor": 2
}
