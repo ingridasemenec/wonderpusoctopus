{
 "cells": [
  {
   "cell_type": "code",
   "execution_count": 1,
   "metadata": {},
   "outputs": [
    {
     "name": "stderr",
     "output_type": "stream",
     "text": [
      "/home/kshitiz/anaconda3/envs/new_atlantis/lib/python3.12/site-packages/tqdm/auto.py:21: TqdmWarning: IProgress not found. Please update jupyter and ipywidgets. See https://ipywidgets.readthedocs.io/en/stable/user_install.html\n",
      "  from .autonotebook import tqdm as notebook_tqdm\n"
     ]
    }
   ],
   "source": [
    "import pandas as pd\n",
    "import numpy as np\n",
    "import copernicusmarine as cm"
   ]
  },
  {
   "cell_type": "markdown",
   "metadata": {},
   "source": [
    "If pisces was extracted in multiple parts, first merge the separate year-wise pisces datasets"
   ]
  },
  {
   "cell_type": "code",
   "execution_count": 14,
   "metadata": {},
   "outputs": [],
   "source": [
    "# load the multi year dataframes\n",
    "df1 = pd.read_csv(\"1997_1999.csv\")\n",
    "df2 = pd.read_csv(\"2000_2004.csv\")\n",
    "df3 = pd.read_csv(\"2005_2009.csv\")\n",
    "df4 = pd.read_csv(\"2010_2016.csv\")\n",
    "df5 = pd.read_csv(\"2017_2022.csv\")"
   ]
  },
  {
   "cell_type": "code",
   "execution_count": 16,
   "metadata": {},
   "outputs": [
    {
     "name": "stdout",
     "output_type": "stream",
     "text": [
      "(59085, 10)\n"
     ]
    },
    {
     "data": {
      "text/html": [
       "<div>\n",
       "<style scoped>\n",
       "    .dataframe tbody tr th:only-of-type {\n",
       "        vertical-align: middle;\n",
       "    }\n",
       "\n",
       "    .dataframe tbody tr th {\n",
       "        vertical-align: top;\n",
       "    }\n",
       "\n",
       "    .dataframe thead th {\n",
       "        text-align: right;\n",
       "    }\n",
       "</style>\n",
       "<table border=\"1\" class=\"dataframe\">\n",
       "  <thead>\n",
       "    <tr style=\"text-align: right;\">\n",
       "      <th></th>\n",
       "      <th>year</th>\n",
       "      <th>month</th>\n",
       "      <th>day</th>\n",
       "      <th>latitude</th>\n",
       "      <th>longitude</th>\n",
       "      <th>fe</th>\n",
       "      <th>no3</th>\n",
       "      <th>o2</th>\n",
       "      <th>po4</th>\n",
       "      <th>si</th>\n",
       "    </tr>\n",
       "  </thead>\n",
       "  <tbody>\n",
       "    <tr>\n",
       "      <th>0</th>\n",
       "      <td>1997</td>\n",
       "      <td>9</td>\n",
       "      <td>30</td>\n",
       "      <td>60.0</td>\n",
       "      <td>-60.00</td>\n",
       "      <td>0.000486</td>\n",
       "      <td>11.222772</td>\n",
       "      <td>296.13693</td>\n",
       "      <td>0.796657</td>\n",
       "      <td>5.786915</td>\n",
       "    </tr>\n",
       "    <tr>\n",
       "      <th>1</th>\n",
       "      <td>1997</td>\n",
       "      <td>9</td>\n",
       "      <td>30</td>\n",
       "      <td>60.0</td>\n",
       "      <td>-59.75</td>\n",
       "      <td>0.000463</td>\n",
       "      <td>11.589886</td>\n",
       "      <td>294.46850</td>\n",
       "      <td>0.815317</td>\n",
       "      <td>5.958273</td>\n",
       "    </tr>\n",
       "    <tr>\n",
       "      <th>2</th>\n",
       "      <td>1997</td>\n",
       "      <td>9</td>\n",
       "      <td>30</td>\n",
       "      <td>60.0</td>\n",
       "      <td>-59.50</td>\n",
       "      <td>0.000462</td>\n",
       "      <td>11.909455</td>\n",
       "      <td>294.29047</td>\n",
       "      <td>0.835375</td>\n",
       "      <td>6.229589</td>\n",
       "    </tr>\n",
       "    <tr>\n",
       "      <th>3</th>\n",
       "      <td>1997</td>\n",
       "      <td>9</td>\n",
       "      <td>30</td>\n",
       "      <td>60.0</td>\n",
       "      <td>-59.25</td>\n",
       "      <td>0.000450</td>\n",
       "      <td>12.060244</td>\n",
       "      <td>295.59393</td>\n",
       "      <td>0.845898</td>\n",
       "      <td>6.304459</td>\n",
       "    </tr>\n",
       "    <tr>\n",
       "      <th>4</th>\n",
       "      <td>1997</td>\n",
       "      <td>9</td>\n",
       "      <td>30</td>\n",
       "      <td>60.0</td>\n",
       "      <td>-59.00</td>\n",
       "      <td>0.000441</td>\n",
       "      <td>12.280532</td>\n",
       "      <td>295.78656</td>\n",
       "      <td>0.859954</td>\n",
       "      <td>6.477449</td>\n",
       "    </tr>\n",
       "  </tbody>\n",
       "</table>\n",
       "</div>"
      ],
      "text/plain": [
       "   year  month  day  latitude  longitude        fe        no3         o2  \\\n",
       "0  1997      9   30      60.0     -60.00  0.000486  11.222772  296.13693   \n",
       "1  1997      9   30      60.0     -59.75  0.000463  11.589886  294.46850   \n",
       "2  1997      9   30      60.0     -59.50  0.000462  11.909455  294.29047   \n",
       "3  1997      9   30      60.0     -59.25  0.000450  12.060244  295.59393   \n",
       "4  1997      9   30      60.0     -59.00  0.000441  12.280532  295.78656   \n",
       "\n",
       "        po4        si  \n",
       "0  0.796657  5.786915  \n",
       "1  0.815317  5.958273  \n",
       "2  0.835375  6.229589  \n",
       "3  0.845898  6.304459  \n",
       "4  0.859954  6.477449  "
      ]
     },
     "execution_count": 16,
     "metadata": {},
     "output_type": "execute_result"
    }
   ],
   "source": [
    "df = pd.concat([df1, df2, df3, df4, df5])\n",
    "print(df.shape)\n",
    "df.head()"
   ]
  },
  {
   "cell_type": "code",
   "execution_count": 27,
   "metadata": {},
   "outputs": [],
   "source": [
    "df.to_csv(\"pisces_1997_2021.csv\")"
   ]
  },
  {
   "cell_type": "markdown",
   "metadata": {},
   "source": [
    "Merge all the datasets"
   ]
  },
  {
   "cell_type": "code",
   "execution_count": 41,
   "metadata": {},
   "outputs": [],
   "source": [
    "chl = pd.read_csv(\"../chl_1997_2021.csv\").set_index([\"year\",\"month\",\"latitude\",\"longitude\"])\n",
    "pisces = pd.read_csv(\"pisces_1997_2021.csv\").set_index([\"year\",\"month\",\"latitude\",\"longitude\"])\n",
    "sst = pd.read_csv(\"../sst_1997_2021.csv\").set_index([\"year\",\"month\",\"latitude\",\"longitude\"])\n",
    "sssd = pd.read_csv(\"../sssd_1997_2021.csv\").set_index([\"year\",\"month\",\"latitude\",\"longitude\"])\n",
    "carbon = pd.read_csv(\"../carbon_1997_2021.csv\").set_index([\"year\",\"month\",\"latitude\",\"longitude\"])\n",
    "bathy = pd.read_csv(\"../bathy.csv\").set_index([\"latitude\",\"longitude\"])"
   ]
  },
  {
   "cell_type": "code",
   "execution_count": 42,
   "metadata": {},
   "outputs": [
    {
     "data": {
      "text/plain": [
       "(46339, 1)"
      ]
     },
     "execution_count": 42,
     "metadata": {},
     "output_type": "execute_result"
    }
   ],
   "source": [
    "all = chl\n",
    "all.shape"
   ]
  },
  {
   "cell_type": "code",
   "execution_count": 43,
   "metadata": {},
   "outputs": [
    {
     "data": {
      "text/plain": [
       "(38034, 6)"
      ]
     },
     "execution_count": 43,
     "metadata": {},
     "output_type": "execute_result"
    }
   ],
   "source": [
    "all = all.join(pisces, how=\"inner\")\n",
    "all.shape"
   ]
  },
  {
   "cell_type": "code",
   "execution_count": 44,
   "metadata": {},
   "outputs": [
    {
     "data": {
      "text/plain": [
       "(37075, 7)"
      ]
     },
     "execution_count": 44,
     "metadata": {},
     "output_type": "execute_result"
    }
   ],
   "source": [
    "all = all.join(sst, how=\"inner\")\n",
    "all.shape"
   ]
  },
  {
   "cell_type": "code",
   "execution_count": 45,
   "metadata": {},
   "outputs": [
    {
     "data": {
      "text/plain": [
       "(36068, 9)"
      ]
     },
     "execution_count": 45,
     "metadata": {},
     "output_type": "execute_result"
    }
   ],
   "source": [
    "all = all.join(sssd, how=\"inner\")\n",
    "all.shape"
   ]
  },
  {
   "cell_type": "code",
   "execution_count": 46,
   "metadata": {},
   "outputs": [
    {
     "data": {
      "text/plain": [
       "(35658, 16)"
      ]
     },
     "execution_count": 46,
     "metadata": {},
     "output_type": "execute_result"
    }
   ],
   "source": [
    "all = all.join(carbon, how=\"inner\")\n",
    "all.shape"
   ]
  },
  {
   "cell_type": "code",
   "execution_count": 47,
   "metadata": {},
   "outputs": [
    {
     "data": {
      "text/plain": [
       "(35658, 17)"
      ]
     },
     "execution_count": 47,
     "metadata": {},
     "output_type": "execute_result"
    }
   ],
   "source": [
    "all = all.join(bathy, how=\"inner\")\n",
    "all.shape"
   ]
  },
  {
   "cell_type": "code",
   "execution_count": 48,
   "metadata": {},
   "outputs": [
    {
     "data": {
      "text/html": [
       "<div>\n",
       "<style scoped>\n",
       "    .dataframe tbody tr th:only-of-type {\n",
       "        vertical-align: middle;\n",
       "    }\n",
       "\n",
       "    .dataframe tbody tr th {\n",
       "        vertical-align: top;\n",
       "    }\n",
       "\n",
       "    .dataframe thead th {\n",
       "        text-align: right;\n",
       "    }\n",
       "</style>\n",
       "<table border=\"1\" class=\"dataframe\">\n",
       "  <thead>\n",
       "    <tr style=\"text-align: right;\">\n",
       "      <th></th>\n",
       "      <th></th>\n",
       "      <th></th>\n",
       "      <th></th>\n",
       "      <th>CHL</th>\n",
       "      <th>fe</th>\n",
       "      <th>no3</th>\n",
       "      <th>o2</th>\n",
       "      <th>po4</th>\n",
       "      <th>si</th>\n",
       "      <th>analysed_sst</th>\n",
       "      <th>sos</th>\n",
       "      <th>dos</th>\n",
       "      <th>fgco2</th>\n",
       "      <th>omega_ar</th>\n",
       "      <th>omega_ca</th>\n",
       "      <th>ph</th>\n",
       "      <th>spco2</th>\n",
       "      <th>talk</th>\n",
       "      <th>tco2</th>\n",
       "      <th>bathy</th>\n",
       "    </tr>\n",
       "    <tr>\n",
       "      <th>year</th>\n",
       "      <th>month</th>\n",
       "      <th>latitude</th>\n",
       "      <th>longitude</th>\n",
       "      <th></th>\n",
       "      <th></th>\n",
       "      <th></th>\n",
       "      <th></th>\n",
       "      <th></th>\n",
       "      <th></th>\n",
       "      <th></th>\n",
       "      <th></th>\n",
       "      <th></th>\n",
       "      <th></th>\n",
       "      <th></th>\n",
       "      <th></th>\n",
       "      <th></th>\n",
       "      <th></th>\n",
       "      <th></th>\n",
       "      <th></th>\n",
       "      <th></th>\n",
       "    </tr>\n",
       "  </thead>\n",
       "  <tbody>\n",
       "    <tr>\n",
       "      <th rowspan=\"5\" valign=\"top\">1997</th>\n",
       "      <th rowspan=\"5\" valign=\"top\">9</th>\n",
       "      <th rowspan=\"5\" valign=\"top\">60.0</th>\n",
       "      <th>-60.00</th>\n",
       "      <td>0.398709</td>\n",
       "      <td>0.000486</td>\n",
       "      <td>11.222772</td>\n",
       "      <td>296.13693</td>\n",
       "      <td>0.796657</td>\n",
       "      <td>5.786915</td>\n",
       "      <td>279.375594</td>\n",
       "      <td>33.808083</td>\n",
       "      <td>1026.5247</td>\n",
       "      <td>3.892427</td>\n",
       "      <td>1.923069</td>\n",
       "      <td>3.057008</td>\n",
       "      <td>8.148241</td>\n",
       "      <td>298.65195</td>\n",
       "      <td>2241.7560</td>\n",
       "      <td>2064.8010</td>\n",
       "      <td>1905.5879</td>\n",
       "    </tr>\n",
       "    <tr>\n",
       "      <th>-59.75</th>\n",
       "      <td>0.360659</td>\n",
       "      <td>0.000463</td>\n",
       "      <td>11.589886</td>\n",
       "      <td>294.46850</td>\n",
       "      <td>0.815317</td>\n",
       "      <td>5.958273</td>\n",
       "      <td>279.483794</td>\n",
       "      <td>33.839203</td>\n",
       "      <td>1026.5393</td>\n",
       "      <td>3.776092</td>\n",
       "      <td>1.917293</td>\n",
       "      <td>3.047476</td>\n",
       "      <td>8.145193</td>\n",
       "      <td>301.19180</td>\n",
       "      <td>2242.5386</td>\n",
       "      <td>2066.3040</td>\n",
       "      <td>2183.0210</td>\n",
       "    </tr>\n",
       "    <tr>\n",
       "      <th>-59.50</th>\n",
       "      <td>0.344952</td>\n",
       "      <td>0.000462</td>\n",
       "      <td>11.909455</td>\n",
       "      <td>294.29047</td>\n",
       "      <td>0.835375</td>\n",
       "      <td>6.229589</td>\n",
       "      <td>279.587060</td>\n",
       "      <td>33.868324</td>\n",
       "      <td>1026.5546</td>\n",
       "      <td>3.588515</td>\n",
       "      <td>1.931662</td>\n",
       "      <td>3.068809</td>\n",
       "      <td>8.142040</td>\n",
       "      <td>304.23790</td>\n",
       "      <td>2244.6096</td>\n",
       "      <td>2067.0552</td>\n",
       "      <td>2340.9187</td>\n",
       "    </tr>\n",
       "    <tr>\n",
       "      <th>-59.25</th>\n",
       "      <td>0.328261</td>\n",
       "      <td>0.000450</td>\n",
       "      <td>12.060244</td>\n",
       "      <td>295.59393</td>\n",
       "      <td>0.845898</td>\n",
       "      <td>6.304459</td>\n",
       "      <td>279.888394</td>\n",
       "      <td>33.938263</td>\n",
       "      <td>1026.5881</td>\n",
       "      <td>3.499163</td>\n",
       "      <td>1.944287</td>\n",
       "      <td>3.087775</td>\n",
       "      <td>8.140802</td>\n",
       "      <td>305.71920</td>\n",
       "      <td>2247.9236</td>\n",
       "      <td>2069.1458</td>\n",
       "      <td>2482.4104</td>\n",
       "    </tr>\n",
       "    <tr>\n",
       "      <th>-59.00</th>\n",
       "      <td>0.321946</td>\n",
       "      <td>0.000441</td>\n",
       "      <td>12.280532</td>\n",
       "      <td>295.78656</td>\n",
       "      <td>0.859954</td>\n",
       "      <td>6.477449</td>\n",
       "      <td>280.220194</td>\n",
       "      <td>34.003320</td>\n",
       "      <td>1026.6177</td>\n",
       "      <td>3.433449</td>\n",
       "      <td>1.949239</td>\n",
       "      <td>3.095119</td>\n",
       "      <td>8.139954</td>\n",
       "      <td>306.59482</td>\n",
       "      <td>2249.1016</td>\n",
       "      <td>2069.8516</td>\n",
       "      <td>2601.2500</td>\n",
       "    </tr>\n",
       "  </tbody>\n",
       "</table>\n",
       "</div>"
      ],
      "text/plain": [
       "                                    CHL        fe        no3         o2  \\\n",
       "year month latitude longitude                                             \n",
       "1997 9     60.0     -60.00     0.398709  0.000486  11.222772  296.13693   \n",
       "                    -59.75     0.360659  0.000463  11.589886  294.46850   \n",
       "                    -59.50     0.344952  0.000462  11.909455  294.29047   \n",
       "                    -59.25     0.328261  0.000450  12.060244  295.59393   \n",
       "                    -59.00     0.321946  0.000441  12.280532  295.78656   \n",
       "\n",
       "                                    po4        si  analysed_sst        sos  \\\n",
       "year month latitude longitude                                                \n",
       "1997 9     60.0     -60.00     0.796657  5.786915    279.375594  33.808083   \n",
       "                    -59.75     0.815317  5.958273    279.483794  33.839203   \n",
       "                    -59.50     0.835375  6.229589    279.587060  33.868324   \n",
       "                    -59.25     0.845898  6.304459    279.888394  33.938263   \n",
       "                    -59.00     0.859954  6.477449    280.220194  34.003320   \n",
       "\n",
       "                                     dos     fgco2  omega_ar  omega_ca  \\\n",
       "year month latitude longitude                                            \n",
       "1997 9     60.0     -60.00     1026.5247  3.892427  1.923069  3.057008   \n",
       "                    -59.75     1026.5393  3.776092  1.917293  3.047476   \n",
       "                    -59.50     1026.5546  3.588515  1.931662  3.068809   \n",
       "                    -59.25     1026.5881  3.499163  1.944287  3.087775   \n",
       "                    -59.00     1026.6177  3.433449  1.949239  3.095119   \n",
       "\n",
       "                                     ph      spco2       talk       tco2  \\\n",
       "year month latitude longitude                                              \n",
       "1997 9     60.0     -60.00     8.148241  298.65195  2241.7560  2064.8010   \n",
       "                    -59.75     8.145193  301.19180  2242.5386  2066.3040   \n",
       "                    -59.50     8.142040  304.23790  2244.6096  2067.0552   \n",
       "                    -59.25     8.140802  305.71920  2247.9236  2069.1458   \n",
       "                    -59.00     8.139954  306.59482  2249.1016  2069.8516   \n",
       "\n",
       "                                   bathy  \n",
       "year month latitude longitude             \n",
       "1997 9     60.0     -60.00     1905.5879  \n",
       "                    -59.75     2183.0210  \n",
       "                    -59.50     2340.9187  \n",
       "                    -59.25     2482.4104  \n",
       "                    -59.00     2601.2500  "
      ]
     },
     "execution_count": 48,
     "metadata": {},
     "output_type": "execute_result"
    }
   ],
   "source": [
    "all.head()"
   ]
  },
  {
   "cell_type": "code",
   "execution_count": 49,
   "metadata": {},
   "outputs": [],
   "source": [
    "all.to_csv(\"../all_1997_2021.csv\")"
   ]
  }
 ],
 "metadata": {
  "kernelspec": {
   "display_name": "new_atlantis",
   "language": "python",
   "name": "python3"
  },
  "language_info": {
   "codemirror_mode": {
    "name": "ipython",
    "version": 3
   },
   "file_extension": ".py",
   "mimetype": "text/x-python",
   "name": "python",
   "nbconvert_exporter": "python",
   "pygments_lexer": "ipython3",
   "version": "3.12.4"
  }
 },
 "nbformat": 4,
 "nbformat_minor": 2
}
