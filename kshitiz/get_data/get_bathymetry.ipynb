{
 "cells": [
  {
   "cell_type": "code",
   "execution_count": 1,
   "metadata": {},
   "outputs": [
    {
     "name": "stderr",
     "output_type": "stream",
     "text": [
      "/home/kshitiz/anaconda3/envs/new_atlantis/lib/python3.12/site-packages/tqdm/auto.py:21: TqdmWarning: IProgress not found. Please update jupyter and ipywidgets. See https://ipywidgets.readthedocs.io/en/stable/user_install.html\n",
      "  from .autonotebook import tqdm as notebook_tqdm\n"
     ]
    }
   ],
   "source": [
    "import pandas as pd\n",
    "import numpy as np\n",
    "import copernicusmarine as cm"
   ]
  },
  {
   "cell_type": "code",
   "execution_count": 2,
   "metadata": {},
   "outputs": [
    {
     "name": "stdout",
     "output_type": "stream",
     "text": [
      "File /home/kshitiz/.copernicusmarine/.copernicusmarine-credentials already exists, overwrite it ? [y/N]:"
     ]
    },
    {
     "name": "stderr",
     "output_type": "stream",
     "text": [
      "INFO - 2024-08-06T17:19:24Z - Credentials file stored in /home/kshitiz/.copernicusmarine/.copernicusmarine-credentials.\n"
     ]
    },
    {
     "data": {
      "text/plain": [
       "True"
      ]
     },
     "execution_count": 2,
     "metadata": {},
     "output_type": "execute_result"
    }
   ],
   "source": [
    "cm.login(username=\"\", password=\"\")"
   ]
  },
  {
   "cell_type": "markdown",
   "metadata": {},
   "source": [
    "Dataset 5: Bathymetry (Sea floor depth below geoid) data from Global Ocean Physics Reanalysis (https://data.marine.copernicus.eu/product/GLOBAL_MULTIYEAR_PHY_001_030/description)\n",
    "- dataset_id: \"cmems_mod_glo_phy_my_0.083deg_static\"\n",
    "- variables: [\"deptho\"]\n",
    "- Parameter definition:\n",
    "    - deptho [m]: Sea floor depth below geoid\n",
    "- Spatial resolution: 0.083deg x 0.083deg\n",
    "Also need to specify min and max depth parameters for getting bathymetry data\n",
    "- depth: [0.49402499198913574, 5727.9169921875]"
   ]
  },
  {
   "cell_type": "code",
   "execution_count": 3,
   "metadata": {},
   "outputs": [],
   "source": [
    "# filename for saving the data as csv\n",
    "filename = 'bathy'"
   ]
  },
  {
   "cell_type": "code",
   "execution_count": 4,
   "metadata": {},
   "outputs": [],
   "source": [
    "# Set parameters\n",
    "data_request = {\n",
    "    \"dataset_id\" : \"cmems_mod_glo_phy_my_0.083deg_static\",\n",
    "    \"variables\" : [\"deptho\"],\n",
    "    \"longitude\" : [-60, -10], \n",
    "    \"latitude\" : [60, 40],\n",
    "    \"time\" : [None, None],\n",
    "    \"depth\": [0.49402499198913574, 5727.9169921875]\n",
    "}"
   ]
  },
  {
   "cell_type": "code",
   "execution_count": 5,
   "metadata": {},
   "outputs": [
    {
     "name": "stderr",
     "output_type": "stream",
     "text": [
      "INFO - 2024-08-06T17:19:38Z - Dataset version was not specified, the latest one was selected: \"202311\"\n",
      "INFO - 2024-08-06T17:19:38Z - Dataset part was not specified, the first one was selected: \"bathy\"\n",
      "INFO - 2024-08-06T17:19:38Z - Service was not specified, the default one was selected: \"static-arco\"\n"
     ]
    }
   ],
   "source": [
    "df = cm.read_dataframe(\n",
    "    dataset_id=data_request[\"dataset_id\"],\n",
    "    variables=data_request[\"variables\"],\n",
    "    minimum_longitude=data_request[\"longitude\"][0],\n",
    "    maximum_longitude=data_request[\"longitude\"][1],\n",
    "    minimum_latitude=data_request[\"latitude\"][0],\n",
    "    maximum_latitude=data_request[\"latitude\"][1],\n",
    "    minimum_depth=data_request[\"depth\"][0],\n",
    "    maximum_depth=data_request[\"depth\"][1],\n",
    "    start_datetime=data_request[\"time\"][0],\n",
    "    end_datetime=data_request[\"time\"][1]\n",
    ")"
   ]
  },
  {
   "cell_type": "code",
   "execution_count": 6,
   "metadata": {},
   "outputs": [
    {
     "name": "stdout",
     "output_type": "stream",
     "text": [
      "(601, 1)\n"
     ]
    },
    {
     "data": {
      "text/html": [
       "<div>\n",
       "<style scoped>\n",
       "    .dataframe tbody tr th:only-of-type {\n",
       "        vertical-align: middle;\n",
       "    }\n",
       "\n",
       "    .dataframe tbody tr th {\n",
       "        vertical-align: top;\n",
       "    }\n",
       "\n",
       "    .dataframe thead th {\n",
       "        text-align: right;\n",
       "    }\n",
       "</style>\n",
       "<table border=\"1\" class=\"dataframe\">\n",
       "  <thead>\n",
       "    <tr style=\"text-align: right;\">\n",
       "      <th></th>\n",
       "      <th></th>\n",
       "      <th>deptho</th>\n",
       "    </tr>\n",
       "    <tr>\n",
       "      <th>latitude</th>\n",
       "      <th>longitude</th>\n",
       "      <th></th>\n",
       "    </tr>\n",
       "  </thead>\n",
       "  <tbody>\n",
       "    <tr>\n",
       "      <th rowspan=\"5\" valign=\"top\">60.0</th>\n",
       "      <th>-60.000000</th>\n",
       "      <td>1786.468994</td>\n",
       "    </tr>\n",
       "    <tr>\n",
       "      <th>-59.916668</th>\n",
       "      <td>1900.500977</td>\n",
       "    </tr>\n",
       "    <tr>\n",
       "      <th>-59.833332</th>\n",
       "      <td>2029.793945</td>\n",
       "    </tr>\n",
       "    <tr>\n",
       "      <th>-59.750000</th>\n",
       "      <td>2127.037109</td>\n",
       "    </tr>\n",
       "    <tr>\n",
       "      <th>-59.666668</th>\n",
       "      <td>2191.720947</td>\n",
       "    </tr>\n",
       "  </tbody>\n",
       "</table>\n",
       "</div>"
      ],
      "text/plain": [
       "                          deptho\n",
       "latitude longitude              \n",
       "60.0     -60.000000  1786.468994\n",
       "         -59.916668  1900.500977\n",
       "         -59.833332  2029.793945\n",
       "         -59.750000  2127.037109\n",
       "         -59.666668  2191.720947"
      ]
     },
     "execution_count": 6,
     "metadata": {},
     "output_type": "execute_result"
    }
   ],
   "source": [
    "print(df.shape)\n",
    "df.head()"
   ]
  },
  {
   "cell_type": "code",
   "execution_count": 7,
   "metadata": {},
   "outputs": [
    {
     "data": {
      "text/html": [
       "<div>\n",
       "<style scoped>\n",
       "    .dataframe tbody tr th:only-of-type {\n",
       "        vertical-align: middle;\n",
       "    }\n",
       "\n",
       "    .dataframe tbody tr th {\n",
       "        vertical-align: top;\n",
       "    }\n",
       "\n",
       "    .dataframe thead th {\n",
       "        text-align: right;\n",
       "    }\n",
       "</style>\n",
       "<table border=\"1\" class=\"dataframe\">\n",
       "  <thead>\n",
       "    <tr style=\"text-align: right;\">\n",
       "      <th></th>\n",
       "      <th>latitude</th>\n",
       "      <th>longitude</th>\n",
       "      <th>deptho</th>\n",
       "    </tr>\n",
       "  </thead>\n",
       "  <tbody>\n",
       "    <tr>\n",
       "      <th>0</th>\n",
       "      <td>60.0</td>\n",
       "      <td>-60.000000</td>\n",
       "      <td>1786.468994</td>\n",
       "    </tr>\n",
       "    <tr>\n",
       "      <th>1</th>\n",
       "      <td>60.0</td>\n",
       "      <td>-59.916668</td>\n",
       "      <td>1900.500977</td>\n",
       "    </tr>\n",
       "    <tr>\n",
       "      <th>2</th>\n",
       "      <td>60.0</td>\n",
       "      <td>-59.833332</td>\n",
       "      <td>2029.793945</td>\n",
       "    </tr>\n",
       "    <tr>\n",
       "      <th>3</th>\n",
       "      <td>60.0</td>\n",
       "      <td>-59.750000</td>\n",
       "      <td>2127.037109</td>\n",
       "    </tr>\n",
       "    <tr>\n",
       "      <th>4</th>\n",
       "      <td>60.0</td>\n",
       "      <td>-59.666668</td>\n",
       "      <td>2191.720947</td>\n",
       "    </tr>\n",
       "  </tbody>\n",
       "</table>\n",
       "</div>"
      ],
      "text/plain": [
       "   latitude  longitude       deptho\n",
       "0      60.0 -60.000000  1786.468994\n",
       "1      60.0 -59.916668  1900.500977\n",
       "2      60.0 -59.833332  2029.793945\n",
       "3      60.0 -59.750000  2127.037109\n",
       "4      60.0 -59.666668  2191.720947"
      ]
     },
     "execution_count": 7,
     "metadata": {},
     "output_type": "execute_result"
    }
   ],
   "source": [
    "# remove the index columns corresponding to time, latitude and longitude\n",
    "df = df.reset_index()\n",
    "# drop na rows\n",
    "df = df.dropna()\n",
    "\n",
    "df.head()"
   ]
  },
  {
   "cell_type": "code",
   "execution_count": 8,
   "metadata": {},
   "outputs": [],
   "source": [
    "# function to coarse grain the data and make resolution same as Pisces data\n",
    "def coarse_grain(df, features):\n",
    "  \"\"\"\n",
    "    Parameters\n",
    "    ----------\n",
    "    df: pandas dataframe containing the data accessed from copernicus mariner\n",
    "    features: name of the features in the dataframe\n",
    "\n",
    "    Output\n",
    "    ------\n",
    "    a pandas dataframe with feature values for 0.25 deg x 0.25 deg resolution \n",
    "\n",
    "    \"\"\"\n",
    "  \n",
    "  df[\"0_1\"] = df[\"latitude\"].to_numpy() - np.floor(df[\"latitude\"])\n",
    "  conditions = [df[\"0_1\"] < 0.25,\n",
    "                (df[\"0_1\"] >= 0.25)  & (df[\"0_1\"] < 0.5),\n",
    "                (df[\"0_1\"] >= 0.5)  & (df[\"0_1\"] < 0.75),\n",
    "                (df[\"0_1\"] >= 0.75)  & (df[\"0_1\"] < 1)]\n",
    "  outputs = [0, 0.25, 0.5, 0.75]\n",
    "  df['latitude'] = np.floor(df[\"latitude\"]) + np.select(conditions, outputs)\n",
    "  df = df.drop(columns=[\"0_1\"])\n",
    "\n",
    "  df[\"0_1\"] = df[\"longitude\"].to_numpy() - np.floor(df[\"longitude\"])\n",
    "  # if not redefined then conditions is based on latitude\n",
    "  conditions = [df[\"0_1\"] < 0.25,\n",
    "              (df[\"0_1\"] >= 0.25)  & (df[\"0_1\"] < 0.5),\n",
    "              (df[\"0_1\"] >= 0.5)  & (df[\"0_1\"] < 0.75),\n",
    "              (df[\"0_1\"] >= 0.75)  & (df[\"0_1\"] < 1)]\n",
    "  df['longitude'] = np.floor(df[\"longitude\"]) + np.select(conditions, outputs)\n",
    "  df = df.drop(columns=[\"0_1\"])\n",
    "\n",
    "  return df.groupby([\"latitude\",\"longitude\"])[features].mean() "
   ]
  },
  {
   "cell_type": "code",
   "execution_count": 9,
   "metadata": {},
   "outputs": [
    {
     "name": "stdout",
     "output_type": "stream",
     "text": [
      "(197, 1)\n"
     ]
    },
    {
     "data": {
      "text/html": [
       "<div>\n",
       "<style scoped>\n",
       "    .dataframe tbody tr th:only-of-type {\n",
       "        vertical-align: middle;\n",
       "    }\n",
       "\n",
       "    .dataframe tbody tr th {\n",
       "        vertical-align: top;\n",
       "    }\n",
       "\n",
       "    .dataframe thead th {\n",
       "        text-align: right;\n",
       "    }\n",
       "</style>\n",
       "<table border=\"1\" class=\"dataframe\">\n",
       "  <thead>\n",
       "    <tr style=\"text-align: right;\">\n",
       "      <th></th>\n",
       "      <th></th>\n",
       "      <th>deptho</th>\n",
       "    </tr>\n",
       "    <tr>\n",
       "      <th>latitude</th>\n",
       "      <th>longitude</th>\n",
       "      <th></th>\n",
       "    </tr>\n",
       "  </thead>\n",
       "  <tbody>\n",
       "    <tr>\n",
       "      <th rowspan=\"5\" valign=\"top\">60.0</th>\n",
       "      <th>-60.00</th>\n",
       "      <td>1905.587891</td>\n",
       "    </tr>\n",
       "    <tr>\n",
       "      <th>-59.75</th>\n",
       "      <td>2183.020996</td>\n",
       "    </tr>\n",
       "    <tr>\n",
       "      <th>-59.50</th>\n",
       "      <td>2340.918701</td>\n",
       "    </tr>\n",
       "    <tr>\n",
       "      <th>-59.25</th>\n",
       "      <td>2482.410400</td>\n",
       "    </tr>\n",
       "    <tr>\n",
       "      <th>-59.00</th>\n",
       "      <td>2601.250000</td>\n",
       "    </tr>\n",
       "  </tbody>\n",
       "</table>\n",
       "</div>"
      ],
      "text/plain": [
       "                         deptho\n",
       "latitude longitude             \n",
       "60.0     -60.00     1905.587891\n",
       "         -59.75     2183.020996\n",
       "         -59.50     2340.918701\n",
       "         -59.25     2482.410400\n",
       "         -59.00     2601.250000"
      ]
     },
     "execution_count": 9,
     "metadata": {},
     "output_type": "execute_result"
    }
   ],
   "source": [
    "# Need coarse grain the values because all these datasets have finer resolution than Pisces data\n",
    "# Pisces data has resolution of 0.25 deg x 0.25 deg\n",
    "df_cg = coarse_grain(df, df.columns[2:].tolist())\n",
    "print(df_cg.shape)\n",
    "df_cg.head()"
   ]
  },
  {
   "cell_type": "code",
   "execution_count": 12,
   "metadata": {},
   "outputs": [
    {
     "data": {
      "text/html": [
       "<div>\n",
       "<style scoped>\n",
       "    .dataframe tbody tr th:only-of-type {\n",
       "        vertical-align: middle;\n",
       "    }\n",
       "\n",
       "    .dataframe tbody tr th {\n",
       "        vertical-align: top;\n",
       "    }\n",
       "\n",
       "    .dataframe thead th {\n",
       "        text-align: right;\n",
       "    }\n",
       "</style>\n",
       "<table border=\"1\" class=\"dataframe\">\n",
       "  <thead>\n",
       "    <tr style=\"text-align: right;\">\n",
       "      <th></th>\n",
       "      <th></th>\n",
       "      <th>bathy</th>\n",
       "    </tr>\n",
       "    <tr>\n",
       "      <th>latitude</th>\n",
       "      <th>longitude</th>\n",
       "      <th></th>\n",
       "    </tr>\n",
       "  </thead>\n",
       "  <tbody>\n",
       "    <tr>\n",
       "      <th rowspan=\"5\" valign=\"top\">60.0</th>\n",
       "      <th>-60.00</th>\n",
       "      <td>1905.587891</td>\n",
       "    </tr>\n",
       "    <tr>\n",
       "      <th>-59.75</th>\n",
       "      <td>2183.020996</td>\n",
       "    </tr>\n",
       "    <tr>\n",
       "      <th>-59.50</th>\n",
       "      <td>2340.918701</td>\n",
       "    </tr>\n",
       "    <tr>\n",
       "      <th>-59.25</th>\n",
       "      <td>2482.410400</td>\n",
       "    </tr>\n",
       "    <tr>\n",
       "      <th>-59.00</th>\n",
       "      <td>2601.250000</td>\n",
       "    </tr>\n",
       "  </tbody>\n",
       "</table>\n",
       "</div>"
      ],
      "text/plain": [
       "                          bathy\n",
       "latitude longitude             \n",
       "60.0     -60.00     1905.587891\n",
       "         -59.75     2183.020996\n",
       "         -59.50     2340.918701\n",
       "         -59.25     2482.410400\n",
       "         -59.00     2601.250000"
      ]
     },
     "execution_count": 12,
     "metadata": {},
     "output_type": "execute_result"
    }
   ],
   "source": [
    "df_cg.columns = [\"bathy\"]\n",
    "df_cg.head()"
   ]
  },
  {
   "cell_type": "code",
   "execution_count": 13,
   "metadata": {},
   "outputs": [],
   "source": [
    "df_cg.to_csv(filename+\".csv\")"
   ]
  }
 ],
 "metadata": {
  "kernelspec": {
   "display_name": "new_atlantis",
   "language": "python",
   "name": "python3"
  },
  "language_info": {
   "codemirror_mode": {
    "name": "ipython",
    "version": 3
   },
   "file_extension": ".py",
   "mimetype": "text/x-python",
   "name": "python",
   "nbconvert_exporter": "python",
   "pygments_lexer": "ipython3",
   "version": "3.12.4"
  }
 },
 "nbformat": 4,
 "nbformat_minor": 2
}
