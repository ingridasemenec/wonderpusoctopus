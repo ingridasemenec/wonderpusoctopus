{
 "cells": [
  {
   "cell_type": "code",
   "execution_count": 1,
   "metadata": {},
   "outputs": [
    {
     "name": "stderr",
     "output_type": "stream",
     "text": [
      "/home/kshitiz/anaconda3/envs/new_atlantis/lib/python3.12/site-packages/tqdm/auto.py:21: TqdmWarning: IProgress not found. Please update jupyter and ipywidgets. See https://ipywidgets.readthedocs.io/en/stable/user_install.html\n",
      "  from .autonotebook import tqdm as notebook_tqdm\n"
     ]
    }
   ],
   "source": [
    "import pandas as pd\n",
    "import numpy as np\n",
    "import copernicusmarine as cm"
   ]
  },
  {
   "cell_type": "code",
   "execution_count": 2,
   "metadata": {},
   "outputs": [
    {
     "name": "stdout",
     "output_type": "stream",
     "text": [
      "File /home/kshitiz/.copernicusmarine/.copernicusmarine-credentials already exists, overwrite it ? [y/N]:"
     ]
    },
    {
     "name": "stderr",
     "output_type": "stream",
     "text": [
      "INFO - 2024-08-06T17:34:23Z - Credentials file stored in /home/kshitiz/.copernicusmarine/.copernicusmarine-credentials.\n"
     ]
    },
    {
     "data": {
      "text/plain": [
       "True"
      ]
     },
     "execution_count": 2,
     "metadata": {},
     "output_type": "execute_result"
    }
   ],
   "source": [
    "cm.login(username=\"\", password=\"\")"
   ]
  },
  {
   "cell_type": "markdown",
   "metadata": {},
   "source": [
    "**Since this is daily data, the SST file sizes can be very big. Depending on the size of the region of interest, might be better to get in parts and then merge, like from 1997-09 to 1999-12 and then from 2000-01 to 2004-12 and so on** "
   ]
  },
  {
   "cell_type": "markdown",
   "metadata": {},
   "source": [
    "Dataset 2: Global Ocean OSTIA Sea Surface Temperature (https://data.marine.copernicus.eu/product/SST_GLO_SST_L4_REP_OBSERVATIONS_010_011/description)\n",
    "- dataset_id: \"METOFFICE-GLO-SST-L4-REP-OBS-SST\"\n",
    "- variables: [\"analysed_sst\"]\n",
    "- Parameter definitions:\n",
    "    - analysed_sst [K]: Sea surface temperature\n",
    "- Spatial resolution: 0.05deg x 0.05deg"
   ]
  },
  {
   "cell_type": "code",
   "execution_count": 3,
   "metadata": {},
   "outputs": [],
   "source": [
    "# filename for saving the data as csv\n",
    "filename = 'sst_1997_2021'"
   ]
  },
  {
   "cell_type": "code",
   "execution_count": 4,
   "metadata": {},
   "outputs": [],
   "source": [
    "# Set parameters\n",
    "data_request = {\n",
    "    \"dataset_id\" : \"METOFFICE-GLO-SST-L4-REP-OBS-SST\",\n",
    "    \"variables\" : [\"analysed_sst\"],\n",
    "    \"longitude\" : [-60, -10], \n",
    "    \"latitude\" : [60, 40],\n",
    "    \"time\" : [\"1997-09-01T00:00:00\", \"2022-01-03T00:00:00\"],\n",
    "    \"depth\": [None, None] # for bathymetry set it to [0.49402499198913574, 5727.9169921875]\n",
    "}"
   ]
  },
  {
   "cell_type": "code",
   "execution_count": 5,
   "metadata": {},
   "outputs": [
    {
     "name": "stderr",
     "output_type": "stream",
     "text": [
      "INFO - 2024-08-06T17:34:34Z - Dataset version was not specified, the latest one was selected: \"202003\"\n",
      "INFO - 2024-08-06T17:34:34Z - Dataset part was not specified, the first one was selected: \"default\"\n",
      "INFO - 2024-08-06T17:34:54Z - Service was not specified, the default one was selected: \"arco-time-series\"\n",
      "WARNING - 2024-08-06T17:34:57Z - Some or all of your subset selection [1997-09-01 00:00:00, 2023-01-03 00:00:00] for the time dimension  exceed the dataset coordinates [1981-10-01 00:00:00, 2022-05-31 00:00:00]\n"
     ]
    }
   ],
   "source": [
    "df = cm.read_dataframe(\n",
    "    dataset_id=data_request[\"dataset_id\"],\n",
    "    variables=data_request[\"variables\"],\n",
    "    minimum_longitude=data_request[\"longitude\"][0],\n",
    "    maximum_longitude=data_request[\"longitude\"][1],\n",
    "    minimum_latitude=data_request[\"latitude\"][0],\n",
    "    maximum_latitude=data_request[\"latitude\"][1],\n",
    "    minimum_depth=data_request[\"depth\"][0],\n",
    "    maximum_depth=data_request[\"depth\"][1],\n",
    "    start_datetime=data_request[\"time\"][0],\n",
    "    end_datetime=data_request[\"time\"][1]\n",
    ")"
   ]
  },
  {
   "cell_type": "code",
   "execution_count": 6,
   "metadata": {},
   "outputs": [
    {
     "name": "stdout",
     "output_type": "stream",
     "text": [
      "(9039000, 1)\n"
     ]
    },
    {
     "data": {
      "text/html": [
       "<div>\n",
       "<style scoped>\n",
       "    .dataframe tbody tr th:only-of-type {\n",
       "        vertical-align: middle;\n",
       "    }\n",
       "\n",
       "    .dataframe tbody tr th {\n",
       "        vertical-align: top;\n",
       "    }\n",
       "\n",
       "    .dataframe thead th {\n",
       "        text-align: right;\n",
       "    }\n",
       "</style>\n",
       "<table border=\"1\" class=\"dataframe\">\n",
       "  <thead>\n",
       "    <tr style=\"text-align: right;\">\n",
       "      <th></th>\n",
       "      <th></th>\n",
       "      <th></th>\n",
       "      <th>analysed_sst</th>\n",
       "    </tr>\n",
       "    <tr>\n",
       "      <th>time</th>\n",
       "      <th>latitude</th>\n",
       "      <th>longitude</th>\n",
       "      <th></th>\n",
       "    </tr>\n",
       "  </thead>\n",
       "  <tbody>\n",
       "    <tr>\n",
       "      <th rowspan=\"5\" valign=\"top\">1997-09-01</th>\n",
       "      <th rowspan=\"5\" valign=\"top\">60.025002</th>\n",
       "      <th>-59.974998</th>\n",
       "      <td>280.369994</td>\n",
       "    </tr>\n",
       "    <tr>\n",
       "      <th>-59.924999</th>\n",
       "      <td>280.429994</td>\n",
       "    </tr>\n",
       "    <tr>\n",
       "      <th>-59.875000</th>\n",
       "      <td>280.489994</td>\n",
       "    </tr>\n",
       "    <tr>\n",
       "      <th>-59.825001</th>\n",
       "      <td>280.529994</td>\n",
       "    </tr>\n",
       "    <tr>\n",
       "      <th>-59.775002</th>\n",
       "      <td>280.559994</td>\n",
       "    </tr>\n",
       "  </tbody>\n",
       "</table>\n",
       "</div>"
      ],
      "text/plain": [
       "                                 analysed_sst\n",
       "time       latitude  longitude               \n",
       "1997-09-01 60.025002 -59.974998    280.369994\n",
       "                     -59.924999    280.429994\n",
       "                     -59.875000    280.489994\n",
       "                     -59.825001    280.529994\n",
       "                     -59.775002    280.559994"
      ]
     },
     "execution_count": 6,
     "metadata": {},
     "output_type": "execute_result"
    }
   ],
   "source": [
    "print(df.shape)\n",
    "df.head()"
   ]
  },
  {
   "cell_type": "code",
   "execution_count": 7,
   "metadata": {},
   "outputs": [
    {
     "data": {
      "text/html": [
       "<div>\n",
       "<style scoped>\n",
       "    .dataframe tbody tr th:only-of-type {\n",
       "        vertical-align: middle;\n",
       "    }\n",
       "\n",
       "    .dataframe tbody tr th {\n",
       "        vertical-align: top;\n",
       "    }\n",
       "\n",
       "    .dataframe thead th {\n",
       "        text-align: right;\n",
       "    }\n",
       "</style>\n",
       "<table border=\"1\" class=\"dataframe\">\n",
       "  <thead>\n",
       "    <tr style=\"text-align: right;\">\n",
       "      <th></th>\n",
       "      <th>time</th>\n",
       "      <th>latitude</th>\n",
       "      <th>longitude</th>\n",
       "      <th>analysed_sst</th>\n",
       "    </tr>\n",
       "  </thead>\n",
       "  <tbody>\n",
       "    <tr>\n",
       "      <th>0</th>\n",
       "      <td>1997-09-01</td>\n",
       "      <td>60.025002</td>\n",
       "      <td>-59.974998</td>\n",
       "      <td>280.369994</td>\n",
       "    </tr>\n",
       "    <tr>\n",
       "      <th>1</th>\n",
       "      <td>1997-09-01</td>\n",
       "      <td>60.025002</td>\n",
       "      <td>-59.924999</td>\n",
       "      <td>280.429994</td>\n",
       "    </tr>\n",
       "    <tr>\n",
       "      <th>2</th>\n",
       "      <td>1997-09-01</td>\n",
       "      <td>60.025002</td>\n",
       "      <td>-59.875000</td>\n",
       "      <td>280.489994</td>\n",
       "    </tr>\n",
       "    <tr>\n",
       "      <th>3</th>\n",
       "      <td>1997-09-01</td>\n",
       "      <td>60.025002</td>\n",
       "      <td>-59.825001</td>\n",
       "      <td>280.529994</td>\n",
       "    </tr>\n",
       "    <tr>\n",
       "      <th>4</th>\n",
       "      <td>1997-09-01</td>\n",
       "      <td>60.025002</td>\n",
       "      <td>-59.775002</td>\n",
       "      <td>280.559994</td>\n",
       "    </tr>\n",
       "  </tbody>\n",
       "</table>\n",
       "</div>"
      ],
      "text/plain": [
       "        time   latitude  longitude  analysed_sst\n",
       "0 1997-09-01  60.025002 -59.974998    280.369994\n",
       "1 1997-09-01  60.025002 -59.924999    280.429994\n",
       "2 1997-09-01  60.025002 -59.875000    280.489994\n",
       "3 1997-09-01  60.025002 -59.825001    280.529994\n",
       "4 1997-09-01  60.025002 -59.775002    280.559994"
      ]
     },
     "execution_count": 7,
     "metadata": {},
     "output_type": "execute_result"
    }
   ],
   "source": [
    "# remove the index columns corresponding to time, latitude and longitude\n",
    "df = df.reset_index()\n",
    "# drop na rows\n",
    "df = df.dropna()\n",
    "\n",
    "df.head()"
   ]
  },
  {
   "cell_type": "code",
   "execution_count": 8,
   "metadata": {},
   "outputs": [],
   "source": [
    "# function to coarse grain the data and make resolution same as Pisces data\n",
    "def coarse_grain(df, features):\n",
    "  \"\"\"\n",
    "    Parameters\n",
    "    ----------\n",
    "    df: pandas dataframe containing the data accessed from copernicus mariner\n",
    "    features: name of the features in the dataframe\n",
    "\n",
    "    Output\n",
    "    ------\n",
    "    a pandas dataframe with feature values for 0.25 deg x 0.25 deg resolution \n",
    "\n",
    "    \"\"\"\n",
    "  \n",
    "  df[\"0_1\"] = df[\"latitude\"].to_numpy() - np.floor(df[\"latitude\"])\n",
    "  conditions = [df[\"0_1\"] < 0.25,\n",
    "                (df[\"0_1\"] >= 0.25)  & (df[\"0_1\"] < 0.5),\n",
    "                (df[\"0_1\"] >= 0.5)  & (df[\"0_1\"] < 0.75),\n",
    "                (df[\"0_1\"] >= 0.75)  & (df[\"0_1\"] < 1)]\n",
    "  outputs = [0, 0.25, 0.5, 0.75]\n",
    "  df['latitude'] = np.floor(df[\"latitude\"]) + np.select(conditions, outputs)\n",
    "  df = df.drop(columns=[\"0_1\"])\n",
    "\n",
    "  df[\"0_1\"] = df[\"longitude\"].to_numpy() - np.floor(df[\"longitude\"])\n",
    "  # if not redefined then conditions is based on latitude\n",
    "  conditions = [df[\"0_1\"] < 0.25,\n",
    "              (df[\"0_1\"] >= 0.25)  & (df[\"0_1\"] < 0.5),\n",
    "              (df[\"0_1\"] >= 0.5)  & (df[\"0_1\"] < 0.75),\n",
    "              (df[\"0_1\"] >= 0.75)  & (df[\"0_1\"] < 1)]\n",
    "  df['longitude'] = np.floor(df[\"longitude\"]) + np.select(conditions, outputs)\n",
    "  df = df.drop(columns=[\"0_1\"])\n",
    "\n",
    "  return df.groupby([\"time\",\"latitude\",\"longitude\"])[features].mean() "
   ]
  },
  {
   "cell_type": "code",
   "execution_count": 9,
   "metadata": {},
   "outputs": [
    {
     "name": "stdout",
     "output_type": "stream",
     "text": [
      "(1807800, 1)\n"
     ]
    },
    {
     "data": {
      "text/html": [
       "<div>\n",
       "<style scoped>\n",
       "    .dataframe tbody tr th:only-of-type {\n",
       "        vertical-align: middle;\n",
       "    }\n",
       "\n",
       "    .dataframe tbody tr th {\n",
       "        vertical-align: top;\n",
       "    }\n",
       "\n",
       "    .dataframe thead th {\n",
       "        text-align: right;\n",
       "    }\n",
       "</style>\n",
       "<table border=\"1\" class=\"dataframe\">\n",
       "  <thead>\n",
       "    <tr style=\"text-align: right;\">\n",
       "      <th></th>\n",
       "      <th></th>\n",
       "      <th></th>\n",
       "      <th>analysed_sst</th>\n",
       "    </tr>\n",
       "    <tr>\n",
       "      <th>time</th>\n",
       "      <th>latitude</th>\n",
       "      <th>longitude</th>\n",
       "      <th></th>\n",
       "    </tr>\n",
       "  </thead>\n",
       "  <tbody>\n",
       "    <tr>\n",
       "      <th rowspan=\"5\" valign=\"top\">1997-09-01</th>\n",
       "      <th rowspan=\"5\" valign=\"top\">60.0</th>\n",
       "      <th>-60.00</th>\n",
       "      <td>280.475994</td>\n",
       "    </tr>\n",
       "    <tr>\n",
       "      <th>-59.75</th>\n",
       "      <td>280.599994</td>\n",
       "    </tr>\n",
       "    <tr>\n",
       "      <th>-59.50</th>\n",
       "      <td>280.899994</td>\n",
       "    </tr>\n",
       "    <tr>\n",
       "      <th>-59.25</th>\n",
       "      <td>281.243994</td>\n",
       "    </tr>\n",
       "    <tr>\n",
       "      <th>-59.00</th>\n",
       "      <td>281.315994</td>\n",
       "    </tr>\n",
       "  </tbody>\n",
       "</table>\n",
       "</div>"
      ],
      "text/plain": [
       "                               analysed_sst\n",
       "time       latitude longitude              \n",
       "1997-09-01 60.0     -60.00       280.475994\n",
       "                    -59.75       280.599994\n",
       "                    -59.50       280.899994\n",
       "                    -59.25       281.243994\n",
       "                    -59.00       281.315994"
      ]
     },
     "execution_count": 9,
     "metadata": {},
     "output_type": "execute_result"
    }
   ],
   "source": [
    "# Need coarse grain the values because all these datasets have finer resolution than Pisces data\n",
    "# Pisces data has resolution of 0.25 deg x 0.25 deg\n",
    "df_cg = coarse_grain(df, df.columns[3:].tolist())\n",
    "print(df_cg.shape)\n",
    "df_cg.head()"
   ]
  },
  {
   "cell_type": "code",
   "execution_count": 10,
   "metadata": {},
   "outputs": [
    {
     "data": {
      "text/html": [
       "<div>\n",
       "<style scoped>\n",
       "    .dataframe tbody tr th:only-of-type {\n",
       "        vertical-align: middle;\n",
       "    }\n",
       "\n",
       "    .dataframe tbody tr th {\n",
       "        vertical-align: top;\n",
       "    }\n",
       "\n",
       "    .dataframe thead th {\n",
       "        text-align: right;\n",
       "    }\n",
       "</style>\n",
       "<table border=\"1\" class=\"dataframe\">\n",
       "  <thead>\n",
       "    <tr style=\"text-align: right;\">\n",
       "      <th></th>\n",
       "      <th>time</th>\n",
       "      <th>latitude</th>\n",
       "      <th>longitude</th>\n",
       "      <th>analysed_sst</th>\n",
       "      <th>day</th>\n",
       "      <th>month</th>\n",
       "      <th>year</th>\n",
       "    </tr>\n",
       "  </thead>\n",
       "  <tbody>\n",
       "    <tr>\n",
       "      <th>0</th>\n",
       "      <td>1997-09-01</td>\n",
       "      <td>60.0</td>\n",
       "      <td>-60.00</td>\n",
       "      <td>280.475994</td>\n",
       "      <td>1</td>\n",
       "      <td>9</td>\n",
       "      <td>1997</td>\n",
       "    </tr>\n",
       "    <tr>\n",
       "      <th>1</th>\n",
       "      <td>1997-09-01</td>\n",
       "      <td>60.0</td>\n",
       "      <td>-59.75</td>\n",
       "      <td>280.599994</td>\n",
       "      <td>1</td>\n",
       "      <td>9</td>\n",
       "      <td>1997</td>\n",
       "    </tr>\n",
       "    <tr>\n",
       "      <th>2</th>\n",
       "      <td>1997-09-01</td>\n",
       "      <td>60.0</td>\n",
       "      <td>-59.50</td>\n",
       "      <td>280.899994</td>\n",
       "      <td>1</td>\n",
       "      <td>9</td>\n",
       "      <td>1997</td>\n",
       "    </tr>\n",
       "    <tr>\n",
       "      <th>3</th>\n",
       "      <td>1997-09-01</td>\n",
       "      <td>60.0</td>\n",
       "      <td>-59.25</td>\n",
       "      <td>281.243994</td>\n",
       "      <td>1</td>\n",
       "      <td>9</td>\n",
       "      <td>1997</td>\n",
       "    </tr>\n",
       "    <tr>\n",
       "      <th>4</th>\n",
       "      <td>1997-09-01</td>\n",
       "      <td>60.0</td>\n",
       "      <td>-59.00</td>\n",
       "      <td>281.315994</td>\n",
       "      <td>1</td>\n",
       "      <td>9</td>\n",
       "      <td>1997</td>\n",
       "    </tr>\n",
       "  </tbody>\n",
       "</table>\n",
       "</div>"
      ],
      "text/plain": [
       "        time  latitude  longitude  analysed_sst  day  month  year\n",
       "0 1997-09-01      60.0     -60.00    280.475994    1      9  1997\n",
       "1 1997-09-01      60.0     -59.75    280.599994    1      9  1997\n",
       "2 1997-09-01      60.0     -59.50    280.899994    1      9  1997\n",
       "3 1997-09-01      60.0     -59.25    281.243994    1      9  1997\n",
       "4 1997-09-01      60.0     -59.00    281.315994    1      9  1997"
      ]
     },
     "execution_count": 10,
     "metadata": {},
     "output_type": "execute_result"
    }
   ],
   "source": [
    "# remove time and just have month and year\n",
    "df_cg = df_cg.reset_index()\n",
    "\n",
    "# from https://stackoverflow.com/questions/53509168/extract-year-month-and-day-from-datetime64ns-utc-python\n",
    "datetimes = pd.to_datetime(df_cg['time'])\n",
    "df_cg['day'] = datetimes.dt.day\n",
    "df_cg['month'] = datetimes.dt.month\n",
    "df_cg['year'] = datetimes.dt.year\n",
    "df_cg.head()"
   ]
  },
  {
   "cell_type": "code",
   "execution_count": 11,
   "metadata": {},
   "outputs": [
    {
     "data": {
      "text/html": [
       "<div>\n",
       "<style scoped>\n",
       "    .dataframe tbody tr th:only-of-type {\n",
       "        vertical-align: middle;\n",
       "    }\n",
       "\n",
       "    .dataframe tbody tr th {\n",
       "        vertical-align: top;\n",
       "    }\n",
       "\n",
       "    .dataframe thead th {\n",
       "        text-align: right;\n",
       "    }\n",
       "</style>\n",
       "<table border=\"1\" class=\"dataframe\">\n",
       "  <thead>\n",
       "    <tr style=\"text-align: right;\">\n",
       "      <th></th>\n",
       "      <th></th>\n",
       "      <th></th>\n",
       "      <th></th>\n",
       "      <th></th>\n",
       "      <th>analysed_sst</th>\n",
       "    </tr>\n",
       "    <tr>\n",
       "      <th>year</th>\n",
       "      <th>month</th>\n",
       "      <th>day</th>\n",
       "      <th>latitude</th>\n",
       "      <th>longitude</th>\n",
       "      <th></th>\n",
       "    </tr>\n",
       "  </thead>\n",
       "  <tbody>\n",
       "    <tr>\n",
       "      <th rowspan=\"5\" valign=\"top\">1997</th>\n",
       "      <th rowspan=\"5\" valign=\"top\">9</th>\n",
       "      <th rowspan=\"5\" valign=\"top\">1</th>\n",
       "      <th rowspan=\"5\" valign=\"top\">60.0</th>\n",
       "      <th>-60.00</th>\n",
       "      <td>280.475994</td>\n",
       "    </tr>\n",
       "    <tr>\n",
       "      <th>-59.75</th>\n",
       "      <td>280.599994</td>\n",
       "    </tr>\n",
       "    <tr>\n",
       "      <th>-59.50</th>\n",
       "      <td>280.899994</td>\n",
       "    </tr>\n",
       "    <tr>\n",
       "      <th>-59.25</th>\n",
       "      <td>281.243994</td>\n",
       "    </tr>\n",
       "    <tr>\n",
       "      <th>-59.00</th>\n",
       "      <td>281.315994</td>\n",
       "    </tr>\n",
       "  </tbody>\n",
       "</table>\n",
       "</div>"
      ],
      "text/plain": [
       "                                   analysed_sst\n",
       "year month day latitude longitude              \n",
       "1997 9     1   60.0     -60.00       280.475994\n",
       "                        -59.75       280.599994\n",
       "                        -59.50       280.899994\n",
       "                        -59.25       281.243994\n",
       "                        -59.00       281.315994"
      ]
     },
     "execution_count": 11,
     "metadata": {},
     "output_type": "execute_result"
    }
   ],
   "source": [
    "# remove the time column\n",
    "df_cg = df_cg.drop(columns=[\"time\"])\n",
    "df_cg = df_cg.set_index([\"year\",\"month\",\"day\",\"latitude\",\"longitude\"])\n",
    "\n",
    "df_cg.head()"
   ]
  },
  {
   "cell_type": "code",
   "execution_count": 20,
   "metadata": {},
   "outputs": [
    {
     "data": {
      "text/html": [
       "<div>\n",
       "<style scoped>\n",
       "    .dataframe tbody tr th:only-of-type {\n",
       "        vertical-align: middle;\n",
       "    }\n",
       "\n",
       "    .dataframe tbody tr th {\n",
       "        vertical-align: top;\n",
       "    }\n",
       "\n",
       "    .dataframe thead th {\n",
       "        text-align: right;\n",
       "    }\n",
       "</style>\n",
       "<table border=\"1\" class=\"dataframe\">\n",
       "  <thead>\n",
       "    <tr style=\"text-align: right;\">\n",
       "      <th></th>\n",
       "      <th></th>\n",
       "      <th></th>\n",
       "      <th></th>\n",
       "      <th>analysed_sst</th>\n",
       "    </tr>\n",
       "    <tr>\n",
       "      <th>year</th>\n",
       "      <th>month</th>\n",
       "      <th>latitude</th>\n",
       "      <th>longitude</th>\n",
       "      <th></th>\n",
       "    </tr>\n",
       "  </thead>\n",
       "  <tbody>\n",
       "    <tr>\n",
       "      <th rowspan=\"5\" valign=\"top\">1997</th>\n",
       "      <th rowspan=\"5\" valign=\"top\">9</th>\n",
       "      <th rowspan=\"5\" valign=\"top\">60.0</th>\n",
       "      <th>-60.00</th>\n",
       "      <td>279.375594</td>\n",
       "    </tr>\n",
       "    <tr>\n",
       "      <th>-59.75</th>\n",
       "      <td>279.483794</td>\n",
       "    </tr>\n",
       "    <tr>\n",
       "      <th>-59.50</th>\n",
       "      <td>279.587060</td>\n",
       "    </tr>\n",
       "    <tr>\n",
       "      <th>-59.25</th>\n",
       "      <td>279.888394</td>\n",
       "    </tr>\n",
       "    <tr>\n",
       "      <th>-59.00</th>\n",
       "      <td>280.220194</td>\n",
       "    </tr>\n",
       "  </tbody>\n",
       "</table>\n",
       "</div>"
      ],
      "text/plain": [
       "                               analysed_sst\n",
       "year month latitude longitude              \n",
       "1997 9     60.0     -60.00       279.375594\n",
       "                    -59.75       279.483794\n",
       "                    -59.50       279.587060\n",
       "                    -59.25       279.888394\n",
       "                    -59.00       280.220194"
      ]
     },
     "execution_count": 20,
     "metadata": {},
     "output_type": "execute_result"
    }
   ],
   "source": [
    "# the observation in this dataset are daily\n",
    "# to be consistent across datasets, averaging out to make it monthly\n",
    "df_cg = df_cg.reset_index().groupby([\"year\",\"month\",\"latitude\",\"longitude\"]).mean()\n",
    "df_cg = df_cg.drop(columns = [\"day\"])\n",
    "df_cg.head()"
   ]
  },
  {
   "cell_type": "code",
   "execution_count": 23,
   "metadata": {},
   "outputs": [],
   "source": [
    "df_cg.to_csv(filename+\".csv\")"
   ]
  },
  {
   "cell_type": "markdown",
   "metadata": {},
   "source": [
    "Checking number of months in each year and number of days in each month"
   ]
  },
  {
   "cell_type": "code",
   "execution_count": 21,
   "metadata": {},
   "outputs": [
    {
     "data": {
      "text/html": [
       "<div>\n",
       "<style scoped>\n",
       "    .dataframe tbody tr th:only-of-type {\n",
       "        vertical-align: middle;\n",
       "    }\n",
       "\n",
       "    .dataframe tbody tr th {\n",
       "        vertical-align: top;\n",
       "    }\n",
       "\n",
       "    .dataframe thead th {\n",
       "        text-align: right;\n",
       "    }\n",
       "</style>\n",
       "<table border=\"1\" class=\"dataframe\">\n",
       "  <thead>\n",
       "    <tr style=\"text-align: right;\">\n",
       "      <th></th>\n",
       "      <th>year</th>\n",
       "      <th>month</th>\n",
       "    </tr>\n",
       "  </thead>\n",
       "  <tbody>\n",
       "    <tr>\n",
       "      <th>0</th>\n",
       "      <td>1997</td>\n",
       "      <td>9</td>\n",
       "    </tr>\n",
       "    <tr>\n",
       "      <th>200</th>\n",
       "      <td>1997</td>\n",
       "      <td>10</td>\n",
       "    </tr>\n",
       "    <tr>\n",
       "      <th>400</th>\n",
       "      <td>1997</td>\n",
       "      <td>11</td>\n",
       "    </tr>\n",
       "    <tr>\n",
       "      <th>600</th>\n",
       "      <td>1997</td>\n",
       "      <td>12</td>\n",
       "    </tr>\n",
       "    <tr>\n",
       "      <th>800</th>\n",
       "      <td>1998</td>\n",
       "      <td>1</td>\n",
       "    </tr>\n",
       "  </tbody>\n",
       "</table>\n",
       "</div>"
      ],
      "text/plain": [
       "     year  month\n",
       "0    1997      9\n",
       "200  1997     10\n",
       "400  1997     11\n",
       "600  1997     12\n",
       "800  1998      1"
      ]
     },
     "execution_count": 21,
     "metadata": {},
     "output_type": "execute_result"
    }
   ],
   "source": [
    "df_time = df_cg.reset_index()\n",
    "df_time = df_time[[\"year\",\"month\"]]\n",
    "df_time = df_time.drop_duplicates()\n",
    "df_time.head()"
   ]
  },
  {
   "cell_type": "code",
   "execution_count": 22,
   "metadata": {},
   "outputs": [
    {
     "data": {
      "text/plain": [
       "year\n",
       "2010    12\n",
       "2021    12\n",
       "2019    12\n",
       "2018    12\n",
       "2017    12\n",
       "2016    12\n",
       "2015    12\n",
       "2014    12\n",
       "2013    12\n",
       "2012    12\n",
       "2011    12\n",
       "1998    12\n",
       "2009    12\n",
       "2008    12\n",
       "2007    12\n",
       "2006    12\n",
       "2005    12\n",
       "2004    12\n",
       "2003    12\n",
       "2002    12\n",
       "2001    12\n",
       "2000    12\n",
       "1999    12\n",
       "2020    12\n",
       "2022     5\n",
       "1997     4\n",
       "Name: count, dtype: int64"
      ]
     },
     "execution_count": 22,
     "metadata": {},
     "output_type": "execute_result"
    }
   ],
   "source": [
    "df_time.year.value_counts()"
   ]
  }
 ],
 "metadata": {
  "kernelspec": {
   "display_name": "new_atlantis",
   "language": "python",
   "name": "python3"
  },
  "language_info": {
   "codemirror_mode": {
    "name": "ipython",
    "version": 3
   },
   "file_extension": ".py",
   "mimetype": "text/x-python",
   "name": "python",
   "nbconvert_exporter": "python",
   "pygments_lexer": "ipython3",
   "version": "3.12.4"
  }
 },
 "nbformat": 4,
 "nbformat_minor": 2
}
