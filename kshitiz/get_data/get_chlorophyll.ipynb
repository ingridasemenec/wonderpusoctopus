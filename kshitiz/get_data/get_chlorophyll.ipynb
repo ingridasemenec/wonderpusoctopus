{
 "cells": [
  {
   "cell_type": "code",
   "execution_count": 1,
   "metadata": {},
   "outputs": [
    {
     "name": "stderr",
     "output_type": "stream",
     "text": [
      "/home/kshitiz/anaconda3/envs/new_atlantis/lib/python3.12/site-packages/tqdm/auto.py:21: TqdmWarning: IProgress not found. Please update jupyter and ipywidgets. See https://ipywidgets.readthedocs.io/en/stable/user_install.html\n",
      "  from .autonotebook import tqdm as notebook_tqdm\n"
     ]
    }
   ],
   "source": [
    "import pandas as pd\n",
    "import numpy as np\n",
    "import copernicusmarine as cm"
   ]
  },
  {
   "cell_type": "markdown",
   "metadata": {},
   "source": [
    "Checking number of months in each year and number of days in each month"
   ]
  },
  {
   "cell_type": "code",
   "execution_count": 2,
   "metadata": {},
   "outputs": [
    {
     "name": "stdout",
     "output_type": "stream",
     "text": [
      "File /home/kshitiz/.copernicusmarine/.copernicusmarine-credentials already exists, overwrite it ? [y/N]:"
     ]
    },
    {
     "name": "stderr",
     "output_type": "stream",
     "text": [
      "INFO - 2024-08-06T17:09:16Z - Credentials file stored in /home/kshitiz/.copernicusmarine/.copernicusmarine-credentials.\n"
     ]
    },
    {
     "data": {
      "text/plain": [
       "True"
      ]
     },
     "execution_count": 2,
     "metadata": {},
     "output_type": "execute_result"
    }
   ],
   "source": [
    "cm.login(username=\"\", password=\"\")"
   ]
  },
  {
   "cell_type": "markdown",
   "metadata": {},
   "source": [
    "Dataset 1: Global Ocean Color (https://data.marine.copernicus.eu/product/OCEANCOLOUR_GLO_BGC_L4_MY_009_104/description)\n",
    "- dataset_id: \"cmems_obs-oc_glo_bgc-plankton_my_l4-multi-4km_P1M\"\n",
    "- variables: [\"CHL\"]\n",
    "- Parameter definitions:\n",
    "    - CHL [mg/m3]: Mass concentration of chlorophyll a in sea water\n",
    "- Spatial resolution: 4km x 4km"
   ]
  },
  {
   "cell_type": "code",
   "execution_count": 3,
   "metadata": {},
   "outputs": [],
   "source": [
    "# filename for saving the data as csv\n",
    "filename = 'chl_1997_2021'"
   ]
  },
  {
   "cell_type": "code",
   "execution_count": 4,
   "metadata": {},
   "outputs": [],
   "source": [
    "# Set parameters\n",
    "data_request = {\n",
    "    \"dataset_id\" : \"cmems_obs-oc_glo_bgc-plankton_my_l4-multi-4km_P1M\",\n",
    "    \"variables\" : [\"CHL\"],\n",
    "    \"longitude\" : [-60, -10], \n",
    "    \"latitude\" : [60, 40],\n",
    "    \"time\" : [\"1997-09-01T00:00:00\", \"2022-01-03T00:00:00\"],\n",
    "    \"depth\": [None, None] # for bathymetry set it to [0.49402499198913574, 5727.9169921875]\n",
    "}"
   ]
  },
  {
   "cell_type": "code",
   "execution_count": 5,
   "metadata": {},
   "outputs": [
    {
     "name": "stderr",
     "output_type": "stream",
     "text": [
      "INFO - 2024-08-06T17:09:39Z - Dataset version was not specified, the latest one was selected: \"202311\"\n",
      "INFO - 2024-08-06T17:09:39Z - Dataset part was not specified, the first one was selected: \"default\"\n",
      "INFO - 2024-08-06T17:10:00Z - Service was not specified, the default one was selected: \"arco-time-series\"\n",
      "/home/kshitiz/anaconda3/envs/new_atlantis/lib/python3.12/site-packages/copernicusmarine/download_functions/subset_xarray.py:477: UserWarning: Discarding nonzero nanoseconds in conversion.\n",
      "  return Timestamp(date).to_pydatetime()\n",
      "WARNING - 2024-08-06T17:10:03Z - Some or all of your subset selection [1997-09-01 00:00:00, 2023-01-03 00:00:00] for the time dimension  exceed the dataset coordinates [1997-09-01 00:00:35.028205, 2024-06-01 00:01:37.020674]\n"
     ]
    }
   ],
   "source": [
    "df = cm.read_dataframe(\n",
    "    dataset_id=data_request[\"dataset_id\"],\n",
    "    variables=data_request[\"variables\"],\n",
    "    minimum_longitude=data_request[\"longitude\"][0],\n",
    "    maximum_longitude=data_request[\"longitude\"][1],\n",
    "    minimum_latitude=data_request[\"latitude\"][0],\n",
    "    maximum_latitude=data_request[\"latitude\"][1],\n",
    "    minimum_depth=data_request[\"depth\"][0],\n",
    "    maximum_depth=data_request[\"depth\"][1],\n",
    "    start_datetime=data_request[\"time\"][0],\n",
    "    end_datetime=data_request[\"time\"][1]\n",
    ")"
   ]
  },
  {
   "cell_type": "code",
   "execution_count": 6,
   "metadata": {},
   "outputs": [
    {
     "name": "stdout",
     "output_type": "stream",
     "text": [
      "(366000, 1)\n"
     ]
    },
    {
     "data": {
      "text/html": [
       "<div>\n",
       "<style scoped>\n",
       "    .dataframe tbody tr th:only-of-type {\n",
       "        vertical-align: middle;\n",
       "    }\n",
       "\n",
       "    .dataframe tbody tr th {\n",
       "        vertical-align: top;\n",
       "    }\n",
       "\n",
       "    .dataframe thead th {\n",
       "        text-align: right;\n",
       "    }\n",
       "</style>\n",
       "<table border=\"1\" class=\"dataframe\">\n",
       "  <thead>\n",
       "    <tr style=\"text-align: right;\">\n",
       "      <th></th>\n",
       "      <th></th>\n",
       "      <th></th>\n",
       "      <th>CHL</th>\n",
       "    </tr>\n",
       "    <tr>\n",
       "      <th>time</th>\n",
       "      <th>latitude</th>\n",
       "      <th>longitude</th>\n",
       "      <th></th>\n",
       "    </tr>\n",
       "  </thead>\n",
       "  <tbody>\n",
       "    <tr>\n",
       "      <th rowspan=\"5\" valign=\"top\">1997-09-01 00:00:35.028205568</th>\n",
       "      <th rowspan=\"5\" valign=\"top\">60.020832</th>\n",
       "      <th>-59.979164</th>\n",
       "      <td>NaN</td>\n",
       "    </tr>\n",
       "    <tr>\n",
       "      <th>-59.937496</th>\n",
       "      <td>NaN</td>\n",
       "    </tr>\n",
       "    <tr>\n",
       "      <th>-59.895828</th>\n",
       "      <td>0.408068</td>\n",
       "    </tr>\n",
       "    <tr>\n",
       "      <th>-59.854164</th>\n",
       "      <td>0.401471</td>\n",
       "    </tr>\n",
       "    <tr>\n",
       "      <th>-59.812496</th>\n",
       "      <td>0.395363</td>\n",
       "    </tr>\n",
       "  </tbody>\n",
       "</table>\n",
       "</div>"
      ],
      "text/plain": [
       "                                                         CHL\n",
       "time                          latitude  longitude           \n",
       "1997-09-01 00:00:35.028205568 60.020832 -59.979164       NaN\n",
       "                                        -59.937496       NaN\n",
       "                                        -59.895828  0.408068\n",
       "                                        -59.854164  0.401471\n",
       "                                        -59.812496  0.395363"
      ]
     },
     "execution_count": 6,
     "metadata": {},
     "output_type": "execute_result"
    }
   ],
   "source": [
    "print(df.shape)\n",
    "df.head()"
   ]
  },
  {
   "cell_type": "code",
   "execution_count": 7,
   "metadata": {},
   "outputs": [
    {
     "data": {
      "text/html": [
       "<div>\n",
       "<style scoped>\n",
       "    .dataframe tbody tr th:only-of-type {\n",
       "        vertical-align: middle;\n",
       "    }\n",
       "\n",
       "    .dataframe tbody tr th {\n",
       "        vertical-align: top;\n",
       "    }\n",
       "\n",
       "    .dataframe thead th {\n",
       "        text-align: right;\n",
       "    }\n",
       "</style>\n",
       "<table border=\"1\" class=\"dataframe\">\n",
       "  <thead>\n",
       "    <tr style=\"text-align: right;\">\n",
       "      <th></th>\n",
       "      <th>time</th>\n",
       "      <th>latitude</th>\n",
       "      <th>longitude</th>\n",
       "      <th>CHL</th>\n",
       "    </tr>\n",
       "  </thead>\n",
       "  <tbody>\n",
       "    <tr>\n",
       "      <th>2</th>\n",
       "      <td>1997-09-01 00:00:35.028205568</td>\n",
       "      <td>60.020832</td>\n",
       "      <td>-59.895828</td>\n",
       "      <td>0.408068</td>\n",
       "    </tr>\n",
       "    <tr>\n",
       "      <th>3</th>\n",
       "      <td>1997-09-01 00:00:35.028205568</td>\n",
       "      <td>60.020832</td>\n",
       "      <td>-59.854164</td>\n",
       "      <td>0.401471</td>\n",
       "    </tr>\n",
       "    <tr>\n",
       "      <th>4</th>\n",
       "      <td>1997-09-01 00:00:35.028205568</td>\n",
       "      <td>60.020832</td>\n",
       "      <td>-59.812496</td>\n",
       "      <td>0.395363</td>\n",
       "    </tr>\n",
       "    <tr>\n",
       "      <th>5</th>\n",
       "      <td>1997-09-01 00:00:35.028205568</td>\n",
       "      <td>60.020832</td>\n",
       "      <td>-59.770828</td>\n",
       "      <td>0.389933</td>\n",
       "    </tr>\n",
       "    <tr>\n",
       "      <th>6</th>\n",
       "      <td>1997-09-01 00:00:35.028205568</td>\n",
       "      <td>60.020832</td>\n",
       "      <td>-59.729164</td>\n",
       "      <td>0.370605</td>\n",
       "    </tr>\n",
       "  </tbody>\n",
       "</table>\n",
       "</div>"
      ],
      "text/plain": [
       "                           time   latitude  longitude       CHL\n",
       "2 1997-09-01 00:00:35.028205568  60.020832 -59.895828  0.408068\n",
       "3 1997-09-01 00:00:35.028205568  60.020832 -59.854164  0.401471\n",
       "4 1997-09-01 00:00:35.028205568  60.020832 -59.812496  0.395363\n",
       "5 1997-09-01 00:00:35.028205568  60.020832 -59.770828  0.389933\n",
       "6 1997-09-01 00:00:35.028205568  60.020832 -59.729164  0.370605"
      ]
     },
     "execution_count": 7,
     "metadata": {},
     "output_type": "execute_result"
    }
   ],
   "source": [
    "# remove the index columns corresponding to time, latitude and longitude\n",
    "df = df.reset_index()\n",
    "# drop na rows\n",
    "df = df.dropna()\n",
    "\n",
    "df.head()"
   ]
  },
  {
   "cell_type": "code",
   "execution_count": 8,
   "metadata": {},
   "outputs": [],
   "source": [
    "# function to coarse grain the data and make resolution same as Pisces data\n",
    "def coarse_grain(df, features):\n",
    "  \"\"\"\n",
    "    Parameters\n",
    "    ----------\n",
    "    df: pandas dataframe containing the data accessed from copernicus mariner\n",
    "    features: name of the features in the dataframe\n",
    "\n",
    "    Output\n",
    "    ------\n",
    "    a pandas dataframe with feature values for 0.25 deg x 0.25 deg resolution \n",
    "\n",
    "    \"\"\"\n",
    "  \n",
    "  df[\"0_1\"] = df[\"latitude\"].to_numpy() - np.floor(df[\"latitude\"])\n",
    "  conditions = [df[\"0_1\"] < 0.25,\n",
    "                (df[\"0_1\"] >= 0.25)  & (df[\"0_1\"] < 0.5),\n",
    "                (df[\"0_1\"] >= 0.5)  & (df[\"0_1\"] < 0.75),\n",
    "                (df[\"0_1\"] >= 0.75)  & (df[\"0_1\"] < 1)]\n",
    "  outputs = [0, 0.25, 0.5, 0.75]\n",
    "  df['latitude'] = np.floor(df[\"latitude\"]) + np.select(conditions, outputs)\n",
    "  df = df.drop(columns=[\"0_1\"])\n",
    "\n",
    "  df[\"0_1\"] = df[\"longitude\"].to_numpy() - np.floor(df[\"longitude\"])\n",
    "  # if not redefined then conditions is based on latitude\n",
    "  conditions = [df[\"0_1\"] < 0.25,\n",
    "              (df[\"0_1\"] >= 0.25)  & (df[\"0_1\"] < 0.5),\n",
    "              (df[\"0_1\"] >= 0.5)  & (df[\"0_1\"] < 0.75),\n",
    "              (df[\"0_1\"] >= 0.75)  & (df[\"0_1\"] < 1)]\n",
    "  df['longitude'] = np.floor(df[\"longitude\"]) + np.select(conditions, outputs)\n",
    "  df = df.drop(columns=[\"0_1\"])\n",
    "\n",
    "  return df.groupby([\"time\",\"latitude\",\"longitude\"])[features].mean() "
   ]
  },
  {
   "cell_type": "code",
   "execution_count": 9,
   "metadata": {},
   "outputs": [
    {
     "name": "stdout",
     "output_type": "stream",
     "text": [
      "(47470, 1)\n"
     ]
    },
    {
     "data": {
      "text/html": [
       "<div>\n",
       "<style scoped>\n",
       "    .dataframe tbody tr th:only-of-type {\n",
       "        vertical-align: middle;\n",
       "    }\n",
       "\n",
       "    .dataframe tbody tr th {\n",
       "        vertical-align: top;\n",
       "    }\n",
       "\n",
       "    .dataframe thead th {\n",
       "        text-align: right;\n",
       "    }\n",
       "</style>\n",
       "<table border=\"1\" class=\"dataframe\">\n",
       "  <thead>\n",
       "    <tr style=\"text-align: right;\">\n",
       "      <th></th>\n",
       "      <th></th>\n",
       "      <th></th>\n",
       "      <th>CHL</th>\n",
       "    </tr>\n",
       "    <tr>\n",
       "      <th>time</th>\n",
       "      <th>latitude</th>\n",
       "      <th>longitude</th>\n",
       "      <th></th>\n",
       "    </tr>\n",
       "  </thead>\n",
       "  <tbody>\n",
       "    <tr>\n",
       "      <th rowspan=\"5\" valign=\"top\">1997-09-01 00:00:35.028205568</th>\n",
       "      <th rowspan=\"5\" valign=\"top\">60.0</th>\n",
       "      <th>-60.00</th>\n",
       "      <td>0.398709</td>\n",
       "    </tr>\n",
       "    <tr>\n",
       "      <th>-59.75</th>\n",
       "      <td>0.360659</td>\n",
       "    </tr>\n",
       "    <tr>\n",
       "      <th>-59.50</th>\n",
       "      <td>0.344952</td>\n",
       "    </tr>\n",
       "    <tr>\n",
       "      <th>-59.25</th>\n",
       "      <td>0.328261</td>\n",
       "    </tr>\n",
       "    <tr>\n",
       "      <th>-59.00</th>\n",
       "      <td>0.321946</td>\n",
       "    </tr>\n",
       "  </tbody>\n",
       "</table>\n",
       "</div>"
      ],
      "text/plain": [
       "                                                       CHL\n",
       "time                          latitude longitude          \n",
       "1997-09-01 00:00:35.028205568 60.0     -60.00     0.398709\n",
       "                                       -59.75     0.360659\n",
       "                                       -59.50     0.344952\n",
       "                                       -59.25     0.328261\n",
       "                                       -59.00     0.321946"
      ]
     },
     "execution_count": 9,
     "metadata": {},
     "output_type": "execute_result"
    }
   ],
   "source": [
    "# Need coarse grain the values because all these datasets have finer resolution than Pisces data\n",
    "# Pisces data has resolution of 0.25 deg x 0.25 deg\n",
    "df_cg = coarse_grain(df, df.columns[3:].tolist())\n",
    "print(df_cg.shape)\n",
    "df_cg.head()"
   ]
  },
  {
   "cell_type": "code",
   "execution_count": 10,
   "metadata": {},
   "outputs": [
    {
     "data": {
      "text/html": [
       "<div>\n",
       "<style scoped>\n",
       "    .dataframe tbody tr th:only-of-type {\n",
       "        vertical-align: middle;\n",
       "    }\n",
       "\n",
       "    .dataframe tbody tr th {\n",
       "        vertical-align: top;\n",
       "    }\n",
       "\n",
       "    .dataframe thead th {\n",
       "        text-align: right;\n",
       "    }\n",
       "</style>\n",
       "<table border=\"1\" class=\"dataframe\">\n",
       "  <thead>\n",
       "    <tr style=\"text-align: right;\">\n",
       "      <th></th>\n",
       "      <th>time</th>\n",
       "      <th>latitude</th>\n",
       "      <th>longitude</th>\n",
       "      <th>CHL</th>\n",
       "      <th>day</th>\n",
       "      <th>month</th>\n",
       "      <th>year</th>\n",
       "    </tr>\n",
       "  </thead>\n",
       "  <tbody>\n",
       "    <tr>\n",
       "      <th>0</th>\n",
       "      <td>1997-09-01 00:00:35.028205568</td>\n",
       "      <td>60.0</td>\n",
       "      <td>-60.00</td>\n",
       "      <td>0.398709</td>\n",
       "      <td>1</td>\n",
       "      <td>9</td>\n",
       "      <td>1997</td>\n",
       "    </tr>\n",
       "    <tr>\n",
       "      <th>1</th>\n",
       "      <td>1997-09-01 00:00:35.028205568</td>\n",
       "      <td>60.0</td>\n",
       "      <td>-59.75</td>\n",
       "      <td>0.360659</td>\n",
       "      <td>1</td>\n",
       "      <td>9</td>\n",
       "      <td>1997</td>\n",
       "    </tr>\n",
       "    <tr>\n",
       "      <th>2</th>\n",
       "      <td>1997-09-01 00:00:35.028205568</td>\n",
       "      <td>60.0</td>\n",
       "      <td>-59.50</td>\n",
       "      <td>0.344952</td>\n",
       "      <td>1</td>\n",
       "      <td>9</td>\n",
       "      <td>1997</td>\n",
       "    </tr>\n",
       "    <tr>\n",
       "      <th>3</th>\n",
       "      <td>1997-09-01 00:00:35.028205568</td>\n",
       "      <td>60.0</td>\n",
       "      <td>-59.25</td>\n",
       "      <td>0.328261</td>\n",
       "      <td>1</td>\n",
       "      <td>9</td>\n",
       "      <td>1997</td>\n",
       "    </tr>\n",
       "    <tr>\n",
       "      <th>4</th>\n",
       "      <td>1997-09-01 00:00:35.028205568</td>\n",
       "      <td>60.0</td>\n",
       "      <td>-59.00</td>\n",
       "      <td>0.321946</td>\n",
       "      <td>1</td>\n",
       "      <td>9</td>\n",
       "      <td>1997</td>\n",
       "    </tr>\n",
       "  </tbody>\n",
       "</table>\n",
       "</div>"
      ],
      "text/plain": [
       "                           time  latitude  longitude       CHL  day  month  \\\n",
       "0 1997-09-01 00:00:35.028205568      60.0     -60.00  0.398709    1      9   \n",
       "1 1997-09-01 00:00:35.028205568      60.0     -59.75  0.360659    1      9   \n",
       "2 1997-09-01 00:00:35.028205568      60.0     -59.50  0.344952    1      9   \n",
       "3 1997-09-01 00:00:35.028205568      60.0     -59.25  0.328261    1      9   \n",
       "4 1997-09-01 00:00:35.028205568      60.0     -59.00  0.321946    1      9   \n",
       "\n",
       "   year  \n",
       "0  1997  \n",
       "1  1997  \n",
       "2  1997  \n",
       "3  1997  \n",
       "4  1997  "
      ]
     },
     "execution_count": 10,
     "metadata": {},
     "output_type": "execute_result"
    }
   ],
   "source": [
    "# remove time and just have month and year\n",
    "df_cg = df_cg.reset_index()\n",
    "\n",
    "# from https://stackoverflow.com/questions/53509168/extract-year-month-and-day-from-datetime64ns-utc-python\n",
    "datetimes = pd.to_datetime(df_cg['time'])\n",
    "df_cg['day'] = datetimes.dt.day\n",
    "df_cg['month'] = datetimes.dt.month\n",
    "df_cg['year'] = datetimes.dt.year\n",
    "df_cg.head()"
   ]
  },
  {
   "cell_type": "code",
   "execution_count": 11,
   "metadata": {},
   "outputs": [
    {
     "data": {
      "text/html": [
       "<div>\n",
       "<style scoped>\n",
       "    .dataframe tbody tr th:only-of-type {\n",
       "        vertical-align: middle;\n",
       "    }\n",
       "\n",
       "    .dataframe tbody tr th {\n",
       "        vertical-align: top;\n",
       "    }\n",
       "\n",
       "    .dataframe thead th {\n",
       "        text-align: right;\n",
       "    }\n",
       "</style>\n",
       "<table border=\"1\" class=\"dataframe\">\n",
       "  <thead>\n",
       "    <tr style=\"text-align: right;\">\n",
       "      <th></th>\n",
       "      <th></th>\n",
       "      <th></th>\n",
       "      <th></th>\n",
       "      <th></th>\n",
       "      <th>CHL</th>\n",
       "    </tr>\n",
       "    <tr>\n",
       "      <th>year</th>\n",
       "      <th>month</th>\n",
       "      <th>day</th>\n",
       "      <th>latitude</th>\n",
       "      <th>longitude</th>\n",
       "      <th></th>\n",
       "    </tr>\n",
       "  </thead>\n",
       "  <tbody>\n",
       "    <tr>\n",
       "      <th rowspan=\"5\" valign=\"top\">1997</th>\n",
       "      <th rowspan=\"5\" valign=\"top\">9</th>\n",
       "      <th rowspan=\"5\" valign=\"top\">1</th>\n",
       "      <th rowspan=\"5\" valign=\"top\">60.0</th>\n",
       "      <th>-60.00</th>\n",
       "      <td>0.398709</td>\n",
       "    </tr>\n",
       "    <tr>\n",
       "      <th>-59.75</th>\n",
       "      <td>0.360659</td>\n",
       "    </tr>\n",
       "    <tr>\n",
       "      <th>-59.50</th>\n",
       "      <td>0.344952</td>\n",
       "    </tr>\n",
       "    <tr>\n",
       "      <th>-59.25</th>\n",
       "      <td>0.328261</td>\n",
       "    </tr>\n",
       "    <tr>\n",
       "      <th>-59.00</th>\n",
       "      <td>0.321946</td>\n",
       "    </tr>\n",
       "  </tbody>\n",
       "</table>\n",
       "</div>"
      ],
      "text/plain": [
       "                                        CHL\n",
       "year month day latitude longitude          \n",
       "1997 9     1   60.0     -60.00     0.398709\n",
       "                        -59.75     0.360659\n",
       "                        -59.50     0.344952\n",
       "                        -59.25     0.328261\n",
       "                        -59.00     0.321946"
      ]
     },
     "execution_count": 11,
     "metadata": {},
     "output_type": "execute_result"
    }
   ],
   "source": [
    "# reomve the time column\n",
    "df_cg = df_cg.drop(columns=[\"time\"])\n",
    "df_cg = df_cg.set_index([\"year\",\"month\",\"day\",\"latitude\",\"longitude\"])\n",
    "\n",
    "df_cg.head()"
   ]
  },
  {
   "cell_type": "markdown",
   "metadata": {},
   "source": [
    "Checking number of months in each year and number of days in each month"
   ]
  },
  {
   "cell_type": "code",
   "execution_count": 12,
   "metadata": {},
   "outputs": [
    {
     "data": {
      "text/html": [
       "<div>\n",
       "<style scoped>\n",
       "    .dataframe tbody tr th:only-of-type {\n",
       "        vertical-align: middle;\n",
       "    }\n",
       "\n",
       "    .dataframe tbody tr th {\n",
       "        vertical-align: top;\n",
       "    }\n",
       "\n",
       "    .dataframe thead th {\n",
       "        text-align: right;\n",
       "    }\n",
       "</style>\n",
       "<table border=\"1\" class=\"dataframe\">\n",
       "  <thead>\n",
       "    <tr style=\"text-align: right;\">\n",
       "      <th></th>\n",
       "      <th>year</th>\n",
       "      <th>month</th>\n",
       "      <th>day</th>\n",
       "    </tr>\n",
       "  </thead>\n",
       "  <tbody>\n",
       "    <tr>\n",
       "      <th>0</th>\n",
       "      <td>1997</td>\n",
       "      <td>9</td>\n",
       "      <td>1</td>\n",
       "    </tr>\n",
       "    <tr>\n",
       "      <th>110</th>\n",
       "      <td>1997</td>\n",
       "      <td>10</td>\n",
       "      <td>1</td>\n",
       "    </tr>\n",
       "    <tr>\n",
       "      <th>206</th>\n",
       "      <td>1997</td>\n",
       "      <td>11</td>\n",
       "      <td>1</td>\n",
       "    </tr>\n",
       "    <tr>\n",
       "      <th>214</th>\n",
       "      <td>1998</td>\n",
       "      <td>1</td>\n",
       "      <td>31</td>\n",
       "    </tr>\n",
       "    <tr>\n",
       "      <th>290</th>\n",
       "      <td>1998</td>\n",
       "      <td>2</td>\n",
       "      <td>28</td>\n",
       "    </tr>\n",
       "  </tbody>\n",
       "</table>\n",
       "</div>"
      ],
      "text/plain": [
       "     year  month  day\n",
       "0    1997      9    1\n",
       "110  1997     10    1\n",
       "206  1997     11    1\n",
       "214  1998      1   31\n",
       "290  1998      2   28"
      ]
     },
     "execution_count": 12,
     "metadata": {},
     "output_type": "execute_result"
    }
   ],
   "source": [
    "df_time = df_cg.reset_index()\n",
    "df_time = df_time[[\"year\",\"month\",\"day\"]]\n",
    "df_time = df_time.drop_duplicates()\n",
    "df_time.head()"
   ]
  },
  {
   "cell_type": "code",
   "execution_count": 13,
   "metadata": {},
   "outputs": [
    {
     "data": {
      "text/plain": [
       "array([ 1, 31, 28, 30, 29])"
      ]
     },
     "execution_count": 13,
     "metadata": {},
     "output_type": "execute_result"
    }
   ],
   "source": [
    "# unique day values\n",
    "df_time.day.unique()"
   ]
  },
  {
   "cell_type": "markdown",
   "metadata": {},
   "source": [
    "Are there any months with more than 1 days?"
   ]
  },
  {
   "cell_type": "code",
   "execution_count": 14,
   "metadata": {},
   "outputs": [
    {
     "data": {
      "text/html": [
       "<div>\n",
       "<style scoped>\n",
       "    .dataframe tbody tr th:only-of-type {\n",
       "        vertical-align: middle;\n",
       "    }\n",
       "\n",
       "    .dataframe tbody tr th {\n",
       "        vertical-align: top;\n",
       "    }\n",
       "\n",
       "    .dataframe thead th {\n",
       "        text-align: right;\n",
       "    }\n",
       "</style>\n",
       "<table border=\"1\" class=\"dataframe\">\n",
       "  <thead>\n",
       "    <tr style=\"text-align: right;\">\n",
       "      <th></th>\n",
       "      <th>year</th>\n",
       "      <th>month</th>\n",
       "      <th>day</th>\n",
       "    </tr>\n",
       "  </thead>\n",
       "  <tbody>\n",
       "    <tr>\n",
       "      <th>0</th>\n",
       "      <td>1997</td>\n",
       "      <td>9</td>\n",
       "      <td>1</td>\n",
       "    </tr>\n",
       "    <tr>\n",
       "      <th>1</th>\n",
       "      <td>1997</td>\n",
       "      <td>10</td>\n",
       "      <td>1</td>\n",
       "    </tr>\n",
       "    <tr>\n",
       "      <th>2</th>\n",
       "      <td>1997</td>\n",
       "      <td>11</td>\n",
       "      <td>1</td>\n",
       "    </tr>\n",
       "    <tr>\n",
       "      <th>3</th>\n",
       "      <td>1998</td>\n",
       "      <td>1</td>\n",
       "      <td>1</td>\n",
       "    </tr>\n",
       "    <tr>\n",
       "      <th>4</th>\n",
       "      <td>1998</td>\n",
       "      <td>2</td>\n",
       "      <td>1</td>\n",
       "    </tr>\n",
       "  </tbody>\n",
       "</table>\n",
       "</div>"
      ],
      "text/plain": [
       "   year  month  day\n",
       "0  1997      9    1\n",
       "1  1997     10    1\n",
       "2  1997     11    1\n",
       "3  1998      1    1\n",
       "4  1998      2    1"
      ]
     },
     "execution_count": 14,
     "metadata": {},
     "output_type": "execute_result"
    }
   ],
   "source": [
    "df_days_in_month = df_time.groupby([\"year\",\"month\"])[\"day\"].count()\n",
    "df_days_in_month = df_days_in_month.reset_index()\n",
    "df_days_in_month.head()"
   ]
  },
  {
   "cell_type": "code",
   "execution_count": 15,
   "metadata": {},
   "outputs": [
    {
     "data": {
      "text/html": [
       "<div>\n",
       "<style scoped>\n",
       "    .dataframe tbody tr th:only-of-type {\n",
       "        vertical-align: middle;\n",
       "    }\n",
       "\n",
       "    .dataframe tbody tr th {\n",
       "        vertical-align: top;\n",
       "    }\n",
       "\n",
       "    .dataframe thead th {\n",
       "        text-align: right;\n",
       "    }\n",
       "</style>\n",
       "<table border=\"1\" class=\"dataframe\">\n",
       "  <thead>\n",
       "    <tr style=\"text-align: right;\">\n",
       "      <th></th>\n",
       "      <th>year</th>\n",
       "      <th>month</th>\n",
       "      <th>day</th>\n",
       "    </tr>\n",
       "  </thead>\n",
       "  <tbody>\n",
       "    <tr>\n",
       "      <th>41</th>\n",
       "      <td>2001</td>\n",
       "      <td>9</td>\n",
       "      <td>2</td>\n",
       "    </tr>\n",
       "    <tr>\n",
       "      <th>60</th>\n",
       "      <td>2003</td>\n",
       "      <td>7</td>\n",
       "      <td>2</td>\n",
       "    </tr>\n",
       "    <tr>\n",
       "      <th>68</th>\n",
       "      <td>2004</td>\n",
       "      <td>5</td>\n",
       "      <td>2</td>\n",
       "    </tr>\n",
       "    <tr>\n",
       "      <th>87</th>\n",
       "      <td>2006</td>\n",
       "      <td>3</td>\n",
       "      <td>2</td>\n",
       "    </tr>\n",
       "    <tr>\n",
       "      <th>107</th>\n",
       "      <td>2008</td>\n",
       "      <td>2</td>\n",
       "      <td>2</td>\n",
       "    </tr>\n",
       "    <tr>\n",
       "      <th>195</th>\n",
       "      <td>2016</td>\n",
       "      <td>3</td>\n",
       "      <td>2</td>\n",
       "    </tr>\n",
       "  </tbody>\n",
       "</table>\n",
       "</div>"
      ],
      "text/plain": [
       "     year  month  day\n",
       "41   2001      9    2\n",
       "60   2003      7    2\n",
       "68   2004      5    2\n",
       "87   2006      3    2\n",
       "107  2008      2    2\n",
       "195  2016      3    2"
      ]
     },
     "execution_count": 15,
     "metadata": {},
     "output_type": "execute_result"
    }
   ],
   "source": [
    "df_days_in_month.loc[df_days_in_month[\"day\"]>1]"
   ]
  },
  {
   "cell_type": "code",
   "execution_count": 16,
   "metadata": {},
   "outputs": [
    {
     "data": {
      "text/html": [
       "<div>\n",
       "<style scoped>\n",
       "    .dataframe tbody tr th:only-of-type {\n",
       "        vertical-align: middle;\n",
       "    }\n",
       "\n",
       "    .dataframe tbody tr th {\n",
       "        vertical-align: top;\n",
       "    }\n",
       "\n",
       "    .dataframe thead th {\n",
       "        text-align: right;\n",
       "    }\n",
       "</style>\n",
       "<table border=\"1\" class=\"dataframe\">\n",
       "  <thead>\n",
       "    <tr style=\"text-align: right;\">\n",
       "      <th></th>\n",
       "      <th>year</th>\n",
       "      <th>month</th>\n",
       "      <th>day</th>\n",
       "    </tr>\n",
       "  </thead>\n",
       "  <tbody>\n",
       "    <tr>\n",
       "      <th>5948</th>\n",
       "      <td>2001</td>\n",
       "      <td>9</td>\n",
       "      <td>1</td>\n",
       "    </tr>\n",
       "    <tr>\n",
       "      <th>6143</th>\n",
       "      <td>2001</td>\n",
       "      <td>9</td>\n",
       "      <td>30</td>\n",
       "    </tr>\n",
       "  </tbody>\n",
       "</table>\n",
       "</div>"
      ],
      "text/plain": [
       "      year  month  day\n",
       "5948  2001      9    1\n",
       "6143  2001      9   30"
      ]
     },
     "execution_count": 16,
     "metadata": {},
     "output_type": "execute_result"
    }
   ],
   "source": [
    "df_time.loc[(df_time[\"year\"]==2001) & (df_time[\"month\"]==9)]"
   ]
  },
  {
   "cell_type": "markdown",
   "metadata": {},
   "source": [
    "There are some months where data is given for 1st and last day of the month, even though the data is supposed to be monthly. \n",
    "\n",
    "Averaging out these cases, to get only one value per month"
   ]
  },
  {
   "cell_type": "code",
   "execution_count": 17,
   "metadata": {},
   "outputs": [
    {
     "data": {
      "text/html": [
       "<div>\n",
       "<style scoped>\n",
       "    .dataframe tbody tr th:only-of-type {\n",
       "        vertical-align: middle;\n",
       "    }\n",
       "\n",
       "    .dataframe tbody tr th {\n",
       "        vertical-align: top;\n",
       "    }\n",
       "\n",
       "    .dataframe thead th {\n",
       "        text-align: right;\n",
       "    }\n",
       "</style>\n",
       "<table border=\"1\" class=\"dataframe\">\n",
       "  <thead>\n",
       "    <tr style=\"text-align: right;\">\n",
       "      <th></th>\n",
       "      <th></th>\n",
       "      <th></th>\n",
       "      <th></th>\n",
       "      <th>CHL</th>\n",
       "    </tr>\n",
       "    <tr>\n",
       "      <th>year</th>\n",
       "      <th>month</th>\n",
       "      <th>latitude</th>\n",
       "      <th>longitude</th>\n",
       "      <th></th>\n",
       "    </tr>\n",
       "  </thead>\n",
       "  <tbody>\n",
       "    <tr>\n",
       "      <th rowspan=\"5\" valign=\"top\">1997</th>\n",
       "      <th rowspan=\"5\" valign=\"top\">9</th>\n",
       "      <th rowspan=\"5\" valign=\"top\">60.0</th>\n",
       "      <th>-60.00</th>\n",
       "      <td>0.398709</td>\n",
       "    </tr>\n",
       "    <tr>\n",
       "      <th>-59.75</th>\n",
       "      <td>0.360659</td>\n",
       "    </tr>\n",
       "    <tr>\n",
       "      <th>-59.50</th>\n",
       "      <td>0.344952</td>\n",
       "    </tr>\n",
       "    <tr>\n",
       "      <th>-59.25</th>\n",
       "      <td>0.328261</td>\n",
       "    </tr>\n",
       "    <tr>\n",
       "      <th>-59.00</th>\n",
       "      <td>0.321946</td>\n",
       "    </tr>\n",
       "  </tbody>\n",
       "</table>\n",
       "</div>"
      ],
      "text/plain": [
       "                                    CHL\n",
       "year month latitude longitude          \n",
       "1997 9     60.0     -60.00     0.398709\n",
       "                    -59.75     0.360659\n",
       "                    -59.50     0.344952\n",
       "                    -59.25     0.328261\n",
       "                    -59.00     0.321946"
      ]
     },
     "execution_count": 17,
     "metadata": {},
     "output_type": "execute_result"
    }
   ],
   "source": [
    "# the observation in this dataset are daily\n",
    "# to be consistent across datasets, averaging out to make it monthly\n",
    "df_cg = df_cg.groupby([\"year\",\"month\",\"latitude\",\"longitude\"]).mean()\n",
    "df_cg = df_cg.drop(columns = [\"day\"])\n",
    "df_cg.head()"
   ]
  },
  {
   "cell_type": "code",
   "execution_count": 18,
   "metadata": {},
   "outputs": [],
   "source": [
    "df_cg.to_csv(filename+\".csv\")"
   ]
  }
 ],
 "metadata": {
  "kernelspec": {
   "display_name": "new_atlantis",
   "language": "python",
   "name": "python3"
  },
  "language_info": {
   "codemirror_mode": {
    "name": "ipython",
    "version": 3
   },
   "file_extension": ".py",
   "mimetype": "text/x-python",
   "name": "python",
   "nbconvert_exporter": "python",
   "pygments_lexer": "ipython3",
   "version": "3.12.4"
  }
 },
 "nbformat": 4,
 "nbformat_minor": 2
}
