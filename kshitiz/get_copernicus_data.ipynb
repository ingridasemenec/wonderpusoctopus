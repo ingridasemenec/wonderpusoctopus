{
 "cells": [
  {
   "cell_type": "code",
   "execution_count": 1,
   "metadata": {},
   "outputs": [
    {
     "name": "stderr",
     "output_type": "stream",
     "text": [
      "/home/kshitiz/anaconda3/envs/new_atlantis/lib/python3.12/site-packages/tqdm/auto.py:21: TqdmWarning: IProgress not found. Please update jupyter and ipywidgets. See https://ipywidgets.readthedocs.io/en/stable/user_install.html\n",
      "  from .autonotebook import tqdm as notebook_tqdm\n"
     ]
    }
   ],
   "source": [
    "import pandas as pd\n",
    "import numpy as np\n",
    "import copernicusmarine as cm"
   ]
  },
  {
   "cell_type": "code",
   "execution_count": 2,
   "metadata": {},
   "outputs": [
    {
     "name": "stdout",
     "output_type": "stream",
     "text": [
      "File /home/kshitiz/.copernicusmarine/.copernicusmarine-credentials already exists, overwrite it ? [y/N]:"
     ]
    },
    {
     "name": "stderr",
     "output_type": "stream",
     "text": [
      "INFO - 2024-07-31T21:27:35Z - Credentials file stored in /home/kshitiz/.copernicusmarine/.copernicusmarine-credentials.\n"
     ]
    },
    {
     "data": {
      "text/plain": [
       "True"
      ]
     },
     "execution_count": 2,
     "metadata": {},
     "output_type": "execute_result"
    }
   ],
   "source": [
    "cm.login(username=\"kparihar\", password=\"axv1xrv@nhu3WJW0jrh\")"
   ]
  },
  {
   "cell_type": "markdown",
   "metadata": {},
   "source": [
    "Dataset 1: Global Ocean Color (https://data.marine.copernicus.eu/product/OCEANCOLOUR_GLO_BGC_L4_MY_009_104/description)\n",
    "- dataset_id: \"cmems_obs-oc_glo_bgc-plankton_my_l4-multi-4km_P1M\"\n",
    "- variables: [\"CHL\"]\n",
    "- Parameter definitions:\n",
    "    - CHL [mg/m3]: Mass concentration of chlorophyll a in sea water\n",
    "- Spatial resolution: 4km x 4km\n",
    "\n",
    "Dataset 2: Global Ocean OSTIA Sea Surface Temperature (https://data.marine.copernicus.eu/product/SST_GLO_SST_L4_REP_OBSERVATIONS_010_011/description)\n",
    "- dataset_id: \"METOFFICE-GLO-SST-L4-REP-OBS-SST\"\n",
    "- variables: [\"analysed_sst\"]\n",
    "- Parameter definitions:\n",
    "    - analysed_sst [K]: Sea surface temperature\n",
    "- Spatial resolution: 0.05deg x 0.05deg\n",
    "\n",
    "Dataset 3: Multi Observation Global Ocean Sea Surface Salinity and Sea Surface Density (https://data.marine.copernicus.eu/product/MULTIOBS_GLO_PHY_S_SURFACE_MYNRT_015_013/description)\n",
    "- dataset_id: \"cmems_obs-mob_glo_phy-sss_my_multi_P1M\"\n",
    "- variables: [\"sos\",\"dos\"]\n",
    "- Parameter definitions: \n",
    "    - sos: Sea surface salinity\n",
    "    - dos [kg/m3]: sea surface density\n",
    "- Spatial resolution: 0.125deg x 0.125deg\n",
    "\n",
    "Dataset 4: Global Ocean Surface Carbon (https://data.marine.copernicus.eu/product/MULTIOBS_GLO_BIO_CARBON_SURFACE_REP_015_008/description)\n",
    "- dataset_id: \"dataset-carbon-rep-monthly\"\n",
    "- variables: [\"fgco2\",\"omega_ar\",\"omega_ca\",\"ph\",\"spco2\",\"talk\",\"tco2\"]\n",
    "- Parameter definitions:\n",
    "    - fgco2 [molC/m2/yr]: Surface downward mass flux of carbon dioxide expressed as carbon\n",
    "    - omega_ar: Aragonite saturation state in sea water\n",
    "    - omega_ca: Calcite saturation state in sea water\n",
    "    - ph: Sea water ph reported on total scale\n",
    "    - spco2 [micro atm]: Surface partial pressure of carbon dioxide in sea water\n",
    "    - talk [micro/mol kg]: Total alkalinity in sea water\n",
    "    - tco2 [micro/mol kg]: dissolved inorganic carbon in sea water\n",
    "- Spatial resolution: 0.25deg x 0.25deg\n",
    "- NOTE: though the resolution is same as that for Pisces, the coordinates at which the values are provided are different from pisces. so in this case coarse_grain() would just make adjustments to align the coordinates with pisces\n",
    "\n",
    "Dataset 5: Bathymetry (Sea floor depth below geoid) data from Global Ocean Physics Reanalysis (https://data.marine.copernicus.eu/product/GLOBAL_MULTIYEAR_PHY_001_030/description)\n",
    "- dataset_id: \"cmems_mod_glo_phy_my_0.083deg_static\"\n",
    "- variables: [\"deptho\"]\n",
    "- Parameter definition:\n",
    "    - deptho [m]: Sea floor depth below geoid\n",
    "- Spatial resolution: 0.083deg x 0.083deg\n",
    "Also need to specify min and max depth parameters for getting bathymetry data\n",
    "- depth: [0.49402499198913574, 5727.9169921875]"
   ]
  },
  {
   "cell_type": "code",
   "execution_count": 17,
   "metadata": {},
   "outputs": [],
   "source": [
    "# filename for saving the data as csv\n",
    "filename = 'carbon'"
   ]
  },
  {
   "cell_type": "code",
   "execution_count": 18,
   "metadata": {},
   "outputs": [],
   "source": [
    "# Set parameters\n",
    "data_request = {\n",
    "    \"dataset_id\" : \"dataset-carbon-rep-monthly\",\n",
    "    \"variables\" : [\"fgco2\",\"omega_ar\",\"omega_ca\",\"ph\",\"spco2\",\"talk\",\"tco2\"],\n",
    "    \"longitude\" : [-180, 180], \n",
    "    \"latitude\" : [-90, 90],\n",
    "    \"time\" : [\"2021-03-01\", \"2021-03-31\"],\n",
    "    \"depth\": [None, None] # for bathymetry set it to [0.49402499198913574, 5727.9169921875]\n",
    "}"
   ]
  },
  {
   "cell_type": "code",
   "execution_count": 19,
   "metadata": {},
   "outputs": [
    {
     "name": "stderr",
     "output_type": "stream",
     "text": [
      "INFO - 2024-07-31T21:33:17Z - Dataset version was not specified, the latest one was selected: \"202311\"\n",
      "INFO - 2024-07-31T21:33:17Z - Dataset part was not specified, the first one was selected: \"default\"\n",
      "INFO - 2024-07-31T21:33:19Z - Service was not specified, the default one was selected: \"arco-geo-series\"\n",
      "WARNING - 2024-07-31T21:33:21Z - Some or all of your subset selection [-90, 90] for the latitude dimension  exceed the dataset coordinates [-88.125, 89.875]\n",
      "WARNING - 2024-07-31T21:33:21Z - Some or all of your subset selection [-180.0, 180.0] for the longitude dimension  exceed the dataset coordinates [-179.875, 179.875]\n",
      "/home/kshitiz/anaconda3/envs/new_atlantis/lib/python3.12/site-packages/copernicusmarine/download_functions/subset_xarray.py:477: UserWarning: Discarding nonzero nanoseconds in conversion.\n",
      "  return Timestamp(date).to_pydatetime()\n"
     ]
    }
   ],
   "source": [
    "df = cm.read_dataframe(\n",
    "    dataset_id=data_request[\"dataset_id\"],\n",
    "    variables=data_request[\"variables\"],\n",
    "    minimum_longitude=data_request[\"longitude\"][0],\n",
    "    maximum_longitude=data_request[\"longitude\"][1],\n",
    "    minimum_latitude=data_request[\"latitude\"][0],\n",
    "    maximum_latitude=data_request[\"latitude\"][1],\n",
    "    minimum_depth=data_request[\"depth\"][0],\n",
    "    maximum_depth=data_request[\"depth\"][1],\n",
    "    start_datetime=data_request[\"time\"][0],\n",
    "    end_datetime=data_request[\"time\"][0]\n",
    ")"
   ]
  },
  {
   "cell_type": "code",
   "execution_count": 20,
   "metadata": {},
   "outputs": [
    {
     "data": {
      "text/html": [
       "<div>\n",
       "<style scoped>\n",
       "    .dataframe tbody tr th:only-of-type {\n",
       "        vertical-align: middle;\n",
       "    }\n",
       "\n",
       "    .dataframe tbody tr th {\n",
       "        vertical-align: top;\n",
       "    }\n",
       "\n",
       "    .dataframe thead th {\n",
       "        text-align: right;\n",
       "    }\n",
       "</style>\n",
       "<table border=\"1\" class=\"dataframe\">\n",
       "  <thead>\n",
       "    <tr style=\"text-align: right;\">\n",
       "      <th></th>\n",
       "      <th>latitude</th>\n",
       "      <th>longitude</th>\n",
       "      <th>fgco2</th>\n",
       "      <th>omega_ar</th>\n",
       "      <th>omega_ca</th>\n",
       "      <th>ph</th>\n",
       "      <th>spco2</th>\n",
       "      <th>talk</th>\n",
       "      <th>tco2</th>\n",
       "    </tr>\n",
       "  </thead>\n",
       "  <tbody>\n",
       "    <tr>\n",
       "      <th>73440</th>\n",
       "      <td>-75.375</td>\n",
       "      <td>-179.875</td>\n",
       "      <td>1.587086</td>\n",
       "      <td>1.466226</td>\n",
       "      <td>2.338735</td>\n",
       "      <td>8.087303</td>\n",
       "      <td>351.455200</td>\n",
       "      <td>2321.090332</td>\n",
       "      <td>2194.776367</td>\n",
       "    </tr>\n",
       "    <tr>\n",
       "      <th>73441</th>\n",
       "      <td>-75.375</td>\n",
       "      <td>-179.625</td>\n",
       "      <td>1.428289</td>\n",
       "      <td>1.458979</td>\n",
       "      <td>2.327192</td>\n",
       "      <td>8.085032</td>\n",
       "      <td>353.459381</td>\n",
       "      <td>2320.877197</td>\n",
       "      <td>2195.430908</td>\n",
       "    </tr>\n",
       "    <tr>\n",
       "      <th>73442</th>\n",
       "      <td>-75.375</td>\n",
       "      <td>-179.375</td>\n",
       "      <td>1.288172</td>\n",
       "      <td>1.454097</td>\n",
       "      <td>2.319419</td>\n",
       "      <td>8.083524</td>\n",
       "      <td>354.782806</td>\n",
       "      <td>2320.651367</td>\n",
       "      <td>2195.791016</td>\n",
       "    </tr>\n",
       "    <tr>\n",
       "      <th>73443</th>\n",
       "      <td>-75.375</td>\n",
       "      <td>-179.125</td>\n",
       "      <td>1.154647</td>\n",
       "      <td>1.447437</td>\n",
       "      <td>2.308806</td>\n",
       "      <td>8.081388</td>\n",
       "      <td>356.694336</td>\n",
       "      <td>2320.527588</td>\n",
       "      <td>2196.470459</td>\n",
       "    </tr>\n",
       "    <tr>\n",
       "      <th>73444</th>\n",
       "      <td>-75.375</td>\n",
       "      <td>-178.875</td>\n",
       "      <td>1.018365</td>\n",
       "      <td>1.438670</td>\n",
       "      <td>2.294847</td>\n",
       "      <td>8.078671</td>\n",
       "      <td>359.114868</td>\n",
       "      <td>2320.257324</td>\n",
       "      <td>2197.253906</td>\n",
       "    </tr>\n",
       "  </tbody>\n",
       "</table>\n",
       "</div>"
      ],
      "text/plain": [
       "       latitude  longitude     fgco2  omega_ar  omega_ca        ph  \\\n",
       "73440   -75.375   -179.875  1.587086  1.466226  2.338735  8.087303   \n",
       "73441   -75.375   -179.625  1.428289  1.458979  2.327192  8.085032   \n",
       "73442   -75.375   -179.375  1.288172  1.454097  2.319419  8.083524   \n",
       "73443   -75.375   -179.125  1.154647  1.447437  2.308806  8.081388   \n",
       "73444   -75.375   -178.875  1.018365  1.438670  2.294847  8.078671   \n",
       "\n",
       "            spco2         talk         tco2  \n",
       "73440  351.455200  2321.090332  2194.776367  \n",
       "73441  353.459381  2320.877197  2195.430908  \n",
       "73442  354.782806  2320.651367  2195.791016  \n",
       "73443  356.694336  2320.527588  2196.470459  \n",
       "73444  359.114868  2320.257324  2197.253906  "
      ]
     },
     "execution_count": 20,
     "metadata": {},
     "output_type": "execute_result"
    }
   ],
   "source": [
    "# remove the index columns corresponding to time, latitude and longitude\n",
    "df = df.reset_index()\n",
    "# only keep latitude, longitude and feature columns\n",
    "df = df[[\"latitude\",\"longitude\"]+data_request[\"variables\"]]\n",
    "# drop na rows\n",
    "df = df.dropna()\n",
    "\n",
    "df.head()"
   ]
  },
  {
   "cell_type": "code",
   "execution_count": 14,
   "metadata": {},
   "outputs": [],
   "source": [
    "# function to coarse grain the data and make resolution same as Pisces data\n",
    "def coarse_grain(df, features):\n",
    "  \"\"\"\n",
    "    Parameters\n",
    "    ----------\n",
    "    df: pandas dataframe containing the data accessed from copernicus mariner\n",
    "    features: name of the features in the dataframe\n",
    "\n",
    "    Output\n",
    "    ------\n",
    "    a pandas dataframe with feature values for 0.25 deg x 0.25 deg resolution \n",
    "\n",
    "    \"\"\"\n",
    "  \n",
    "  df[\"0_1\"] = df[\"latitude\"].to_numpy() - np.floor(df[\"latitude\"])\n",
    "  conditions = [df[\"0_1\"] < 0.25,\n",
    "                (df[\"0_1\"] >= 0.25)  & (df[\"0_1\"] < 0.5),\n",
    "                (df[\"0_1\"] >= 0.5)  & (df[\"0_1\"] < 0.75),\n",
    "                (df[\"0_1\"] >= 0.75)  & (df[\"0_1\"] < 1)]\n",
    "  outputs = [0, 0.25, 0.5, 0.75]\n",
    "  df['latitude'] = np.floor(df[\"latitude\"]) + np.select(conditions, outputs)\n",
    "  df = df.drop(columns=[\"0_1\"])\n",
    "\n",
    "  df[\"0_1\"] = df[\"longitude\"].to_numpy() - np.floor(df[\"longitude\"])\n",
    "  # if not redefined then conditions is based on latitude\n",
    "  conditions = [df[\"0_1\"] < 0.25,\n",
    "              (df[\"0_1\"] >= 0.25)  & (df[\"0_1\"] < 0.5),\n",
    "              (df[\"0_1\"] >= 0.5)  & (df[\"0_1\"] < 0.75),\n",
    "              (df[\"0_1\"] >= 0.75)  & (df[\"0_1\"] < 1)]\n",
    "  df['longitude'] = np.floor(df[\"longitude\"]) + np.select(conditions, outputs)\n",
    "  df = df.drop(columns=[\"0_1\"])\n",
    "\n",
    "  return df.groupby([\"latitude\",\"longitude\"])[features].mean() "
   ]
  },
  {
   "cell_type": "code",
   "execution_count": 21,
   "metadata": {},
   "outputs": [
    {
     "name": "stdout",
     "output_type": "stream",
     "text": [
      "(579411, 7)\n"
     ]
    },
    {
     "data": {
      "text/html": [
       "<div>\n",
       "<style scoped>\n",
       "    .dataframe tbody tr th:only-of-type {\n",
       "        vertical-align: middle;\n",
       "    }\n",
       "\n",
       "    .dataframe tbody tr th {\n",
       "        vertical-align: top;\n",
       "    }\n",
       "\n",
       "    .dataframe thead th {\n",
       "        text-align: right;\n",
       "    }\n",
       "</style>\n",
       "<table border=\"1\" class=\"dataframe\">\n",
       "  <thead>\n",
       "    <tr style=\"text-align: right;\">\n",
       "      <th></th>\n",
       "      <th></th>\n",
       "      <th>fgco2</th>\n",
       "      <th>omega_ar</th>\n",
       "      <th>omega_ca</th>\n",
       "      <th>ph</th>\n",
       "      <th>spco2</th>\n",
       "      <th>talk</th>\n",
       "      <th>tco2</th>\n",
       "    </tr>\n",
       "    <tr>\n",
       "      <th>latitude</th>\n",
       "      <th>longitude</th>\n",
       "      <th></th>\n",
       "      <th></th>\n",
       "      <th></th>\n",
       "      <th></th>\n",
       "      <th></th>\n",
       "      <th></th>\n",
       "      <th></th>\n",
       "    </tr>\n",
       "  </thead>\n",
       "  <tbody>\n",
       "    <tr>\n",
       "      <th rowspan=\"5\" valign=\"top\">-75.5</th>\n",
       "      <th>-180.00</th>\n",
       "      <td>1.587086</td>\n",
       "      <td>1.466226</td>\n",
       "      <td>2.338735</td>\n",
       "      <td>8.087303</td>\n",
       "      <td>351.455200</td>\n",
       "      <td>2321.090332</td>\n",
       "      <td>2194.776367</td>\n",
       "    </tr>\n",
       "    <tr>\n",
       "      <th>-179.75</th>\n",
       "      <td>1.428289</td>\n",
       "      <td>1.458979</td>\n",
       "      <td>2.327192</td>\n",
       "      <td>8.085032</td>\n",
       "      <td>353.459381</td>\n",
       "      <td>2320.877197</td>\n",
       "      <td>2195.430908</td>\n",
       "    </tr>\n",
       "    <tr>\n",
       "      <th>-179.50</th>\n",
       "      <td>1.288172</td>\n",
       "      <td>1.454097</td>\n",
       "      <td>2.319419</td>\n",
       "      <td>8.083524</td>\n",
       "      <td>354.782806</td>\n",
       "      <td>2320.651367</td>\n",
       "      <td>2195.791016</td>\n",
       "    </tr>\n",
       "    <tr>\n",
       "      <th>-179.25</th>\n",
       "      <td>1.154647</td>\n",
       "      <td>1.447437</td>\n",
       "      <td>2.308806</td>\n",
       "      <td>8.081388</td>\n",
       "      <td>356.694336</td>\n",
       "      <td>2320.527588</td>\n",
       "      <td>2196.470459</td>\n",
       "    </tr>\n",
       "    <tr>\n",
       "      <th>-179.00</th>\n",
       "      <td>1.018365</td>\n",
       "      <td>1.438670</td>\n",
       "      <td>2.294847</td>\n",
       "      <td>8.078671</td>\n",
       "      <td>359.114868</td>\n",
       "      <td>2320.257324</td>\n",
       "      <td>2197.253906</td>\n",
       "    </tr>\n",
       "  </tbody>\n",
       "</table>\n",
       "</div>"
      ],
      "text/plain": [
       "                       fgco2  omega_ar  omega_ca        ph       spco2  \\\n",
       "latitude longitude                                                       \n",
       "-75.5    -180.00    1.587086  1.466226  2.338735  8.087303  351.455200   \n",
       "         -179.75    1.428289  1.458979  2.327192  8.085032  353.459381   \n",
       "         -179.50    1.288172  1.454097  2.319419  8.083524  354.782806   \n",
       "         -179.25    1.154647  1.447437  2.308806  8.081388  356.694336   \n",
       "         -179.00    1.018365  1.438670  2.294847  8.078671  359.114868   \n",
       "\n",
       "                           talk         tco2  \n",
       "latitude longitude                            \n",
       "-75.5    -180.00    2321.090332  2194.776367  \n",
       "         -179.75    2320.877197  2195.430908  \n",
       "         -179.50    2320.651367  2195.791016  \n",
       "         -179.25    2320.527588  2196.470459  \n",
       "         -179.00    2320.257324  2197.253906  "
      ]
     },
     "execution_count": 21,
     "metadata": {},
     "output_type": "execute_result"
    }
   ],
   "source": [
    "# Need coarse grain the values because all these datasets have finer resolution than Pisces data\n",
    "# Pisces data has resolution of 0.25 deg x 0.25 deg\n",
    "df_cg = coarse_grain(df, df.columns[2:].tolist())\n",
    "print(df_cg.shape)\n",
    "df_cg.head()"
   ]
  },
  {
   "cell_type": "code",
   "execution_count": 16,
   "metadata": {},
   "outputs": [],
   "source": [
    "df_cg.to_csv(filename+\"_cg.csv\")"
   ]
  }
 ],
 "metadata": {
  "kernelspec": {
   "display_name": "new_atlantis",
   "language": "python",
   "name": "python3"
  },
  "language_info": {
   "codemirror_mode": {
    "name": "ipython",
    "version": 3
   },
   "file_extension": ".py",
   "mimetype": "text/x-python",
   "name": "python",
   "nbconvert_exporter": "python",
   "pygments_lexer": "ipython3",
   "version": "3.12.4"
  }
 },
 "nbformat": 4,
 "nbformat_minor": 2
}
